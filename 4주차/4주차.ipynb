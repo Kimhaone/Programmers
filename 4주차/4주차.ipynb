{
 "cells": [
  {
   "cell_type": "code",
   "execution_count": 9,
   "id": "24b5f22d",
   "metadata": {},
   "outputs": [],
   "source": [
    "import optuna\n",
    "import numpy as np\n",
    "import pandas as pd"
   ]
  },
  {
   "cell_type": "code",
   "execution_count": 75,
   "id": "d4609b7d",
   "metadata": {},
   "outputs": [],
   "source": [
    "train_df = pd.read_csv(\"train.csv\")\n",
    "test_df = pd.read_csv(\"test.csv\")\n",
    "submission = pd.read_csv('sample_submission.csv')"
   ]
  },
  {
   "cell_type": "code",
   "execution_count": 12,
   "id": "6ee1e635",
   "metadata": {},
   "outputs": [],
   "source": [
    "all_df = pd.concat([train_df, test_df], sort=False).reset_index(drop=True)"
   ]
  },
  {
   "cell_type": "code",
   "execution_count": 13,
   "id": "ad8511ad",
   "metadata": {
    "scrolled": true
   },
   "outputs": [
    {
     "name": "stdout",
     "output_type": "stream",
     "text": [
      "Index(['MSZoning', 'Street', 'Alley', 'LotShape', 'LandContour', 'Utilities',\n",
      "       'LotConfig', 'LandSlope', 'Neighborhood', 'Condition1', 'Condition2',\n",
      "       'BldgType', 'HouseStyle', 'RoofStyle', 'RoofMatl', 'Exterior1st',\n",
      "       'Exterior2nd', 'MasVnrType', 'ExterQual', 'ExterCond', 'Foundation',\n",
      "       'BsmtQual', 'BsmtCond', 'BsmtExposure', 'BsmtFinType1', 'BsmtFinType2',\n",
      "       'Heating', 'HeatingQC', 'CentralAir', 'Electrical', 'KitchenQual',\n",
      "       'Functional', 'FireplaceQu', 'GarageType', 'GarageFinish', 'GarageQual',\n",
      "       'GarageCond', 'PavedDrive', 'PoolQC', 'Fence', 'MiscFeature',\n",
      "       'SaleType', 'SaleCondition'],\n",
      "      dtype='object')\n",
      "MSZoning\n",
      "Street\n",
      "Alley\n",
      "LotShape\n",
      "LandContour\n",
      "Utilities\n",
      "LotConfig\n",
      "LandSlope\n",
      "Neighborhood\n",
      "Condition1\n",
      "Condition2\n",
      "BldgType\n",
      "HouseStyle\n",
      "RoofStyle\n",
      "RoofMatl\n",
      "Exterior1st\n",
      "Exterior2nd\n",
      "MasVnrType\n",
      "ExterQual\n",
      "ExterCond\n",
      "Foundation\n",
      "BsmtQual\n",
      "BsmtCond\n",
      "BsmtExposure\n",
      "BsmtFinType1\n",
      "BsmtFinType2\n",
      "Heating\n",
      "HeatingQC\n",
      "CentralAir\n",
      "Electrical\n",
      "KitchenQual\n",
      "Functional\n",
      "FireplaceQu\n",
      "GarageType\n",
      "GarageFinish\n",
      "GarageQual\n",
      "GarageCond\n",
      "PavedDrive\n",
      "PoolQC\n",
      "Fence\n",
      "MiscFeature\n",
      "SaleType\n",
      "SaleCondition\n"
     ]
    }
   ],
   "source": [
    "from sklearn.preprocessing import LabelEncoder\n",
    "categories = all_df.columns[all_df.dtypes == \"object\"]\n",
    "print(categories)\n",
    "\n",
    "for cat in categories:\n",
    "    le = LabelEncoder()\n",
    "    print(cat)\n",
    "    \n",
    "    all_df[cat].fillna(\"missing\", inplace=True)    \n",
    "    le = le.fit(all_df[cat])\n",
    "    all_df[cat] = le.transform(all_df[cat])\n",
    "    all_df[cat] = all_df[cat].astype(\"category\")"
   ]
  },
  {
   "cell_type": "code",
   "execution_count": 14,
   "id": "39277dd0",
   "metadata": {},
   "outputs": [],
   "source": [
    "train_df_le = all_df[~all_df[\"SalePrice\"].isnull()]\n",
    "test_df_le = all_df[all_df[\"SalePrice\"].isnull()]"
   ]
  },
  {
   "cell_type": "code",
   "execution_count": 15,
   "id": "ae7bc190",
   "metadata": {},
   "outputs": [],
   "source": [
    "import lightgbm as lgb\n",
    "\n",
    "from sklearn.model_selection import KFold\n",
    "folds = 3\n",
    "kf = KFold(n_splits=folds)"
   ]
  },
  {
   "cell_type": "code",
   "execution_count": 16,
   "id": "bdeaed90",
   "metadata": {},
   "outputs": [],
   "source": [
    "lgbm_params = {\n",
    "    \"objective\":\"regression\",\n",
    "    \"random_seed\":1234\n",
    "}\n",
    "\n",
    "train_X = train_df_le.drop([\"SalePrice\", \"Id\"], axis=1) #설명변수\n",
    "train_Y = train_df_le[\"SalePrice\"] #목적변수"
   ]
  },
  {
   "cell_type": "code",
   "execution_count": 17,
   "id": "eeff360a",
   "metadata": {},
   "outputs": [],
   "source": [
    "from sklearn.metrics import mean_squared_error"
   ]
  },
  {
   "cell_type": "code",
   "execution_count": 18,
   "id": "25acdde7",
   "metadata": {
    "scrolled": false
   },
   "outputs": [
    {
     "name": "stdout",
     "output_type": "stream",
     "text": [
      "      MSSubClass MSZoning  LotFrontage  LotArea Street Alley LotShape  \\\n",
      "487           20        3         70.0    12243      1     2        0   \n",
      "488          190        3         60.0    10800      1     2        3   \n",
      "489          180        4         21.0     1526      1     2        3   \n",
      "490          160        4          NaN     2665      1     2        3   \n",
      "491           50        3         79.0     9490      1     2        3   \n",
      "...          ...      ...          ...      ...    ...   ...      ...   \n",
      "1455          60        3         62.0     7917      1     2        3   \n",
      "1456          20        3         85.0    13175      1     2        3   \n",
      "1457          70        3         66.0     9042      1     2        3   \n",
      "1458          20        3         68.0     9717      1     2        3   \n",
      "1459          20        3         75.0     9937      1     2        3   \n",
      "\n",
      "     LandContour Utilities LotConfig  ... ScreenPorch PoolArea PoolQC Fence  \\\n",
      "487            3         0         4  ...         180        0      3     4   \n",
      "488            3         0         0  ...           0        0      3     4   \n",
      "489            3         0         4  ...           0        0      3     4   \n",
      "490            3         0         4  ...           0        0      3     4   \n",
      "491            3         0         4  ...           0        0      3     2   \n",
      "...          ...       ...       ...  ...         ...      ...    ...   ...   \n",
      "1455           3         0         4  ...           0        0      3     4   \n",
      "1456           3         0         4  ...           0        0      3     2   \n",
      "1457           3         0         4  ...           0        0      3     0   \n",
      "1458           3         0         4  ...           0        0      3     4   \n",
      "1459           3         0         4  ...           0        0      3     4   \n",
      "\n",
      "     MiscFeature MiscVal  MoSold  YrSold  SaleType  SaleCondition  \n",
      "487            4       0       2    2007         8              4  \n",
      "488            4       0       5    2006         3              4  \n",
      "489            4       0       5    2009         8              4  \n",
      "490            4       0       6    2008         8              4  \n",
      "491            4       0       8    2006         8              4  \n",
      "...          ...     ...     ...     ...       ...            ...  \n",
      "1455           4       0       8    2007         8              4  \n",
      "1456           4       0       2    2010         8              4  \n",
      "1457           2    2500       5    2010         8              4  \n",
      "1458           4       0       4    2010         8              4  \n",
      "1459           4       0       6    2008         8              4  \n",
      "\n",
      "[973 rows x 79 columns]\n",
      "Training until validation scores don't improve for 20 rounds\n",
      "[10]\tvalid_0's l2: 1.60074e+09\n",
      "[20]\tvalid_0's l2: 7.39179e+08\n",
      "[30]\tvalid_0's l2: 5.85154e+08\n",
      "[40]\tvalid_0's l2: 5.3922e+08\n",
      "[50]\tvalid_0's l2: 5.25919e+08\n",
      "[60]\tvalid_0's l2: 5.28033e+08\n",
      "[70]\tvalid_0's l2: 5.2818e+08\n",
      "[80]\tvalid_0's l2: 5.3259e+08\n",
      "Early stopping, best iteration is:\n",
      "[64]\tvalid_0's l2: 5.25247e+08\n",
      "0.12543187919653598\n",
      "      MSSubClass MSZoning  LotFrontage  LotArea Street Alley LotShape  \\\n",
      "0             60        3         65.0     8450      1     2        3   \n",
      "1             20        3         80.0     9600      1     2        3   \n",
      "2             60        3         68.0    11250      1     2        0   \n",
      "3             70        3         60.0     9550      1     2        0   \n",
      "4             60        3         84.0    14260      1     2        0   \n",
      "...          ...      ...          ...      ...    ...   ...      ...   \n",
      "1455          60        3         62.0     7917      1     2        3   \n",
      "1456          20        3         85.0    13175      1     2        3   \n",
      "1457          70        3         66.0     9042      1     2        3   \n",
      "1458          20        3         68.0     9717      1     2        3   \n",
      "1459          20        3         75.0     9937      1     2        3   \n",
      "\n",
      "     LandContour Utilities LotConfig  ... ScreenPorch PoolArea PoolQC Fence  \\\n",
      "0              3         0         4  ...           0        0      3     4   \n",
      "1              3         0         2  ...           0        0      3     4   \n",
      "2              3         0         4  ...           0        0      3     4   \n",
      "3              3         0         0  ...           0        0      3     4   \n",
      "4              3         0         2  ...           0        0      3     4   \n",
      "...          ...       ...       ...  ...         ...      ...    ...   ...   \n",
      "1455           3         0         4  ...           0        0      3     4   \n",
      "1456           3         0         4  ...           0        0      3     2   \n",
      "1457           3         0         4  ...           0        0      3     0   \n",
      "1458           3         0         4  ...           0        0      3     4   \n",
      "1459           3         0         4  ...           0        0      3     4   \n",
      "\n",
      "     MiscFeature MiscVal  MoSold  YrSold  SaleType  SaleCondition  \n",
      "0              4       0       2    2008         8              4  \n",
      "1              4       0       5    2007         8              4  \n",
      "2              4       0       9    2008         8              4  \n",
      "3              4       0       2    2006         8              0  \n",
      "4              4       0      12    2008         8              4  \n",
      "...          ...     ...     ...     ...       ...            ...  \n",
      "1455           4       0       8    2007         8              4  \n",
      "1456           4       0       2    2010         8              4  \n",
      "1457           2    2500       5    2010         8              4  \n",
      "1458           4       0       4    2010         8              4  \n",
      "1459           4       0       6    2008         8              4  \n",
      "\n",
      "[973 rows x 79 columns]\n",
      "Training until validation scores don't improve for 20 rounds\n",
      "[10]\tvalid_0's l2: 2.07664e+09\n",
      "[20]\tvalid_0's l2: 1.21627e+09\n",
      "[30]\tvalid_0's l2: 1.02015e+09\n",
      "[40]\tvalid_0's l2: 9.76764e+08\n",
      "[50]\tvalid_0's l2: 9.46422e+08\n",
      "[60]\tvalid_0's l2: 9.38867e+08\n",
      "[70]\tvalid_0's l2: 9.25777e+08\n",
      "[80]\tvalid_0's l2: 9.20589e+08\n",
      "[90]\tvalid_0's l2: 9.12235e+08\n",
      "[100]\tvalid_0's l2: 9.08891e+08\n",
      "Did not meet early stopping. Best iteration is:\n",
      "[96]\tvalid_0's l2: 9.08298e+08\n",
      "0.150003380902713\n",
      "     MSSubClass MSZoning  LotFrontage  LotArea Street Alley LotShape  \\\n",
      "0            60        3         65.0     8450      1     2        3   \n",
      "1            20        3         80.0     9600      1     2        3   \n",
      "2            60        3         68.0    11250      1     2        0   \n",
      "3            70        3         60.0     9550      1     2        0   \n",
      "4            60        3         84.0    14260      1     2        0   \n",
      "..          ...      ...          ...      ...    ...   ...      ...   \n",
      "969         190        3         75.0    10382      1     2        3   \n",
      "970          50        3         60.0    10800      1     2        3   \n",
      "971         160        3         36.0     2268      1     2        3   \n",
      "972         120        3         55.0     7892      1     2        3   \n",
      "973          20        1         95.0    11639      1     2        3   \n",
      "\n",
      "    LandContour Utilities LotConfig  ... ScreenPorch PoolArea PoolQC Fence  \\\n",
      "0             3         0         4  ...           0        0      3     4   \n",
      "1             3         0         2  ...           0        0      3     4   \n",
      "2             3         0         4  ...           0        0      3     4   \n",
      "3             3         0         0  ...           0        0      3     4   \n",
      "4             3         0         2  ...           0        0      3     4   \n",
      "..          ...       ...       ...  ...         ...      ...    ...   ...   \n",
      "969           3         0         4  ...           0        0      3     4   \n",
      "970           3         0         4  ...           0        0      3     4   \n",
      "971           3         0         4  ...           0        0      3     4   \n",
      "972           3         0         4  ...           0        0      3     4   \n",
      "973           3         0         0  ...           0        0      3     4   \n",
      "\n",
      "    MiscFeature MiscVal  MoSold  YrSold  SaleType  SaleCondition  \n",
      "0             4       0       2    2008         8              4  \n",
      "1             4       0       5    2007         8              4  \n",
      "2             4       0       9    2008         8              4  \n",
      "3             4       0       2    2006         8              0  \n",
      "4             4       0      12    2008         8              4  \n",
      "..          ...     ...     ...     ...       ...            ...  \n",
      "969           4       0       3    2006         3              4  \n",
      "970           4       0      12    2006         8              0  \n",
      "971           4       0       7    2009         8              4  \n",
      "972           4       0       4    2010         8              4  \n",
      "973           4       0      12    2008         6              5  \n",
      "\n",
      "[974 rows x 79 columns]\n"
     ]
    },
    {
     "name": "stdout",
     "output_type": "stream",
     "text": [
      "Training until validation scores don't improve for 20 rounds\n",
      "[10]\tvalid_0's l2: 1.78839e+09\n",
      "[20]\tvalid_0's l2: 1.03494e+09\n",
      "[30]\tvalid_0's l2: 8.76655e+08\n",
      "[40]\tvalid_0's l2: 8.61221e+08\n",
      "[50]\tvalid_0's l2: 8.70283e+08\n",
      "[60]\tvalid_0's l2: 8.52573e+08\n",
      "[70]\tvalid_0's l2: 8.36406e+08\n",
      "[80]\tvalid_0's l2: 8.38037e+08\n",
      "[90]\tvalid_0's l2: 8.45503e+08\n",
      "[100]\tvalid_0's l2: 8.45187e+08\n",
      "Did not meet early stopping. Best iteration is:\n",
      "[81]\tvalid_0's l2: 8.35675e+08\n",
      "0.1327709996964391\n"
     ]
    }
   ],
   "source": [
    "models = [] #fold 별로 작성한 모델 저장\n",
    "rmses = [] #rmse의 계산 결과를 저장\n",
    "oof = np.zeros(len(train_X)) #초기값 0, fold마다 인덱스 값 생성\n",
    "\n",
    "for train_index, val_index in kf.split(train_X): #train_X를 분할한 결과의 인덱스 얻기\n",
    "    X_train = train_X.iloc[train_index]\n",
    "    X_valid = train_X.iloc[val_index]\n",
    "    y_train = train_Y.iloc[train_index]\n",
    "    y_valid = train_Y.iloc[val_index]\n",
    "    print(X_train)\n",
    "    lgb_train = lgb.Dataset(X_train, y_train)\n",
    "    lgb_eval = lgb.Dataset(X_valid, y_valid, reference=lgb_train)    \n",
    "    \n",
    "    model_lgb = lgb.train(lgbm_params,  #lightGBM 파라미터\n",
    "                          lgb_train, \n",
    "                          valid_sets=lgb_eval, \n",
    "                          num_boost_round=100,\n",
    "                          early_stopping_rounds=20,\n",
    "                          verbose_eval=10,\n",
    "                         )    \n",
    "    \n",
    "    y_pred = model_lgb.predict(X_valid, num_iteration=model_lgb.best_iteration) #교차검증\n",
    "    tmp_rmse = np.sqrt(mean_squared_error(np.log(y_valid), np.log(y_pred)))\n",
    "    print(tmp_rmse)    \n",
    "              \n",
    "    models.append(model_lgb)    \n",
    "    rmses.append(tmp_rmse)\n",
    "    oof[val_index] = y_pred \n",
    "    "
   ]
  },
  {
   "cell_type": "code",
   "execution_count": 24,
   "id": "1be1f780",
   "metadata": {},
   "outputs": [
    {
     "data": {
      "text/plain": [
       "<Axes: >"
      ]
     },
     "execution_count": 24,
     "metadata": {},
     "output_type": "execute_result"
    },
    {
     "data": {
      "image/png": "[encoded data removed]",
      "text/plain": [
       "<Figure size 1200x500 with 1 Axes>"
      ]
     },
     "metadata": {},
     "output_type": "display_data"
    }
   ],
   "source": [
    "actual_pred_df = pd.DataFrame({\n",
    "    \"actual\" : train_Y, #실제값\n",
    "    \"pred\" : oof }) #예측값\n",
    "    \n",
    "actual_pred_df.plot(figsize=(12,5))"
   ]
  },
  {
   "cell_type": "code",
   "execution_count": 25,
   "id": "b6b320a2",
   "metadata": {
    "scrolled": true
   },
   "outputs": [
    {
     "data": {
      "image/png": "[encoded data removed]",
      "text/plain": [
       "<Figure size 640x480 with 1 Axes>"
      ]
     },
     "metadata": {},
     "output_type": "display_data"
    },
    {
     "data": {
      "image/png": "[encoded data removed]",
      "text/plain": [
       "<Figure size 640x480 with 1 Axes>"
      ]
     },
     "metadata": {},
     "output_type": "display_data"
    },
    {
     "data": {
      "image/png": "[encoded data removed]",
      "text/plain": [
       "<Figure size 640x480 with 1 Axes>"
      ]
     },
     "metadata": {},
     "output_type": "display_data"
    }
   ],
   "source": [
    "for model in models:\n",
    "    lgb.plot_importance(model,importance_type=\"gain\", max_num_features=15)"
   ]
  },
  {
   "cell_type": "code",
   "execution_count": 26,
   "id": "7e4bd2e9",
   "metadata": {},
   "outputs": [
    {
     "data": {
      "text/plain": [
       "<Axes: ylabel='Frequency'>"
      ]
     },
     "execution_count": 26,
     "metadata": {},
     "output_type": "execute_result"
    },
    {
     "data": {
      "image/png": "[encoded data removed]",
      "text/plain": [
       "<Figure size 640x480 with 1 Axes>"
      ]
     },
     "metadata": {},
     "output_type": "display_data"
    }
   ],
   "source": [
    "np.log(train_df['SalePrice'])\n",
    "np.log(train_df['SalePrice']).plot.hist(bins=20)"
   ]
  },
  {
   "cell_type": "code",
   "execution_count": 27,
   "id": "e18dce59",
   "metadata": {},
   "outputs": [],
   "source": [
    "pd.options.mode.chained_assignment = None #경고문 비활성화\n",
    "train_df_le[\"SalePrice_log\"] = np.log(train_df_le[\"SalePrice\"]) #로그 값 열 생성\n",
    "\n",
    "train_X = train_df_le.drop([\"SalePrice\",\"SalePrice_log\",\"Id\"], axis=1) #목적변수, 로그변수, ID 제외한 train_X로 생성\n",
    "train_Y = train_df_le[\"SalePrice_log\"] #로그화된 목적 변수를 train_Y에 할당"
   ]
  },
  {
   "cell_type": "code",
   "execution_count": 19,
   "id": "8d944733",
   "metadata": {},
   "outputs": [],
   "source": [
    "pd.options.mode.chained_assignment = None #경고문 비활성화\n",
    "train_df_le[\"SalePrice_log\"] = np.log(train_df_le[\"SalePrice\"]) #로그 값 열 생성\n",
    "\n",
    "train_X = train_df_le.drop([\"SalePrice\",\"SalePrice_log\",\"Id\"], axis=1) #목적변수, 로그변수, ID 제외한 train_X로 생성\n",
    "train_Y = train_df_le[\"SalePrice_log\"] #로그화된 목적 변수를 train_Y에 할당"
   ]
  },
  {
   "cell_type": "code",
   "execution_count": 20,
   "id": "fcfc7422",
   "metadata": {
    "scrolled": false
   },
   "outputs": [
    {
     "name": "stdout",
     "output_type": "stream",
     "text": [
      "Training until validation scores don't improve for 20 rounds\n",
      "[10]\tvalid_0's l2: 0.0435757\n",
      "[20]\tvalid_0's l2: 0.0222742\n",
      "[30]\tvalid_0's l2: 0.0178641\n",
      "[40]\tvalid_0's l2: 0.0167218\n",
      "[50]\tvalid_0's l2: 0.0164435\n",
      "[60]\tvalid_0's l2: 0.0162049\n",
      "[70]\tvalid_0's l2: 0.0160662\n",
      "[80]\tvalid_0's l2: 0.0159922\n",
      "[90]\tvalid_0's l2: 0.0160502\n",
      "Early stopping, best iteration is:\n",
      "[75]\tvalid_0's l2: 0.0159661\n",
      "0.12635697731896975\n",
      "Training until validation scores don't improve for 20 rounds\n",
      "[10]\tvalid_0's l2: 0.048724\n",
      "[20]\tvalid_0's l2: 0.0277188\n",
      "[30]\tvalid_0's l2: 0.0226077\n",
      "[40]\tvalid_0's l2: 0.0211534\n",
      "[50]\tvalid_0's l2: 0.0206503\n",
      "[60]\tvalid_0's l2: 0.0204751\n",
      "[70]\tvalid_0's l2: 0.0203809\n",
      "[80]\tvalid_0's l2: 0.0203424\n",
      "[90]\tvalid_0's l2: 0.0202764\n",
      "[100]\tvalid_0's l2: 0.020244\n",
      "Did not meet early stopping. Best iteration is:\n",
      "[94]\tvalid_0's l2: 0.0202107\n",
      "0.14216440722442905\n",
      "Training until validation scores don't improve for 20 rounds\n",
      "[10]\tvalid_0's l2: 0.0387887\n",
      "[20]\tvalid_0's l2: 0.0208522\n",
      "[30]\tvalid_0's l2: 0.0175332\n",
      "[40]\tvalid_0's l2: 0.0167584\n",
      "[50]\tvalid_0's l2: 0.0166627\n",
      "[60]\tvalid_0's l2: 0.016491\n",
      "[70]\tvalid_0's l2: 0.0165374\n",
      "[80]\tvalid_0's l2: 0.0165527\n",
      "Early stopping, best iteration is:\n",
      "[61]\tvalid_0's l2: 0.0164791\n",
      "0.12837101349606955\n"
     ]
    }
   ],
   "source": [
    "import warnings\n",
    "warnings.filterwarnings(\"ignore\")\n",
    "\n",
    "models = []\n",
    "rmses = []\n",
    "oof = np.zeros(len(train_X))\n",
    "\n",
    "for train_index, val_index in kf.split(train_X):\n",
    "    X_train = train_X.iloc[train_index]\n",
    "    X_valid = train_X.iloc[val_index]\n",
    "    y_train = train_Y.iloc[train_index]\n",
    "    y_valid = train_Y.iloc[val_index]\n",
    "        \n",
    "    lgb_train = lgb.Dataset(X_train, y_train)\n",
    "    lgb_eval = lgb.Dataset(X_valid, y_valid, reference=lgb_train)    \n",
    "    \n",
    "    model_lgb = lgb.train(lgbm_params, \n",
    "                          lgb_train, \n",
    "                          valid_sets=lgb_eval, \n",
    "                          num_boost_round=100,\n",
    "                          early_stopping_rounds=20,\n",
    "                          verbose_eval=10,\n",
    "                         )    \n",
    "    \n",
    "    y_pred = model_lgb.predict(X_valid, num_iteration=model_lgb.best_iteration)\n",
    "    tmp_rmse = np.sqrt(mean_squared_error(y_valid, y_pred))\n",
    "    print(tmp_rmse)    \n",
    "              \n",
    "    models.append(model_lgb)    \n",
    "    rmses.append(tmp_rmse)\n",
    "    oof[val_index] = y_pred"
   ]
  },
  {
   "cell_type": "code",
   "execution_count": 28,
   "id": "fe324292",
   "metadata": {},
   "outputs": [
    {
     "name": "stdout",
     "output_type": "stream",
     "text": [
      "Index(['MSZoning', 'Street', 'Alley', 'LotShape', 'LandContour', 'Utilities',\n",
      "       'LotConfig', 'LandSlope', 'Neighborhood', 'Condition1', 'Condition2',\n",
      "       'BldgType', 'HouseStyle', 'RoofStyle', 'RoofMatl', 'Exterior1st',\n",
      "       'Exterior2nd', 'MasVnrType', 'ExterQual', 'ExterCond', 'Foundation',\n",
      "       'BsmtQual', 'BsmtCond', 'BsmtExposure', 'BsmtFinType1', 'BsmtFinType2',\n",
      "       'Heating', 'HeatingQC', 'CentralAir', 'Electrical', 'KitchenQual',\n",
      "       'Functional', 'FireplaceQu', 'GarageType', 'GarageFinish', 'GarageQual',\n",
      "       'GarageCond', 'PavedDrive', 'PoolQC', 'Fence', 'MiscFeature',\n",
      "       'SaleType', 'SaleCondition'],\n",
      "      dtype='object')\n"
     ]
    }
   ],
   "source": [
    "all_df = pd.concat([train_df, test_df], sort=False).reset_index(drop=True)\n",
    "categories = all_df.columns[all_df.dtypes == \"object\"]\n",
    "print(categories)"
   ]
  },
  {
   "cell_type": "code",
   "execution_count": 29,
   "id": "63e7c61f",
   "metadata": {},
   "outputs": [
    {
     "data": {
      "text/plain": [
       "PoolQC           2909\n",
       "MiscFeature      2814\n",
       "Alley            2721\n",
       "Fence            2348\n",
       "MasVnrType       1766\n",
       "SalePrice        1459\n",
       "FireplaceQu      1420\n",
       "LotFrontage       486\n",
       "GarageYrBlt       159\n",
       "GarageFinish      159\n",
       "GarageQual        159\n",
       "GarageCond        159\n",
       "GarageType        157\n",
       "BsmtExposure       82\n",
       "BsmtCond           82\n",
       "BsmtQual           81\n",
       "BsmtFinType2       80\n",
       "BsmtFinType1       79\n",
       "MasVnrArea         23\n",
       "MSZoning            4\n",
       "Functional          2\n",
       "BsmtFullBath        2\n",
       "Utilities           2\n",
       "BsmtHalfBath        2\n",
       "Electrical          1\n",
       "TotalBsmtSF         1\n",
       "BsmtUnfSF           1\n",
       "KitchenQual         1\n",
       "BsmtFinSF2          1\n",
       "BsmtFinSF1          1\n",
       "SaleType            1\n",
       "GarageCars          1\n",
       "Exterior2nd         1\n",
       "Exterior1st         1\n",
       "GarageArea          1\n",
       "YrSold              0\n",
       "Fireplaces          0\n",
       "MoSold              0\n",
       "MiscVal             0\n",
       "SaleCondition       0\n",
       "dtype: int64"
      ]
     },
     "execution_count": 29,
     "metadata": {},
     "output_type": "execute_result"
    }
   ],
   "source": [
    "all_df.isnull().sum().sort_values(ascending=False).head(40)"
   ]
  },
  {
   "cell_type": "code",
   "execution_count": 30,
   "id": "db42e0bf",
   "metadata": {},
   "outputs": [],
   "source": [
    "all_df.loc[~all_df[\"PoolQC\"].isnull(), \"PoolQC\"] = 1\n",
    "all_df.loc[all_df[\"PoolQC\"].isnull(), \"PoolQC\"] = 0\n",
    "\n",
    "#miscfeature\n",
    "all_df.loc[~all_df[\"MiscFeature\"].isnull(), \"MiscFeature\"] = 1\n",
    "all_df.loc[all_df[\"MiscFeature\"].isnull(), \"MiscFeature\"] = 0\n",
    "\n",
    "#alley\n",
    "all_df.loc[~all_df[\"Alley\"].isnull(), \"Alley\"] = 1\n",
    "all_df.loc[all_df[\"Alley\"].isnull(), \"Alley\"] = 0\n",
    "\n",
    "#for문으로 표현\n",
    "HighFacility_col = [\"PoolQC\",\"MiscFeature\",\"Alley\"]\n",
    "for col in HighFacility_col:\n",
    "    if all_df[col].dtype == \"object\":\n",
    "        if len(all_df[all_df[col].isnull()]) > 0:\n",
    "            all_df.loc[~all_df[col].isnull(), col] = 1\n",
    "            all_df.loc[all_df[col].isnull(), col] = 0"
   ]
  },
  {
   "cell_type": "code",
   "execution_count": 23,
   "id": "b73f70c3",
   "metadata": {
    "scrolled": true
   },
   "outputs": [
    {
     "ename": "TypeError",
     "evalue": "unsupported operand type(s) for +: 'Categorical' and 'Categorical'",
     "output_type": "error",
     "traceback": [
      "\u001b[1;31m---------------------------------------------------------------------------\u001b[0m",
      "\u001b[1;31mTypeError\u001b[0m                                 Traceback (most recent call last)",
      "\u001b[1;32m~\\AppData\\Local\\Temp\\ipykernel_24092\\3113012190.py\u001b[0m in \u001b[0;36m<module>\u001b[1;34m\u001b[0m\n\u001b[1;32m----> 1\u001b[1;33m \u001b[0mall_df\u001b[0m\u001b[1;33m[\u001b[0m\u001b[1;34m\"hasHighFacility\"\u001b[0m\u001b[1;33m]\u001b[0m \u001b[1;33m=\u001b[0m \u001b[0mall_df\u001b[0m\u001b[1;33m[\u001b[0m\u001b[1;34m\"PoolQC\"\u001b[0m\u001b[1;33m]\u001b[0m \u001b[1;33m+\u001b[0m \u001b[0mall_df\u001b[0m\u001b[1;33m[\u001b[0m\u001b[1;34m\"MiscFeature\"\u001b[0m\u001b[1;33m]\u001b[0m \u001b[1;33m+\u001b[0m \u001b[0mall_df\u001b[0m\u001b[1;33m[\u001b[0m\u001b[1;34m\"Alley\"\u001b[0m\u001b[1;33m]\u001b[0m\u001b[1;33m\u001b[0m\u001b[1;33m\u001b[0m\u001b[0m\n\u001b[0m\u001b[0;32m      2\u001b[0m \u001b[0mall_df\u001b[0m\u001b[1;33m[\u001b[0m\u001b[1;34m\"hasHighFacility\"\u001b[0m\u001b[1;33m]\u001b[0m \u001b[1;33m=\u001b[0m \u001b[0mall_df\u001b[0m\u001b[1;33m[\u001b[0m\u001b[1;34m\"hasHighFacility\"\u001b[0m\u001b[1;33m]\u001b[0m\u001b[1;33m.\u001b[0m\u001b[0mastype\u001b[0m\u001b[1;33m(\u001b[0m\u001b[0mint\u001b[0m\u001b[1;33m)\u001b[0m \u001b[1;31m#int형으로 변환\u001b[0m\u001b[1;33m\u001b[0m\u001b[1;33m\u001b[0m\u001b[0m\n\u001b[0;32m      3\u001b[0m \u001b[1;33m\u001b[0m\u001b[0m\n\u001b[0;32m      4\u001b[0m \u001b[0mall_df\u001b[0m\u001b[1;33m[\u001b[0m\u001b[1;34m\"hasHighFacility\"\u001b[0m\u001b[1;33m]\u001b[0m\u001b[1;33m.\u001b[0m\u001b[0mvalue_counts\u001b[0m\u001b[1;33m(\u001b[0m\u001b[1;33m)\u001b[0m\u001b[1;33m\u001b[0m\u001b[1;33m\u001b[0m\u001b[0m\n\u001b[0;32m      5\u001b[0m \u001b[1;33m\u001b[0m\u001b[0m\n",
      "\u001b[1;32m~\\anaconda3\\lib\\site-packages\\pandas\\core\\ops\\common.py\u001b[0m in \u001b[0;36mnew_method\u001b[1;34m(self, other)\u001b[0m\n\u001b[0;32m     79\u001b[0m         \u001b[0mother\u001b[0m \u001b[1;33m=\u001b[0m \u001b[0mitem_from_zerodim\u001b[0m\u001b[1;33m(\u001b[0m\u001b[0mother\u001b[0m\u001b[1;33m)\u001b[0m\u001b[1;33m\u001b[0m\u001b[1;33m\u001b[0m\u001b[0m\n\u001b[0;32m     80\u001b[0m \u001b[1;33m\u001b[0m\u001b[0m\n\u001b[1;32m---> 81\u001b[1;33m         \u001b[1;32mreturn\u001b[0m \u001b[0mmethod\u001b[0m\u001b[1;33m(\u001b[0m\u001b[0mself\u001b[0m\u001b[1;33m,\u001b[0m \u001b[0mother\u001b[0m\u001b[1;33m)\u001b[0m\u001b[1;33m\u001b[0m\u001b[1;33m\u001b[0m\u001b[0m\n\u001b[0m\u001b[0;32m     82\u001b[0m \u001b[1;33m\u001b[0m\u001b[0m\n\u001b[0;32m     83\u001b[0m     \u001b[1;32mreturn\u001b[0m \u001b[0mnew_method\u001b[0m\u001b[1;33m\u001b[0m\u001b[1;33m\u001b[0m\u001b[0m\n",
      "\u001b[1;32m~\\anaconda3\\lib\\site-packages\\pandas\\core\\arraylike.py\u001b[0m in \u001b[0;36m__add__\u001b[1;34m(self, other)\u001b[0m\n\u001b[0;32m    184\u001b[0m         \u001b[0mmoose\u001b[0m     \u001b[1;36m3.0\u001b[0m     \u001b[0mNaN\u001b[0m\u001b[1;33m\u001b[0m\u001b[1;33m\u001b[0m\u001b[0m\n\u001b[0;32m    185\u001b[0m         \"\"\"\n\u001b[1;32m--> 186\u001b[1;33m         \u001b[1;32mreturn\u001b[0m \u001b[0mself\u001b[0m\u001b[1;33m.\u001b[0m\u001b[0m_arith_method\u001b[0m\u001b[1;33m(\u001b[0m\u001b[0mother\u001b[0m\u001b[1;33m,\u001b[0m \u001b[0moperator\u001b[0m\u001b[1;33m.\u001b[0m\u001b[0madd\u001b[0m\u001b[1;33m)\u001b[0m\u001b[1;33m\u001b[0m\u001b[1;33m\u001b[0m\u001b[0m\n\u001b[0m\u001b[0;32m    187\u001b[0m \u001b[1;33m\u001b[0m\u001b[0m\n\u001b[0;32m    188\u001b[0m     \u001b[1;33m@\u001b[0m\u001b[0munpack_zerodim_and_defer\u001b[0m\u001b[1;33m(\u001b[0m\u001b[1;34m\"__radd__\"\u001b[0m\u001b[1;33m)\u001b[0m\u001b[1;33m\u001b[0m\u001b[1;33m\u001b[0m\u001b[0m\n",
      "\u001b[1;32m~\\anaconda3\\lib\\site-packages\\pandas\\core\\series.py\u001b[0m in \u001b[0;36m_arith_method\u001b[1;34m(self, other, op)\u001b[0m\n\u001b[0;32m   6110\u001b[0m     \u001b[1;32mdef\u001b[0m \u001b[0m_arith_method\u001b[0m\u001b[1;33m(\u001b[0m\u001b[0mself\u001b[0m\u001b[1;33m,\u001b[0m \u001b[0mother\u001b[0m\u001b[1;33m,\u001b[0m \u001b[0mop\u001b[0m\u001b[1;33m)\u001b[0m\u001b[1;33m:\u001b[0m\u001b[1;33m\u001b[0m\u001b[1;33m\u001b[0m\u001b[0m\n\u001b[0;32m   6111\u001b[0m         \u001b[0mself\u001b[0m\u001b[1;33m,\u001b[0m \u001b[0mother\u001b[0m \u001b[1;33m=\u001b[0m \u001b[0mops\u001b[0m\u001b[1;33m.\u001b[0m\u001b[0malign_method_SERIES\u001b[0m\u001b[1;33m(\u001b[0m\u001b[0mself\u001b[0m\u001b[1;33m,\u001b[0m \u001b[0mother\u001b[0m\u001b[1;33m)\u001b[0m\u001b[1;33m\u001b[0m\u001b[1;33m\u001b[0m\u001b[0m\n\u001b[1;32m-> 6112\u001b[1;33m         \u001b[1;32mreturn\u001b[0m \u001b[0mbase\u001b[0m\u001b[1;33m.\u001b[0m\u001b[0mIndexOpsMixin\u001b[0m\u001b[1;33m.\u001b[0m\u001b[0m_arith_method\u001b[0m\u001b[1;33m(\u001b[0m\u001b[0mself\u001b[0m\u001b[1;33m,\u001b[0m \u001b[0mother\u001b[0m\u001b[1;33m,\u001b[0m \u001b[0mop\u001b[0m\u001b[1;33m)\u001b[0m\u001b[1;33m\u001b[0m\u001b[1;33m\u001b[0m\u001b[0m\n\u001b[0m\u001b[0;32m   6113\u001b[0m \u001b[1;33m\u001b[0m\u001b[0m\n\u001b[0;32m   6114\u001b[0m \u001b[1;33m\u001b[0m\u001b[0m\n",
      "\u001b[1;32m~\\anaconda3\\lib\\site-packages\\pandas\\core\\base.py\u001b[0m in \u001b[0;36m_arith_method\u001b[1;34m(self, other, op)\u001b[0m\n\u001b[0;32m   1346\u001b[0m \u001b[1;33m\u001b[0m\u001b[0m\n\u001b[0;32m   1347\u001b[0m         \u001b[1;32mwith\u001b[0m \u001b[0mnp\u001b[0m\u001b[1;33m.\u001b[0m\u001b[0merrstate\u001b[0m\u001b[1;33m(\u001b[0m\u001b[0mall\u001b[0m\u001b[1;33m=\u001b[0m\u001b[1;34m\"ignore\"\u001b[0m\u001b[1;33m)\u001b[0m\u001b[1;33m:\u001b[0m\u001b[1;33m\u001b[0m\u001b[1;33m\u001b[0m\u001b[0m\n\u001b[1;32m-> 1348\u001b[1;33m             \u001b[0mresult\u001b[0m \u001b[1;33m=\u001b[0m \u001b[0mops\u001b[0m\u001b[1;33m.\u001b[0m\u001b[0marithmetic_op\u001b[0m\u001b[1;33m(\u001b[0m\u001b[0mlvalues\u001b[0m\u001b[1;33m,\u001b[0m \u001b[0mrvalues\u001b[0m\u001b[1;33m,\u001b[0m \u001b[0mop\u001b[0m\u001b[1;33m)\u001b[0m\u001b[1;33m\u001b[0m\u001b[1;33m\u001b[0m\u001b[0m\n\u001b[0m\u001b[0;32m   1349\u001b[0m \u001b[1;33m\u001b[0m\u001b[0m\n\u001b[0;32m   1350\u001b[0m         \u001b[1;32mreturn\u001b[0m \u001b[0mself\u001b[0m\u001b[1;33m.\u001b[0m\u001b[0m_construct_result\u001b[0m\u001b[1;33m(\u001b[0m\u001b[0mresult\u001b[0m\u001b[1;33m,\u001b[0m \u001b[0mname\u001b[0m\u001b[1;33m=\u001b[0m\u001b[0mres_name\u001b[0m\u001b[1;33m)\u001b[0m\u001b[1;33m\u001b[0m\u001b[1;33m\u001b[0m\u001b[0m\n",
      "\u001b[1;32m~\\anaconda3\\lib\\site-packages\\pandas\\core\\ops\\array_ops.py\u001b[0m in \u001b[0;36marithmetic_op\u001b[1;34m(left, right, op)\u001b[0m\n\u001b[0;32m    222\u001b[0m         \u001b[1;31m# Timedelta/Timestamp and other custom scalars are included in the check\u001b[0m\u001b[1;33m\u001b[0m\u001b[1;33m\u001b[0m\u001b[0m\n\u001b[0;32m    223\u001b[0m         \u001b[1;31m# because numexpr will fail on it, see GH#31457\u001b[0m\u001b[1;33m\u001b[0m\u001b[1;33m\u001b[0m\u001b[0m\n\u001b[1;32m--> 224\u001b[1;33m         \u001b[0mres_values\u001b[0m \u001b[1;33m=\u001b[0m \u001b[0mop\u001b[0m\u001b[1;33m(\u001b[0m\u001b[0mleft\u001b[0m\u001b[1;33m,\u001b[0m \u001b[0mright\u001b[0m\u001b[1;33m)\u001b[0m\u001b[1;33m\u001b[0m\u001b[1;33m\u001b[0m\u001b[0m\n\u001b[0m\u001b[0;32m    225\u001b[0m     \u001b[1;32melse\u001b[0m\u001b[1;33m:\u001b[0m\u001b[1;33m\u001b[0m\u001b[1;33m\u001b[0m\u001b[0m\n\u001b[0;32m    226\u001b[0m         \u001b[1;31m# TODO we should handle EAs consistently and move this check before the if/else\u001b[0m\u001b[1;33m\u001b[0m\u001b[1;33m\u001b[0m\u001b[0m\n",
      "\u001b[1;31mTypeError\u001b[0m: unsupported operand type(s) for +: 'Categorical' and 'Categorical'"
     ]
    }
   ],
   "source": [
    "all_df[\"hasHighFacility\"] = all_df[\"PoolQC\"] + all_df[\"MiscFeature\"] + all_df[\"Alley\"]\n",
    "all_df[\"hasHighFacility\"] = all_df[\"hasHighFacility\"].astype(int) #int형으로 변환\n",
    "\n",
    "all_df[\"hasHighFacility\"].value_counts()\n",
    "\n",
    "all_df = all_df.drop([\"PoolQC\",\"MiscFeature\",\"Alley\"],axis=1) #고급 설비 관련 컬럼 삭제"
   ]
  },
  {
   "cell_type": "code",
   "execution_count": 31,
   "id": "f1e312cd",
   "metadata": {},
   "outputs": [],
   "source": [
    "all_df[\"hasHighFacility\"] = all_df[\"PoolQC\"] + all_df[\"MiscFeature\"] + all_df[\"Alley\"]\n",
    "all_df[\"hasHighFacility\"] = all_df[\"hasHighFacility\"].astype(int) #int형으로 변환\n",
    "\n",
    "all_df[\"hasHighFacility\"].value_counts()\n",
    "\n",
    "all_df = all_df.drop([\"PoolQC\",\"MiscFeature\",\"Alley\"],axis=1)"
   ]
  },
  {
   "cell_type": "code",
   "execution_count": 32,
   "id": "7a3676fc",
   "metadata": {},
   "outputs": [],
   "source": [
    "train_df_num = train_df.select_dtypes(include=[np.number])\n",
    "#비례 척도가 아닌 변수\n",
    "nonratio_features = [\"Id\", \"MSSubClass\", \"OverallQual\", \"OverallCond\", \"YearBuilt\", \"YearRemodAdd\", \"MoSold\", \"YrSold\"]\n",
    "num_features = sorted(list(set(train_df_num) - set(nonratio_features)))\n",
    "num_features\n",
    "\n",
    "train_df_num_rs = train_df_num[num_features] #비례 척도만 추출|"
   ]
  },
  {
   "cell_type": "code",
   "execution_count": 33,
   "id": "0e265da6",
   "metadata": {
    "scrolled": false
   },
   "outputs": [
    {
     "name": "stdout",
     "output_type": "stream",
     "text": [
      "3SsnPorch 1436\n",
      "BsmtFinSF2 1293\n",
      "BsmtHalfBath 1378\n",
      "EnclosedPorch 1252\n",
      "LowQualFinSF 1434\n",
      "MiscVal 1408\n",
      "PoolArea 1453\n",
      "ScreenPorch 1344\n",
      "BedroomAbvGr 8\n",
      "BsmtFullBath 4\n",
      "BsmtHalfBath 3\n",
      "Fireplaces 4\n",
      "FullBath 4\n",
      "GarageCars 5\n",
      "HalfBath 3\n",
      "KitchenAbvGr 4\n",
      "PoolArea 8\n",
      "TotRmsAbvGrd 12\n",
      "1stFlrSF 12\n",
      "2ndFlrSF 4\n",
      "3SsnPorch 23\n",
      "BedroomAbvGr 14\n",
      "BsmtFinSF1 6\n",
      "BsmtFinSF2 50\n",
      "BsmtFullBath 16\n",
      "BsmtHalfBath 82\n",
      "BsmtUnfSF 11\n",
      "EnclosedPorch 51\n",
      "Fireplaces 5\n",
      "FullBath 0\n",
      "GarageArea 7\n",
      "GarageCars 0\n",
      "GarageYrBlt 1\n",
      "GrLivArea 16\n",
      "HalfBath 12\n",
      "KitchenAbvGr 68\n",
      "LotArea 13\n",
      "LotFrontage 12\n",
      "LowQualFinSF 20\n",
      "MasVnrArea 32\n",
      "MiscVal 8\n",
      "OpenPorchSF 27\n",
      "PoolArea 7\n",
      "SalePrice 22\n",
      "ScreenPorch 55\n",
      "TotRmsAbvGrd 12\n",
      "TotalBsmtSF 10\n",
      "WoodDeckSF 22\n"
     ]
    }
   ],
   "source": [
    "#75%가 0이 변수\n",
    "for col in num_features:\n",
    "    if train_df_num_rs.describe()[col][\"75%\"] == 0:\n",
    "        print(col, len(train_df_num_rs[train_df_num_rs[col] == 0]))\n",
    "        \n",
    "#특정값만 갖는 경우\n",
    "for col in num_features:\n",
    "    if train_df_num_rs[col].nunique() < 15:\n",
    "        print(col, train_df_num_rs[col].nunique())\n",
    "        \n",
    "#이상치 변수\n",
    "for col in num_features:\n",
    "    tmp_df = train_df_num_rs[(train_df_num_rs[col] > train_df_num_rs[col].mean() + train_df_num_rs[col].std()*3) | \\\n",
    "    (train_df_num_rs[col] < train_df_num_rs[col].mean() - train_df_num_rs[col].std()*3)]\n",
    "    print(col, len(tmp_df))"
   ]
  },
  {
   "cell_type": "code",
   "execution_count": 35,
   "id": "00d01162",
   "metadata": {},
   "outputs": [
    {
     "name": "stdout",
     "output_type": "stream",
     "text": [
      "MSZoning\n",
      "Street\n",
      "LotShape\n",
      "LandContour\n",
      "Utilities\n",
      "LotConfig\n",
      "LandSlope\n",
      "Neighborhood\n",
      "Condition1\n",
      "Condition2\n",
      "BldgType\n",
      "HouseStyle\n",
      "RoofStyle\n",
      "RoofMatl\n",
      "Exterior1st\n",
      "Exterior2nd\n",
      "MasVnrType\n",
      "ExterQual\n",
      "ExterCond\n",
      "Foundation\n",
      "BsmtQual\n",
      "BsmtCond\n",
      "BsmtExposure\n",
      "BsmtFinType1\n",
      "BsmtFinType2\n",
      "Heating\n",
      "HeatingQC\n",
      "CentralAir\n",
      "Electrical\n",
      "KitchenQual\n",
      "Functional\n",
      "FireplaceQu\n",
      "GarageType\n",
      "GarageFinish\n",
      "GarageQual\n",
      "GarageCond\n",
      "PavedDrive\n",
      "Fence\n",
      "SaleType\n",
      "SaleCondition\n",
      "Training until validation scores don't improve for 20 rounds\n",
      "[10]\tvalid_0's l2: 0.0424478\n",
      "[20]\tvalid_0's l2: 0.0221391\n",
      "[30]\tvalid_0's l2: 0.0176454\n",
      "[40]\tvalid_0's l2: 0.0163936\n",
      "[50]\tvalid_0's l2: 0.0162319\n",
      "[60]\tvalid_0's l2: 0.0161439\n",
      "[70]\tvalid_0's l2: 0.0161796\n",
      "[80]\tvalid_0's l2: 0.0161966\n",
      "[90]\tvalid_0's l2: 0.0161571\n",
      "[100]\tvalid_0's l2: 0.0161633\n",
      "Did not meet early stopping. Best iteration is:\n",
      "[88]\tvalid_0's l2: 0.0161105\n",
      "0.12691187506430074\n",
      "Training until validation scores don't improve for 20 rounds\n",
      "[10]\tvalid_0's l2: 0.0474357\n",
      "[20]\tvalid_0's l2: 0.0270911\n",
      "[30]\tvalid_0's l2: 0.0223782\n",
      "[40]\tvalid_0's l2: 0.0210888\n",
      "[50]\tvalid_0's l2: 0.0205532\n",
      "[60]\tvalid_0's l2: 0.0203642\n",
      "[70]\tvalid_0's l2: 0.0202844\n",
      "[80]\tvalid_0's l2: 0.0203139\n",
      "[90]\tvalid_0's l2: 0.0202558\n",
      "[100]\tvalid_0's l2: 0.0201309\n",
      "Did not meet early stopping. Best iteration is:\n",
      "[100]\tvalid_0's l2: 0.0201309\n",
      "0.1418834299941753\n",
      "Training until validation scores don't improve for 20 rounds\n",
      "[10]\tvalid_0's l2: 0.0368757\n",
      "[20]\tvalid_0's l2: 0.0197062\n",
      "[30]\tvalid_0's l2: 0.0166289\n",
      "[40]\tvalid_0's l2: 0.0158093\n",
      "[50]\tvalid_0's l2: 0.0155449\n",
      "[60]\tvalid_0's l2: 0.0152794\n",
      "[70]\tvalid_0's l2: 0.0152311\n",
      "[80]\tvalid_0's l2: 0.0150655\n",
      "[90]\tvalid_0's l2: 0.0150977\n",
      "[100]\tvalid_0's l2: 0.0151215\n",
      "Early stopping, best iteration is:\n",
      "[80]\tvalid_0's l2: 0.0150655\n",
      "0.12274165229022771\n"
     ]
    }
   ],
   "source": [
    "categories = categories.drop([\"PoolQC\",\"MiscFeature\",\"Alley\"])\n",
    "\n",
    "\n",
    "for cat in categories:\n",
    "    le = LabelEncoder()\n",
    "    print(cat)\n",
    "    \n",
    "    all_df[cat].fillna(\"missing\", inplace=True) #결측치를 Missing으로 대체    \n",
    "    le = le.fit(all_df[cat])\n",
    "    all_df[cat] = le.transform(all_df[cat])\n",
    "    all_df[cat] = all_df[cat].astype(\"category\")\n",
    "    \n",
    "\n",
    "train_df_le = all_df[~all_df[\"SalePrice\"].isnull()] \n",
    "test_df_le = all_df[all_df[\"SalePrice\"].isnull()] \n",
    "\n",
    "train_df_le[\"SalePrice_log\"] = np.log(train_df_le[\"SalePrice\"])\n",
    "train_X = train_df_le.drop([\"SalePrice\",\"SalePrice_log\", \"Id\"], axis=1)\n",
    "train_Y = train_df_le[\"SalePrice_log\"]\n",
    "\n",
    "models = []\n",
    "rmses = []\n",
    "oof = np.zeros(len(train_X))\n",
    "\n",
    "for train_index, val_index in kf.split(train_X):\n",
    "    X_train = train_X.iloc[train_index]\n",
    "    X_valid = train_X.iloc[val_index]\n",
    "    y_train = train_Y.iloc[train_index]\n",
    "    y_valid = train_Y.iloc[val_index]\n",
    "        \n",
    "    lgb_train = lgb.Dataset(X_train, y_train)\n",
    "    lgb_eval = lgb.Dataset(X_valid, y_valid, reference=lgb_train)    \n",
    "    \n",
    "    model_lgb = lgb.train(lgbm_params, \n",
    "                          lgb_train, \n",
    "                          valid_sets=lgb_eval, \n",
    "                          num_boost_round=100,\n",
    "                          early_stopping_rounds=20,\n",
    "                          verbose_eval=10,\n",
    "                         )    \n",
    "    \n",
    "    y_pred = model_lgb.predict(X_valid, num_iteration=model_lgb.best_iteration)\n",
    "    tmp_rmse = np.sqrt(mean_squared_error(y_valid, y_pred))\n",
    "    print(tmp_rmse)    \n",
    "              \n",
    "    models.append(model_lgb)    \n",
    "    rmses.append(tmp_rmse)\n",
    "    oof[val_index] = y_pred "
   ]
  },
  {
   "cell_type": "code",
   "execution_count": 34,
   "id": "fbba16de",
   "metadata": {},
   "outputs": [],
   "source": [
    "all_df = all_df[(all_df['BsmtFinSF1'] < 2000) | (all_df['SalePrice'].isnull())]\n",
    "all_df = all_df[(all_df['TotalBsmtSF'] < 3000) | (all_df['SalePrice'].isnull())]\n",
    "all_df = all_df[(all_df['GrLivArea'] < 4500) | (all_df['SalePrice'].isnull())]\n",
    "all_df = all_df[(all_df['1stFlrSF'] < 2500) | (all_df['SalePrice'].isnull())]\n",
    "all_df = all_df[(all_df['LotArea'] < 100000) | (all_df['SalePrice'].isnull())]"
   ]
  },
  {
   "cell_type": "code",
   "execution_count": 36,
   "id": "808ea01f",
   "metadata": {
    "scrolled": true
   },
   "outputs": [
    {
     "name": "stdout",
     "output_type": "stream",
     "text": [
      "Training until validation scores don't improve for 20 rounds\n",
      "[10]\tvalid_0's l2: 0.0427712\n",
      "[20]\tvalid_0's l2: 0.0222468\n",
      "[30]\tvalid_0's l2: 0.0178227\n",
      "[40]\tvalid_0's l2: 0.0166019\n",
      "[50]\tvalid_0's l2: 0.0163129\n",
      "[60]\tvalid_0's l2: 0.0163467\n",
      "[70]\tvalid_0's l2: 0.0163411\n",
      "Early stopping, best iteration is:\n",
      "[55]\tvalid_0's l2: 0.0162479\n",
      "0.1274567006026756\n",
      "Training until validation scores don't improve for 20 rounds\n",
      "[10]\tvalid_0's l2: 0.0472863\n",
      "[20]\tvalid_0's l2: 0.0272598\n",
      "[30]\tvalid_0's l2: 0.022684\n",
      "[40]\tvalid_0's l2: 0.0208361\n",
      "[50]\tvalid_0's l2: 0.0204121\n",
      "[60]\tvalid_0's l2: 0.0202398\n",
      "[70]\tvalid_0's l2: 0.0200796\n",
      "[80]\tvalid_0's l2: 0.0200148\n",
      "[90]\tvalid_0's l2: 0.0199188\n",
      "[100]\tvalid_0's l2: 0.0197431\n",
      "Did not meet early stopping. Best iteration is:\n",
      "[100]\tvalid_0's l2: 0.0197431\n",
      "0.14051005639296832\n",
      "Training until validation scores don't improve for 20 rounds\n",
      "[10]\tvalid_0's l2: 0.0369088\n",
      "[20]\tvalid_0's l2: 0.0196054\n",
      "[30]\tvalid_0's l2: 0.0163427\n",
      "[40]\tvalid_0's l2: 0.0155428\n",
      "[50]\tvalid_0's l2: 0.015222\n",
      "[60]\tvalid_0's l2: 0.0151267\n",
      "[70]\tvalid_0's l2: 0.015036\n",
      "[80]\tvalid_0's l2: 0.0150603\n",
      "[90]\tvalid_0's l2: 0.0150603\n",
      "Early stopping, best iteration is:\n",
      "[78]\tvalid_0's l2: 0.0150262\n",
      "0.1225814907662382\n"
     ]
    }
   ],
   "source": [
    "all_df[\"Age\"] = all_df[\"YrSold\"] - all_df[\"YearBuilt\"]\n",
    "\n",
    "train_df_le = all_df[~all_df[\"SalePrice\"].isnull()] \n",
    "test_df_le = all_df[all_df[\"SalePrice\"].isnull()] \n",
    "\n",
    "train_df_le[\"SalePrice_log\"] = np.log(train_df_le[\"SalePrice\"])\n",
    "train_X = train_df_le.drop([\"SalePrice\",\"SalePrice_log\",\"Id\"], axis=1)\n",
    "train_Y = train_df_le[\"SalePrice_log\"]\n",
    "\n",
    "models = []\n",
    "rmses = []\n",
    "oof = np.zeros(len(train_X))\n",
    "\n",
    "for train_index, val_index in kf.split(train_X):\n",
    "    X_train = train_X.iloc[train_index]\n",
    "    X_valid = train_X.iloc[val_index]\n",
    "    y_train = train_Y.iloc[train_index]\n",
    "    y_valid = train_Y.iloc[val_index]\n",
    "        \n",
    "    lgb_train = lgb.Dataset(X_train, y_train)\n",
    "    lgb_eval = lgb.Dataset(X_valid, y_valid, reference=lgb_train)    \n",
    "    \n",
    "    model_lgb = lgb.train(lgbm_params, \n",
    "                          lgb_train, \n",
    "                          valid_sets=lgb_eval, \n",
    "                          num_boost_round=100,\n",
    "                          early_stopping_rounds=20,\n",
    "                          verbose_eval=10,\n",
    "                         )    \n",
    "    \n",
    "    y_pred = model_lgb.predict(X_valid, num_iteration=model_lgb.best_iteration)\n",
    "    tmp_rmse = np.sqrt(mean_squared_error(y_valid, y_pred))\n",
    "    print(tmp_rmse)    \n",
    "              \n",
    "    models.append(model_lgb)    \n",
    "    rmses.append(tmp_rmse)\n",
    "    oof[val_index] = y_pred "
   ]
  },
  {
   "cell_type": "code",
   "execution_count": 37,
   "id": "5f07d2ea",
   "metadata": {},
   "outputs": [
    {
     "name": "stdout",
     "output_type": "stream",
     "text": [
      "Training until validation scores don't improve for 20 rounds\n",
      "[10]\tvalid_0's l2: 0.0388123\n",
      "[20]\tvalid_0's l2: 0.019933\n",
      "[30]\tvalid_0's l2: 0.0165909\n",
      "[40]\tvalid_0's l2: 0.015977\n",
      "[50]\tvalid_0's l2: 0.0158245\n",
      "[60]\tvalid_0's l2: 0.0157696\n",
      "[70]\tvalid_0's l2: 0.0157857\n",
      "[80]\tvalid_0's l2: 0.0158773\n",
      "Early stopping, best iteration is:\n",
      "[62]\tvalid_0's l2: 0.0157218\n",
      "0.12538652955165416\n",
      "Training until validation scores don't improve for 20 rounds\n",
      "[10]\tvalid_0's l2: 0.0459257\n",
      "[20]\tvalid_0's l2: 0.0263207\n",
      "[30]\tvalid_0's l2: 0.0217538\n",
      "[40]\tvalid_0's l2: 0.0202895\n",
      "[50]\tvalid_0's l2: 0.0198426\n",
      "[60]\tvalid_0's l2: 0.0196631\n",
      "[70]\tvalid_0's l2: 0.0196107\n",
      "[80]\tvalid_0's l2: 0.0195612\n",
      "Early stopping, best iteration is:\n",
      "[65]\tvalid_0's l2: 0.0195496\n",
      "0.13981974818092313\n",
      "Training until validation scores don't improve for 20 rounds\n",
      "[10]\tvalid_0's l2: 0.0354828\n",
      "[20]\tvalid_0's l2: 0.0183241\n",
      "[30]\tvalid_0's l2: 0.0154896\n",
      "[40]\tvalid_0's l2: 0.0144641\n",
      "[50]\tvalid_0's l2: 0.0141813\n",
      "[60]\tvalid_0's l2: 0.0141533\n",
      "[70]\tvalid_0's l2: 0.0141673\n",
      "[80]\tvalid_0's l2: 0.0142039\n",
      "Early stopping, best iteration is:\n",
      "[66]\tvalid_0's l2: 0.0140542\n",
      "0.11855042057529543\n"
     ]
    }
   ],
   "source": [
    "all_df[[\"LotArea\",\"MasVnrArea\",\"BsmtUnfSF\",\"TotalBsmtSF\", \"1stFlrSF\", \"2ndFlrSF\", \"LowQualFinSF\", \"GrLivArea\", \"GarageArea\",\"WoodDeckSF\", \"OpenPorchSF\", \"EnclosedPorch\", \"3SsnPorch\", \"ScreenPorch\", \"PoolArea\", \"LotFrontage\"]].describe()\n",
    "\n",
    "all_df[\"TotalSF\"] = all_df[\"TotalBsmtSF\"] + all_df[\"1stFlrSF\"] + all_df[\"2ndFlrSF\"]\n",
    "all_df[\"Total_Bathrooms\"] = all_df[\"FullBath\"] + all_df[\"HalfBath\"] + all_df[\"BsmtFullBath\"] + all_df[\"BsmtHalfBath\"]\n",
    "\n",
    "#porch 넓이의 합,\n",
    "all_df[\"Total_PorchSF\"] = all_df[\"WoodDeckSF\"] + all_df[\"OpenPorchSF\"] + all_df[\"EnclosedPorch\"] + all_df[\"3SsnPorch\"] + all_df[\"ScreenPorch\"]\n",
    "all_df[\"hasPorch\"] = all_df[\"Total_PorchSF\"].apply(lambda x: 1 if x > 0 else 0)\n",
    "all_df = all_df.drop(\"Total_PorchSF\",axis=1)\n",
    "\n",
    "train_df_le = all_df[~all_df[\"SalePrice\"].isnull()] \n",
    "test_df_le = all_df[all_df[\"SalePrice\"].isnull()] \n",
    "\n",
    "train_df_le[\"SalePrice_log\"] = np.log(train_df_le[\"SalePrice\"])\n",
    "train_X = train_df_le.drop([\"SalePrice\",\"SalePrice_log\",\"Id\"], axis=1)\n",
    "train_Y = train_df_le[\"SalePrice_log\"]\n",
    "\n",
    "models = []\n",
    "rmses = []\n",
    "oof = np.zeros(len(train_X))\n",
    "\n",
    "for train_index, val_index in kf.split(train_X):\n",
    "    X_train = train_X.iloc[train_index]\n",
    "    X_valid = train_X.iloc[val_index]\n",
    "    y_train = train_Y.iloc[train_index]\n",
    "    y_valid = train_Y.iloc[val_index]\n",
    "        \n",
    "    lgb_train = lgb.Dataset(X_train, y_train)\n",
    "    lgb_eval = lgb.Dataset(X_valid, y_valid, reference=lgb_train)    \n",
    "    \n",
    "    model_lgb = lgb.train(lgbm_params, \n",
    "                          lgb_train, \n",
    "                          valid_sets=lgb_eval, \n",
    "                          num_boost_round=100,\n",
    "                          early_stopping_rounds=20,\n",
    "                          verbose_eval=10,\n",
    "                         )    \n",
    "    \n",
    "    y_pred = model_lgb.predict(X_valid, num_iteration=model_lgb.best_iteration)\n",
    "    tmp_rmse = np.sqrt(mean_squared_error(y_valid, y_pred))\n",
    "    print(tmp_rmse)    \n",
    "              \n",
    "    models.append(model_lgb)    \n",
    "    rmses.append(tmp_rmse)\n",
    "    oof[val_index] = y_pred "
   ]
  },
  {
   "cell_type": "code",
   "execution_count": 38,
   "id": "a77798f8",
   "metadata": {},
   "outputs": [],
   "source": [
    "from sklearn.model_selection import train_test_split\n",
    "X_train, X_valid, y_train, y_valid = train_test_split(train_X, train_Y, test_size = 0.2, random_state = 1234, shuffle = False, stratify = None)\n"
   ]
  },
  {
   "cell_type": "code",
   "execution_count": 55,
   "id": "6e18dff9",
   "metadata": {},
   "outputs": [],
   "source": [
    "def objective(trial):\n",
    "    params = {\n",
    "        \"objective\": \"regression\", #함수를 회귀로 설정\n",
    "        \"random_seed\": 1234,\n",
    "        \"learning_rate\": 0.05, #학습률을 0.05로 설정\n",
    "        \"n_estimators\": 1000, #트리의 개수\n",
    "        \"num_leaves\": trial.suggest_int(\"num_leaves\", 4, 64), #탐색할 범위를 4~64\n",
    "        \"max_bin\": trial.suggest_int(\"max_bin\", 50, 200), #탐색할 범위를 50~200\n",
    "        \"bagging_fraction\": trial.suggest_uniform(\"bagging_fraction\", 0.4, 0.9), # 탐색할 범위를 0.4에서 0.9 사이\n",
    "        \"bagging_freq\": trial.suggest_int(\"bagging_freq\", 1, 10), #탐색할 범위를 1에서 10 사이\n",
    "        \"feature_fraction\": trial.suggest_uniform(\"feature_fraction\", 0.4, 0.9), #탐색할 범위를 0.4에서 0.9 사이\n",
    "        \"min_data_in_leaf\": trial.suggest_int(\"min_data_in_leaf\", 2, 16), #탐색할 범위를 2에서 16 사이\n",
    "        \"min_sum_hessian_in_leaf\": trial.suggest_int(\"min_sum_hessian_in_leaf\", 1, 10), #탐색할 범위를 1에서 10 사이\n",
    "    }\n",
    "    \n",
    "    lgb_train = lgb.Dataset(X_train, y_train, free_raw_data=False) #free_raw_data = False를 적어야 오류가 안남\n",
    "    lgb_eval = lgb.Dataset(X_valid, y_valid, reference=lgb_train, free_raw_data=False)\n",
    "    \n",
    "    model_lgb = lgb.train(\n",
    "        params,\n",
    "        lgb_train,\n",
    "        valid_sets=lgb_eval,\n",
    "        num_boost_round=100,\n",
    "        early_stopping_rounds=20,\n",
    "        verbose_eval=10,\n",
    "    )\n",
    "    \n",
    "    y_pred = model_lgb.predict(X_valid, num_iteration=model_lgb.best_iteration)\n",
    "    score = np.sqrt(mean_squared_error(y_valid, y_pred))\n",
    "    return score"
   ]
  },
  {
   "cell_type": "code",
   "execution_count": 56,
   "id": "448c71b3",
   "metadata": {},
   "outputs": [
    {
     "name": "stdout",
     "output_type": "stream",
     "text": [
      "Training until validation scores don't improve for 20 rounds\n",
      "[10]\tvalid_0's l2: 0.0644453\n",
      "[20]\tvalid_0's l2: 0.0346719\n",
      "[30]\tvalid_0's l2: 0.0229916\n",
      "[40]\tvalid_0's l2: 0.0182991\n",
      "[50]\tvalid_0's l2: 0.0161761\n",
      "[60]\tvalid_0's l2: 0.0155148\n",
      "[70]\tvalid_0's l2: 0.0152372\n",
      "[80]\tvalid_0's l2: 0.0150177\n",
      "[90]\tvalid_0's l2: 0.0146812\n",
      "[100]\tvalid_0's l2: 0.0146973\n",
      "[110]\tvalid_0's l2: 0.0146761\n",
      "[120]\tvalid_0's l2: 0.0146636\n",
      "[130]\tvalid_0's l2: 0.0146335\n"
     ]
    },
    {
     "name": "stderr",
     "output_type": "stream",
     "text": [
      "\u001b[32m[I 2024-04-06 01:15:03,267]\u001b[0m Trial 0 finished with value: 0.12096909717257005 and parameters: {'num_leaves': 48, 'max_bin': 97, 'bagging_fraction': 0.7575946831862097, 'bagging_freq': 4, 'feature_fraction': 0.8289728088113784, 'min_data_in_leaf': 9, 'min_sum_hessian_in_leaf': 10}. Best is trial 0 with value: 0.12096909717257005.\u001b[0m\n"
     ]
    },
    {
     "name": "stdout",
     "output_type": "stream",
     "text": [
      "[140]\tvalid_0's l2: 0.0146833\n",
      "[150]\tvalid_0's l2: 0.0147113\n",
      "Early stopping, best iteration is:\n",
      "[130]\tvalid_0's l2: 0.0146335\n",
      "Training until validation scores don't improve for 20 rounds\n",
      "[10]\tvalid_0's l2: 0.0661297\n",
      "[20]\tvalid_0's l2: 0.0364927\n",
      "[30]\tvalid_0's l2: 0.024492\n",
      "[40]\tvalid_0's l2: 0.0194895\n",
      "[50]\tvalid_0's l2: 0.0170738\n",
      "[60]\tvalid_0's l2: 0.0158525\n",
      "[70]\tvalid_0's l2: 0.0154143\n",
      "[80]\tvalid_0's l2: 0.0154866\n",
      "[90]\tvalid_0's l2: 0.0151324\n",
      "[100]\tvalid_0's l2: 0.0150305\n",
      "[110]\tvalid_0's l2: 0.0148058\n",
      "[120]\tvalid_0's l2: 0.0145409\n"
     ]
    },
    {
     "name": "stderr",
     "output_type": "stream",
     "text": [
      "\u001b[32m[I 2024-04-06 01:15:03,663]\u001b[0m Trial 1 finished with value: 0.11993159255388675 and parameters: {'num_leaves': 23, 'max_bin': 71, 'bagging_fraction': 0.5921908536463499, 'bagging_freq': 8, 'feature_fraction': 0.8458865003910399, 'min_data_in_leaf': 10, 'min_sum_hessian_in_leaf': 2}. Best is trial 1 with value: 0.11993159255388675.\u001b[0m\n"
     ]
    },
    {
     "name": "stdout",
     "output_type": "stream",
     "text": [
      "[130]\tvalid_0's l2: 0.0144153\n",
      "[140]\tvalid_0's l2: 0.0144853\n",
      "[150]\tvalid_0's l2: 0.0144417\n",
      "Early stopping, best iteration is:\n",
      "[131]\tvalid_0's l2: 0.0143836\n",
      "Training until validation scores don't improve for 20 rounds\n",
      "[10]\tvalid_0's l2: 0.0664485\n",
      "[20]\tvalid_0's l2: 0.0367956\n",
      "[30]\tvalid_0's l2: 0.0248174\n",
      "[40]\tvalid_0's l2: 0.0194238\n",
      "[50]\tvalid_0's l2: 0.0171174\n",
      "[60]\tvalid_0's l2: 0.0160468\n",
      "[70]\tvalid_0's l2: 0.0153824\n",
      "[80]\tvalid_0's l2: 0.0152349\n",
      "[90]\tvalid_0's l2: 0.0150467\n",
      "[100]\tvalid_0's l2: 0.0147548\n",
      "[110]\tvalid_0's l2: 0.0146217\n",
      "[120]\tvalid_0's l2: 0.0145543\n",
      "[130]\tvalid_0's l2: 0.0146293\n",
      "[140]\tvalid_0's l2: 0.0145184\n",
      "[150]\tvalid_0's l2: 0.0144571\n",
      "[160]\tvalid_0's l2: 0.0144991\n",
      "Early stopping, best iteration is:\n",
      "[149]\tvalid_0's l2: 0.0144405\n"
     ]
    },
    {
     "name": "stderr",
     "output_type": "stream",
     "text": [
      "\u001b[32m[I 2024-04-06 01:15:04,258]\u001b[0m Trial 2 finished with value: 0.12016855708978465 and parameters: {'num_leaves': 42, 'max_bin': 89, 'bagging_fraction': 0.6644474598764523, 'bagging_freq': 9, 'feature_fraction': 0.5963923980504149, 'min_data_in_leaf': 11, 'min_sum_hessian_in_leaf': 9}. Best is trial 1 with value: 0.11993159255388675.\u001b[0m\n"
     ]
    },
    {
     "name": "stdout",
     "output_type": "stream",
     "text": [
      "Training until validation scores don't improve for 20 rounds\n",
      "[10]\tvalid_0's l2: 0.072307\n",
      "[20]\tvalid_0's l2: 0.0425346\n",
      "[30]\tvalid_0's l2: 0.0291234\n",
      "[40]\tvalid_0's l2: 0.0223009\n",
      "[50]\tvalid_0's l2: 0.0191146\n",
      "[60]\tvalid_0's l2: 0.0173464\n",
      "[70]\tvalid_0's l2: 0.0165334\n",
      "[80]\tvalid_0's l2: 0.0158133\n",
      "[90]\tvalid_0's l2: 0.0155071\n",
      "[100]\tvalid_0's l2: 0.0153544\n",
      "[110]\tvalid_0's l2: 0.0149679\n",
      "[120]\tvalid_0's l2: 0.0148365\n"
     ]
    },
    {
     "name": "stderr",
     "output_type": "stream",
     "text": [
      "\u001b[32m[I 2024-04-06 01:15:04,637]\u001b[0m Trial 3 finished with value: 0.12154791868356044 and parameters: {'num_leaves': 13, 'max_bin': 198, 'bagging_fraction': 0.4101091987201629, 'bagging_freq': 4, 'feature_fraction': 0.8785775794765232, 'min_data_in_leaf': 2, 'min_sum_hessian_in_leaf': 3}. Best is trial 1 with value: 0.11993159255388675.\u001b[0m\n"
     ]
    },
    {
     "name": "stdout",
     "output_type": "stream",
     "text": [
      "[130]\tvalid_0's l2: 0.0148509\n",
      "[140]\tvalid_0's l2: 0.0147798\n",
      "[150]\tvalid_0's l2: 0.0148712\n",
      "Early stopping, best iteration is:\n",
      "[138]\tvalid_0's l2: 0.0147739\n",
      "Training until validation scores don't improve for 20 rounds\n",
      "[10]\tvalid_0's l2: 0.0650373\n",
      "[20]\tvalid_0's l2: 0.0363107\n",
      "[30]\tvalid_0's l2: 0.0243954\n",
      "[40]\tvalid_0's l2: 0.019555\n",
      "[50]\tvalid_0's l2: 0.0175948\n",
      "[60]\tvalid_0's l2: 0.0166064\n",
      "[70]\tvalid_0's l2: 0.0162828\n",
      "[80]\tvalid_0's l2: 0.0161477\n",
      "[90]\tvalid_0's l2: 0.0159073\n",
      "[100]\tvalid_0's l2: 0.0156473\n"
     ]
    },
    {
     "name": "stderr",
     "output_type": "stream",
     "text": [
      "\u001b[32m[I 2024-04-06 01:15:05,097]\u001b[0m Trial 4 finished with value: 0.12465981604217612 and parameters: {'num_leaves': 39, 'max_bin': 79, 'bagging_fraction': 0.7902645881432278, 'bagging_freq': 8, 'feature_fraction': 0.7199605106637619, 'min_data_in_leaf': 11, 'min_sum_hessian_in_leaf': 10}. Best is trial 1 with value: 0.11993159255388675.\u001b[0m\n"
     ]
    },
    {
     "name": "stdout",
     "output_type": "stream",
     "text": [
      "[110]\tvalid_0's l2: 0.0155466\n",
      "[120]\tvalid_0's l2: 0.0155792\n",
      "Early stopping, best iteration is:\n",
      "[109]\tvalid_0's l2: 0.0155401\n",
      "Training until validation scores don't improve for 20 rounds\n",
      "[10]\tvalid_0's l2: 0.066723\n",
      "[20]\tvalid_0's l2: 0.0371884\n",
      "[30]\tvalid_0's l2: 0.0242069\n",
      "[40]\tvalid_0's l2: 0.0192268\n",
      "[50]\tvalid_0's l2: 0.0162787\n",
      "[60]\tvalid_0's l2: 0.015014\n",
      "[70]\tvalid_0's l2: 0.0144116\n",
      "[80]\tvalid_0's l2: 0.0140046\n",
      "[90]\tvalid_0's l2: 0.0137706\n",
      "[100]\tvalid_0's l2: 0.013536\n",
      "[110]\tvalid_0's l2: 0.0133955\n",
      "[120]\tvalid_0's l2: 0.0132434\n",
      "[130]\tvalid_0's l2: 0.0132142\n"
     ]
    },
    {
     "name": "stderr",
     "output_type": "stream",
     "text": [
      "\u001b[32m[I 2024-04-06 01:15:05,530]\u001b[0m Trial 5 finished with value: 0.11450271484921037 and parameters: {'num_leaves': 36, 'max_bin': 81, 'bagging_fraction': 0.4529538035938961, 'bagging_freq': 8, 'feature_fraction': 0.5322778060523135, 'min_data_in_leaf': 13, 'min_sum_hessian_in_leaf': 3}. Best is trial 5 with value: 0.11450271484921037.\u001b[0m\n"
     ]
    },
    {
     "name": "stdout",
     "output_type": "stream",
     "text": [
      "[140]\tvalid_0's l2: 0.0131967\n",
      "[150]\tvalid_0's l2: 0.0133084\n",
      "Early stopping, best iteration is:\n",
      "[137]\tvalid_0's l2: 0.0131109\n",
      "Training until validation scores don't improve for 20 rounds\n",
      "[10]\tvalid_0's l2: 0.0658605\n",
      "[20]\tvalid_0's l2: 0.0363631\n",
      "[30]\tvalid_0's l2: 0.0239238\n",
      "[40]\tvalid_0's l2: 0.0191562\n",
      "[50]\tvalid_0's l2: 0.0168272\n",
      "[60]\tvalid_0's l2: 0.0159399\n",
      "[70]\tvalid_0's l2: 0.0153866\n",
      "[80]\tvalid_0's l2: 0.0150919\n",
      "[90]\tvalid_0's l2: 0.0148998\n",
      "[100]\tvalid_0's l2: 0.0147981\n",
      "[110]\tvalid_0's l2: 0.0146927\n",
      "[120]\tvalid_0's l2: 0.0147412\n",
      "[130]\tvalid_0's l2: 0.0146699\n",
      "[140]\tvalid_0's l2: 0.0147363\n"
     ]
    },
    {
     "name": "stderr",
     "output_type": "stream",
     "text": [
      "\u001b[32m[I 2024-04-06 01:15:06,185]\u001b[0m Trial 6 finished with value: 0.12105452688163111 and parameters: {'num_leaves': 59, 'max_bin': 78, 'bagging_fraction': 0.6842169744343243, 'bagging_freq': 1, 'feature_fraction': 0.5620705038966071, 'min_data_in_leaf': 7, 'min_sum_hessian_in_leaf': 7}. Best is trial 5 with value: 0.11450271484921037.\u001b[0m\n"
     ]
    },
    {
     "name": "stdout",
     "output_type": "stream",
     "text": [
      "Early stopping, best iteration is:\n",
      "[129]\tvalid_0's l2: 0.0146542\n",
      "Training until validation scores don't improve for 20 rounds\n",
      "[10]\tvalid_0's l2: 0.0652228\n",
      "[20]\tvalid_0's l2: 0.0354877\n",
      "[30]\tvalid_0's l2: 0.023769\n",
      "[40]\tvalid_0's l2: 0.0191383\n",
      "[50]\tvalid_0's l2: 0.0173035\n",
      "[60]\tvalid_0's l2: 0.0166267\n",
      "[70]\tvalid_0's l2: 0.0162183\n",
      "[80]\tvalid_0's l2: 0.0158302\n",
      "[90]\tvalid_0's l2: 0.0156273\n",
      "[100]\tvalid_0's l2: 0.015653\n",
      "[110]\tvalid_0's l2: 0.0155986\n",
      "[120]\tvalid_0's l2: 0.01555\n"
     ]
    },
    {
     "name": "stderr",
     "output_type": "stream",
     "text": [
      "\u001b[32m[I 2024-04-06 01:15:06,741]\u001b[0m Trial 7 finished with value: 0.12415947323972014 and parameters: {'num_leaves': 44, 'max_bin': 67, 'bagging_fraction': 0.8718740392573121, 'bagging_freq': 10, 'feature_fraction': 0.6249749949556138, 'min_data_in_leaf': 10, 'min_sum_hessian_in_leaf': 2}. Best is trial 5 with value: 0.11450271484921037.\u001b[0m\n"
     ]
    },
    {
     "name": "stdout",
     "output_type": "stream",
     "text": [
      "[130]\tvalid_0's l2: 0.0155596\n",
      "[140]\tvalid_0's l2: 0.0154966\n",
      "[150]\tvalid_0's l2: 0.0154339\n",
      "[160]\tvalid_0's l2: 0.0154789\n",
      "Early stopping, best iteration is:\n",
      "[146]\tvalid_0's l2: 0.0154156\n",
      "Training until validation scores don't improve for 20 rounds\n",
      "[10]\tvalid_0's l2: 0.0789856\n",
      "[20]\tvalid_0's l2: 0.0488433\n",
      "[30]\tvalid_0's l2: 0.0342554\n",
      "[40]\tvalid_0's l2: 0.0270374\n",
      "[50]\tvalid_0's l2: 0.0228565\n",
      "[60]\tvalid_0's l2: 0.0204885\n",
      "[70]\tvalid_0's l2: 0.0188501\n",
      "[80]\tvalid_0's l2: 0.0180382\n",
      "[90]\tvalid_0's l2: 0.0172677\n",
      "[100]\tvalid_0's l2: 0.0166854\n",
      "[110]\tvalid_0's l2: 0.0162546\n",
      "[120]\tvalid_0's l2: 0.0157567\n",
      "[130]\tvalid_0's l2: 0.0153409\n",
      "[140]\tvalid_0's l2: 0.0150176\n",
      "[150]\tvalid_0's l2: 0.0148528\n",
      "[160]\tvalid_0's l2: 0.014738\n",
      "[170]\tvalid_0's l2: 0.0145972\n",
      "[180]\tvalid_0's l2: 0.01464\n",
      "[190]\tvalid_0's l2: 0.0144893\n",
      "[200]\tvalid_0's l2: 0.0143612\n",
      "[210]\tvalid_0's l2: 0.0143486\n",
      "[220]\tvalid_0's l2: 0.0143559\n",
      "[230]\tvalid_0's l2: 0.0143261\n",
      "[240]\tvalid_0's l2: 0.0142924\n",
      "[250]\tvalid_0's l2: 0.0142915\n",
      "[260]\tvalid_0's l2: 0.0142381\n",
      "[270]\tvalid_0's l2: 0.0142012\n",
      "[280]\tvalid_0's l2: 0.0141424\n",
      "[290]\tvalid_0's l2: 0.0141117\n",
      "[300]\tvalid_0's l2: 0.0140401\n",
      "[310]\tvalid_0's l2: 0.0139462\n"
     ]
    },
    {
     "name": "stderr",
     "output_type": "stream",
     "text": [
      "\u001b[32m[I 2024-04-06 01:15:07,112]\u001b[0m Trial 8 finished with value: 0.1179076952712458 and parameters: {'num_leaves': 5, 'max_bin': 107, 'bagging_fraction': 0.7333833577228339, 'bagging_freq': 8, 'feature_fraction': 0.4854547925680226, 'min_data_in_leaf': 4, 'min_sum_hessian_in_leaf': 1}. Best is trial 5 with value: 0.11450271484921037.\u001b[0m\n"
     ]
    },
    {
     "name": "stdout",
     "output_type": "stream",
     "text": [
      "[320]\tvalid_0's l2: 0.0139227\n",
      "[330]\tvalid_0's l2: 0.0139754\n",
      "[340]\tvalid_0's l2: 0.0139647\n",
      "Early stopping, best iteration is:\n",
      "[323]\tvalid_0's l2: 0.0139022\n",
      "Training until validation scores don't improve for 20 rounds\n",
      "[10]\tvalid_0's l2: 0.0678227\n",
      "[20]\tvalid_0's l2: 0.0381911\n",
      "[30]\tvalid_0's l2: 0.0255524\n",
      "[40]\tvalid_0's l2: 0.0199045\n",
      "[50]\tvalid_0's l2: 0.0172889\n",
      "[60]\tvalid_0's l2: 0.0161249\n",
      "[70]\tvalid_0's l2: 0.0153637\n",
      "[80]\tvalid_0's l2: 0.0150127\n",
      "[90]\tvalid_0's l2: 0.0143112\n",
      "[100]\tvalid_0's l2: 0.0139445\n",
      "[110]\tvalid_0's l2: 0.0137232\n",
      "[120]\tvalid_0's l2: 0.0133814\n",
      "[130]\tvalid_0's l2: 0.0132814\n",
      "[140]\tvalid_0's l2: 0.0133337\n"
     ]
    },
    {
     "name": "stderr",
     "output_type": "stream",
     "text": [
      "\u001b[32m[I 2024-04-06 01:15:07,529]\u001b[0m Trial 9 finished with value: 0.11523991644402974 and parameters: {'num_leaves': 18, 'max_bin': 149, 'bagging_fraction': 0.5818553854713113, 'bagging_freq': 10, 'feature_fraction': 0.4192127132363674, 'min_data_in_leaf': 13, 'min_sum_hessian_in_leaf': 5}. Best is trial 5 with value: 0.11450271484921037.\u001b[0m\n"
     ]
    },
    {
     "name": "stdout",
     "output_type": "stream",
     "text": [
      "[150]\tvalid_0's l2: 0.0133688\n",
      "[160]\tvalid_0's l2: 0.0134331\n",
      "Early stopping, best iteration is:\n",
      "[144]\tvalid_0's l2: 0.0132802\n",
      "Training until validation scores don't improve for 20 rounds\n",
      "[10]\tvalid_0's l2: 0.0714911\n",
      "[20]\tvalid_0's l2: 0.042169\n",
      "[30]\tvalid_0's l2: 0.0289754\n",
      "[40]\tvalid_0's l2: 0.0232127\n",
      "[50]\tvalid_0's l2: 0.0194404\n",
      "[60]\tvalid_0's l2: 0.0177576\n",
      "[70]\tvalid_0's l2: 0.0168979\n"
     ]
    },
    {
     "name": "stderr",
     "output_type": "stream",
     "text": [
      "\u001b[32m[I 2024-04-06 01:15:08,022]\u001b[0m Trial 10 finished with value: 0.12177856839423287 and parameters: {'num_leaves': 10, 'max_bin': 97, 'bagging_fraction': 0.5044383780474173, 'bagging_freq': 4, 'feature_fraction': 0.8976497838389439, 'min_data_in_leaf': 6, 'min_sum_hessian_in_leaf': 9}. Best is trial 5 with value: 0.11450271484921037.\u001b[0m\n"
     ]
    },
    {
     "name": "stdout",
     "output_type": "stream",
     "text": [
      "[80]\tvalid_0's l2: 0.0160823\n",
      "[90]\tvalid_0's l2: 0.015528\n",
      "[100]\tvalid_0's l2: 0.0152136\n",
      "[110]\tvalid_0's l2: 0.0149543\n",
      "[120]\tvalid_0's l2: 0.0148637\n",
      "[130]\tvalid_0's l2: 0.0148914\n",
      "Early stopping, best iteration is:\n",
      "[117]\tvalid_0's l2: 0.01483\n",
      "Training until validation scores don't improve for 20 rounds\n",
      "[10]\tvalid_0's l2: 0.0664527\n",
      "[20]\tvalid_0's l2: 0.0367546\n",
      "[30]\tvalid_0's l2: 0.0247403\n",
      "[40]\tvalid_0's l2: 0.0192415\n",
      "[50]\tvalid_0's l2: 0.0165369\n",
      "[60]\tvalid_0's l2: 0.0152495\n",
      "[70]\tvalid_0's l2: 0.014694\n",
      "[80]\tvalid_0's l2: 0.014408\n",
      "[90]\tvalid_0's l2: 0.0140962\n",
      "[100]\tvalid_0's l2: 0.0138583\n",
      "[110]\tvalid_0's l2: 0.0137769\n",
      "[120]\tvalid_0's l2: 0.0136276\n"
     ]
    },
    {
     "name": "stderr",
     "output_type": "stream",
     "text": [
      "\u001b[32m[I 2024-04-06 01:15:08,430]\u001b[0m Trial 11 finished with value: 0.11652994601254614 and parameters: {'num_leaves': 18, 'max_bin': 193, 'bagging_fraction': 0.6373487511442064, 'bagging_freq': 8, 'feature_fraction': 0.5690038074194459, 'min_data_in_leaf': 7, 'min_sum_hessian_in_leaf': 6}. Best is trial 5 with value: 0.11450271484921037.\u001b[0m\n"
     ]
    },
    {
     "name": "stdout",
     "output_type": "stream",
     "text": [
      "[130]\tvalid_0's l2: 0.0136321\n",
      "[140]\tvalid_0's l2: 0.0136338\n",
      "[150]\tvalid_0's l2: 0.0136091\n",
      "Early stopping, best iteration is:\n",
      "[136]\tvalid_0's l2: 0.0135792\n",
      "Training until validation scores don't improve for 20 rounds\n",
      "[10]\tvalid_0's l2: 0.0647588\n",
      "[20]\tvalid_0's l2: 0.0349984\n",
      "[30]\tvalid_0's l2: 0.0233514\n",
      "[40]\tvalid_0's l2: 0.0186129\n",
      "[50]\tvalid_0's l2: 0.0168256\n",
      "[60]\tvalid_0's l2: 0.0159972\n",
      "[70]\tvalid_0's l2: 0.0156956\n",
      "[80]\tvalid_0's l2: 0.0154431\n",
      "[90]\tvalid_0's l2: 0.0153998\n",
      "[100]\tvalid_0's l2: 0.0152196\n",
      "[110]\tvalid_0's l2: 0.0151182\n",
      "[120]\tvalid_0's l2: 0.0151021\n",
      "[130]\tvalid_0's l2: 0.0151437\n",
      "Early stopping, best iteration is:\n",
      "[119]\tvalid_0's l2: 0.0150963\n"
     ]
    },
    {
     "name": "stderr",
     "output_type": "stream",
     "text": [
      "\u001b[32m[I 2024-04-06 01:15:09,000]\u001b[0m Trial 12 finished with value: 0.12286706944715342 and parameters: {'num_leaves': 52, 'max_bin': 99, 'bagging_fraction': 0.7891727410129545, 'bagging_freq': 4, 'feature_fraction': 0.5843625853304821, 'min_data_in_leaf': 7, 'min_sum_hessian_in_leaf': 1}. Best is trial 5 with value: 0.11450271484921037.\u001b[0m\n"
     ]
    },
    {
     "name": "stdout",
     "output_type": "stream",
     "text": [
      "Training until validation scores don't improve for 20 rounds\n",
      "[10]\tvalid_0's l2: 0.0682911\n",
      "[20]\tvalid_0's l2: 0.0386168\n",
      "[30]\tvalid_0's l2: 0.0255767\n",
      "[40]\tvalid_0's l2: 0.0203076\n",
      "[50]\tvalid_0's l2: 0.0172768\n",
      "[60]\tvalid_0's l2: 0.0160795\n"
     ]
    },
    {
     "name": "stderr",
     "output_type": "stream",
     "text": [
      "\u001b[32m[I 2024-04-06 01:15:09,478]\u001b[0m Trial 13 finished with value: 0.11841956784359024 and parameters: {'num_leaves': 53, 'max_bin': 86, 'bagging_fraction': 0.44804920394698156, 'bagging_freq': 4, 'feature_fraction': 0.6343256008238508, 'min_data_in_leaf': 15, 'min_sum_hessian_in_leaf': 1}. Best is trial 5 with value: 0.11450271484921037.\u001b[0m\n"
     ]
    },
    {
     "name": "stdout",
     "output_type": "stream",
     "text": [
      "[70]\tvalid_0's l2: 0.0155088\n",
      "[80]\tvalid_0's l2: 0.0149434\n",
      "[90]\tvalid_0's l2: 0.0146747\n",
      "[100]\tvalid_0's l2: 0.0144945\n",
      "[110]\tvalid_0's l2: 0.0141937\n",
      "[120]\tvalid_0's l2: 0.0140853\n",
      "[130]\tvalid_0's l2: 0.0141417\n",
      "Early stopping, best iteration is:\n",
      "[116]\tvalid_0's l2: 0.0140232\n",
      "Training until validation scores don't improve for 20 rounds\n",
      "[10]\tvalid_0's l2: 0.064503\n",
      "[20]\tvalid_0's l2: 0.0352093\n",
      "[30]\tvalid_0's l2: 0.0234891\n",
      "[40]\tvalid_0's l2: 0.0185909\n",
      "[50]\tvalid_0's l2: 0.0161692\n",
      "[60]\tvalid_0's l2: 0.0153193\n",
      "[70]\tvalid_0's l2: 0.0148714\n",
      "[80]\tvalid_0's l2: 0.0146284\n",
      "[90]\tvalid_0's l2: 0.0143575\n",
      "[100]\tvalid_0's l2: 0.0142016\n",
      "[110]\tvalid_0's l2: 0.014141\n",
      "[120]\tvalid_0's l2: 0.0141619\n"
     ]
    },
    {
     "name": "stderr",
     "output_type": "stream",
     "text": [
      "\u001b[32m[I 2024-04-06 01:15:10,454]\u001b[0m Trial 14 finished with value: 0.1188269447477814 and parameters: {'num_leaves': 43, 'max_bin': 199, 'bagging_fraction': 0.7696317896991509, 'bagging_freq': 1, 'feature_fraction': 0.6208554606244228, 'min_data_in_leaf': 13, 'min_sum_hessian_in_leaf': 8}. Best is trial 5 with value: 0.11450271484921037.\u001b[0m\n"
     ]
    },
    {
     "name": "stdout",
     "output_type": "stream",
     "text": [
      "[130]\tvalid_0's l2: 0.014156\n",
      "Early stopping, best iteration is:\n",
      "[114]\tvalid_0's l2: 0.0141198\n",
      "Training until validation scores don't improve for 20 rounds\n",
      "[10]\tvalid_0's l2: 0.0638841\n",
      "[20]\tvalid_0's l2: 0.033974\n",
      "[30]\tvalid_0's l2: 0.0227035\n",
      "[40]\tvalid_0's l2: 0.0183261\n",
      "[50]\tvalid_0's l2: 0.0165711\n",
      "[60]\tvalid_0's l2: 0.0161538\n",
      "[70]\tvalid_0's l2: 0.0159373\n",
      "[80]\tvalid_0's l2: 0.0157746\n",
      "[90]\tvalid_0's l2: 0.0157867\n",
      "[100]\tvalid_0's l2: 0.0157982\n"
     ]
    },
    {
     "name": "stderr",
     "output_type": "stream",
     "text": [
      "\u001b[32m[I 2024-04-06 01:15:11,148]\u001b[0m Trial 15 finished with value: 0.12545585731452635 and parameters: {'num_leaves': 63, 'max_bin': 180, 'bagging_fraction': 0.7443305914028853, 'bagging_freq': 4, 'feature_fraction': 0.8591177331810724, 'min_data_in_leaf': 5, 'min_sum_hessian_in_leaf': 3}. Best is trial 5 with value: 0.11450271484921037.\u001b[0m\n"
     ]
    },
    {
     "name": "stdout",
     "output_type": "stream",
     "text": [
      "Early stopping, best iteration is:\n",
      "[87]\tvalid_0's l2: 0.0157392\n",
      "Training until validation scores don't improve for 20 rounds\n",
      "[10]\tvalid_0's l2: 0.065279\n",
      "[20]\tvalid_0's l2: 0.0361918\n",
      "[30]\tvalid_0's l2: 0.0242375\n",
      "[40]\tvalid_0's l2: 0.0200262\n",
      "[50]\tvalid_0's l2: 0.0181791\n",
      "[60]\tvalid_0's l2: 0.0171899\n",
      "[70]\tvalid_0's l2: 0.0167983\n",
      "[80]\tvalid_0's l2: 0.0164832\n",
      "[90]\tvalid_0's l2: 0.0161529\n",
      "[100]\tvalid_0's l2: 0.0161126\n",
      "[110]\tvalid_0's l2: 0.0162093\n",
      "[120]\tvalid_0's l2: 0.0158933\n",
      "[130]\tvalid_0's l2: 0.0160807\n"
     ]
    },
    {
     "name": "stderr",
     "output_type": "stream",
     "text": [
      "\u001b[32m[I 2024-04-06 01:15:11,853]\u001b[0m Trial 16 finished with value: 0.12600544262284663 and parameters: {'num_leaves': 50, 'max_bin': 198, 'bagging_fraction': 0.5326947454697227, 'bagging_freq': 10, 'feature_fraction': 0.8605788051185999, 'min_data_in_leaf': 6, 'min_sum_hessian_in_leaf': 7}. Best is trial 5 with value: 0.11450271484921037.\u001b[0m\n"
     ]
    },
    {
     "name": "stdout",
     "output_type": "stream",
     "text": [
      "[140]\tvalid_0's l2: 0.01626\n",
      "Early stopping, best iteration is:\n",
      "[121]\tvalid_0's l2: 0.0158774\n",
      "Training until validation scores don't improve for 20 rounds\n",
      "[10]\tvalid_0's l2: 0.0653738\n",
      "[20]\tvalid_0's l2: 0.0360629\n",
      "[30]\tvalid_0's l2: 0.0234117\n",
      "[40]\tvalid_0's l2: 0.018839\n",
      "[50]\tvalid_0's l2: 0.0166146\n",
      "[60]\tvalid_0's l2: 0.0157724\n",
      "[70]\tvalid_0's l2: 0.0153026\n",
      "[80]\tvalid_0's l2: 0.0150196\n",
      "[90]\tvalid_0's l2: 0.0149924\n",
      "[100]\tvalid_0's l2: 0.014963\n",
      "[110]\tvalid_0's l2: 0.0148668\n",
      "[120]\tvalid_0's l2: 0.0149008\n"
     ]
    },
    {
     "name": "stderr",
     "output_type": "stream",
     "text": [
      "\u001b[32m[I 2024-04-06 01:15:12,476]\u001b[0m Trial 17 finished with value: 0.12184922310884305 and parameters: {'num_leaves': 47, 'max_bin': 154, 'bagging_fraction': 0.7337051899818409, 'bagging_freq': 4, 'feature_fraction': 0.7235870700937778, 'min_data_in_leaf': 8, 'min_sum_hessian_in_leaf': 1}. Best is trial 5 with value: 0.11450271484921037.\u001b[0m\n"
     ]
    },
    {
     "name": "stdout",
     "output_type": "stream",
     "text": [
      "[130]\tvalid_0's l2: 0.0149093\n",
      "Early stopping, best iteration is:\n",
      "[112]\tvalid_0's l2: 0.0148472\n",
      "Training until validation scores don't improve for 20 rounds\n",
      "[10]\tvalid_0's l2: 0.0683565\n",
      "[20]\tvalid_0's l2: 0.0382067\n",
      "[30]\tvalid_0's l2: 0.025194\n",
      "[40]\tvalid_0's l2: 0.0195212\n",
      "[50]\tvalid_0's l2: 0.0166997\n",
      "[60]\tvalid_0's l2: 0.0152952\n",
      "[70]\tvalid_0's l2: 0.0146501\n",
      "[80]\tvalid_0's l2: 0.0144148\n",
      "[90]\tvalid_0's l2: 0.014133\n",
      "[100]\tvalid_0's l2: 0.0140931\n",
      "[110]\tvalid_0's l2: 0.0139959\n",
      "[120]\tvalid_0's l2: 0.0138683\n",
      "[130]\tvalid_0's l2: 0.0137782\n",
      "[140]\tvalid_0's l2: 0.0138188\n",
      "Early stopping, best iteration is:\n",
      "[129]\tvalid_0's l2: 0.0137642\n"
     ]
    },
    {
     "name": "stderr",
     "output_type": "stream",
     "text": [
      "\u001b[32m[I 2024-04-06 01:15:12,889]\u001b[0m Trial 18 finished with value: 0.11732078229337793 and parameters: {'num_leaves': 42, 'max_bin': 69, 'bagging_fraction': 0.5989103763793145, 'bagging_freq': 4, 'feature_fraction': 0.4100537730937468, 'min_data_in_leaf': 10, 'min_sum_hessian_in_leaf': 9}. Best is trial 5 with value: 0.11450271484921037.\u001b[0m\n"
     ]
    },
    {
     "name": "stdout",
     "output_type": "stream",
     "text": [
      "Training until validation scores don't improve for 20 rounds\n",
      "[10]\tvalid_0's l2: 0.0765542\n",
      "[20]\tvalid_0's l2: 0.046658\n",
      "[30]\tvalid_0's l2: 0.0318115\n",
      "[40]\tvalid_0's l2: 0.0248099\n",
      "[50]\tvalid_0's l2: 0.021008\n",
      "[60]\tvalid_0's l2: 0.0189471\n",
      "[70]\tvalid_0's l2: 0.0176464\n",
      "[80]\tvalid_0's l2: 0.016679\n",
      "[90]\tvalid_0's l2: 0.0159377\n",
      "[100]\tvalid_0's l2: 0.0154426\n",
      "[110]\tvalid_0's l2: 0.0149866\n",
      "[120]\tvalid_0's l2: 0.0146361\n",
      "[130]\tvalid_0's l2: 0.0143269\n",
      "[140]\tvalid_0's l2: 0.0141366\n",
      "[150]\tvalid_0's l2: 0.0139326\n",
      "[160]\tvalid_0's l2: 0.0138974\n",
      "[170]\tvalid_0's l2: 0.0137877\n",
      "[180]\tvalid_0's l2: 0.013781\n",
      "[190]\tvalid_0's l2: 0.0137498\n",
      "[200]\tvalid_0's l2: 0.0137248\n",
      "[210]\tvalid_0's l2: 0.0136788\n",
      "[220]\tvalid_0's l2: 0.0136466\n",
      "[230]\tvalid_0's l2: 0.0137005\n",
      "[240]\tvalid_0's l2: 0.0136567\n",
      "Early stopping, best iteration is:\n",
      "[222]\tvalid_0's l2: 0.0136373\n"
     ]
    },
    {
     "name": "stderr",
     "output_type": "stream",
     "text": [
      "\u001b[32m[I 2024-04-06 01:15:13,206]\u001b[0m Trial 19 finished with value: 0.11677891640895158 and parameters: {'num_leaves': 6, 'max_bin': 53, 'bagging_fraction': 0.7518686396449581, 'bagging_freq': 1, 'feature_fraction': 0.5243765717599791, 'min_data_in_leaf': 5, 'min_sum_hessian_in_leaf': 9}. Best is trial 5 with value: 0.11450271484921037.\u001b[0m\n"
     ]
    },
    {
     "name": "stdout",
     "output_type": "stream",
     "text": [
      "Training until validation scores don't improve for 20 rounds\n",
      "[10]\tvalid_0's l2: 0.067084\n",
      "[20]\tvalid_0's l2: 0.0369499\n",
      "[30]\tvalid_0's l2: 0.024934\n",
      "[40]\tvalid_0's l2: 0.0198914\n",
      "[50]\tvalid_0's l2: 0.0176013\n",
      "[60]\tvalid_0's l2: 0.0163238\n",
      "[70]\tvalid_0's l2: 0.0156886\n"
     ]
    },
    {
     "name": "stderr",
     "output_type": "stream",
     "text": [
      "\u001b[32m[I 2024-04-06 01:15:13,696]\u001b[0m Trial 20 finished with value: 0.12009805848911312 and parameters: {'num_leaves': 30, 'max_bin': 117, 'bagging_fraction': 0.8763745057584925, 'bagging_freq': 1, 'feature_fraction': 0.8232043362355639, 'min_data_in_leaf': 15, 'min_sum_hessian_in_leaf': 7}. Best is trial 5 with value: 0.11450271484921037.\u001b[0m\n"
     ]
    },
    {
     "name": "stdout",
     "output_type": "stream",
     "text": [
      "[80]\tvalid_0's l2: 0.0152624\n",
      "[90]\tvalid_0's l2: 0.0148359\n",
      "[100]\tvalid_0's l2: 0.0146644\n",
      "[110]\tvalid_0's l2: 0.0144549\n",
      "[120]\tvalid_0's l2: 0.0144482\n",
      "[130]\tvalid_0's l2: 0.0144704\n",
      "Early stopping, best iteration is:\n",
      "[114]\tvalid_0's l2: 0.0144235\n",
      "Training until validation scores don't improve for 20 rounds\n",
      "[10]\tvalid_0's l2: 0.0681442\n",
      "[20]\tvalid_0's l2: 0.0380085\n",
      "[30]\tvalid_0's l2: 0.0261107\n",
      "[40]\tvalid_0's l2: 0.0205652\n",
      "[50]\tvalid_0's l2: 0.0178882\n",
      "[60]\tvalid_0's l2: 0.0163647\n",
      "[70]\tvalid_0's l2: 0.0156533\n",
      "[80]\tvalid_0's l2: 0.0149989\n",
      "[90]\tvalid_0's l2: 0.014531\n",
      "[100]\tvalid_0's l2: 0.014182\n",
      "[110]\tvalid_0's l2: 0.0141326\n",
      "[120]\tvalid_0's l2: 0.0140785\n",
      "[130]\tvalid_0's l2: 0.0139993\n",
      "[140]\tvalid_0's l2: 0.0139063\n"
     ]
    },
    {
     "name": "stderr",
     "output_type": "stream",
     "text": [
      "\u001b[32m[I 2024-04-06 01:15:14,091]\u001b[0m Trial 21 finished with value: 0.11731797070107244 and parameters: {'num_leaves': 17, 'max_bin': 171, 'bagging_fraction': 0.5982528704234924, 'bagging_freq': 9, 'feature_fraction': 0.5248981378274891, 'min_data_in_leaf': 15, 'min_sum_hessian_in_leaf': 6}. Best is trial 5 with value: 0.11450271484921037.\u001b[0m\n"
     ]
    },
    {
     "name": "stdout",
     "output_type": "stream",
     "text": [
      "[150]\tvalid_0's l2: 0.0138115\n",
      "[160]\tvalid_0's l2: 0.0140203\n",
      "Early stopping, best iteration is:\n",
      "[147]\tvalid_0's l2: 0.0137635\n",
      "Training until validation scores don't improve for 20 rounds\n",
      "[10]\tvalid_0's l2: 0.0652907\n",
      "[20]\tvalid_0's l2: 0.0357185\n",
      "[30]\tvalid_0's l2: 0.0236335\n",
      "[40]\tvalid_0's l2: 0.0183294\n",
      "[50]\tvalid_0's l2: 0.0159908\n",
      "[60]\tvalid_0's l2: 0.0152161\n",
      "[70]\tvalid_0's l2: 0.014601\n",
      "[80]\tvalid_0's l2: 0.0142753\n",
      "[90]\tvalid_0's l2: 0.0140472\n",
      "[100]\tvalid_0's l2: 0.0140025\n",
      "[110]\tvalid_0's l2: 0.0137721\n",
      "[120]\tvalid_0's l2: 0.013864\n",
      "[130]\tvalid_0's l2: 0.0138962\n",
      "Early stopping, best iteration is:\n",
      "[110]\tvalid_0's l2: 0.0137721\n"
     ]
    },
    {
     "name": "stderr",
     "output_type": "stream",
     "text": [
      "\u001b[32m[I 2024-04-06 01:15:14,489]\u001b[0m Trial 22 finished with value: 0.11735467312609581 and parameters: {'num_leaves': 50, 'max_bin': 75, 'bagging_fraction': 0.6942325425343747, 'bagging_freq': 10, 'feature_fraction': 0.6506621909633512, 'min_data_in_leaf': 15, 'min_sum_hessian_in_leaf': 4}. Best is trial 5 with value: 0.11450271484921037.\u001b[0m\n"
     ]
    },
    {
     "name": "stdout",
     "output_type": "stream",
     "text": [
      "Training until validation scores don't improve for 20 rounds\n",
      "[10]\tvalid_0's l2: 0.0652573\n",
      "[20]\tvalid_0's l2: 0.0356933\n",
      "[30]\tvalid_0's l2: 0.0234486\n",
      "[40]\tvalid_0's l2: 0.0185575\n",
      "[50]\tvalid_0's l2: 0.0161945\n",
      "[60]\tvalid_0's l2: 0.0151973\n",
      "[70]\tvalid_0's l2: 0.0147341\n",
      "[80]\tvalid_0's l2: 0.0143462\n",
      "[90]\tvalid_0's l2: 0.0139623\n",
      "[100]\tvalid_0's l2: 0.0138007\n",
      "[110]\tvalid_0's l2: 0.0136625\n",
      "[120]\tvalid_0's l2: 0.0136176\n",
      "[130]\tvalid_0's l2: 0.0135896\n",
      "[140]\tvalid_0's l2: 0.0137978\n",
      "Early stopping, best iteration is:\n",
      "[128]\tvalid_0's l2: 0.0135413\n"
     ]
    },
    {
     "name": "stderr",
     "output_type": "stream",
     "text": [
      "\u001b[32m[I 2024-04-06 01:15:15,009]\u001b[0m Trial 23 finished with value: 0.11636723514295798 and parameters: {'num_leaves': 37, 'max_bin': 154, 'bagging_fraction': 0.6119275242790898, 'bagging_freq': 10, 'feature_fraction': 0.6350660946278825, 'min_data_in_leaf': 15, 'min_sum_hessian_in_leaf': 8}. Best is trial 5 with value: 0.11450271484921037.\u001b[0m\n"
     ]
    },
    {
     "name": "stdout",
     "output_type": "stream",
     "text": [
      "Training until validation scores don't improve for 20 rounds\n",
      "[10]\tvalid_0's l2: 0.064673\n",
      "[20]\tvalid_0's l2: 0.0358636\n",
      "[30]\tvalid_0's l2: 0.0243129\n",
      "[40]\tvalid_0's l2: 0.0194287\n",
      "[50]\tvalid_0's l2: 0.0168688\n",
      "[60]\tvalid_0's l2: 0.0157224\n",
      "[70]\tvalid_0's l2: 0.0152176\n",
      "[80]\tvalid_0's l2: 0.0149346\n",
      "[90]\tvalid_0's l2: 0.0146488\n",
      "[100]\tvalid_0's l2: 0.0144692\n",
      "[110]\tvalid_0's l2: 0.0144355\n",
      "[120]\tvalid_0's l2: 0.0143636\n",
      "[130]\tvalid_0's l2: 0.0142334\n",
      "[140]\tvalid_0's l2: 0.0143202\n",
      "[150]\tvalid_0's l2: 0.0142964\n",
      "Early stopping, best iteration is:\n",
      "[131]\tvalid_0's l2: 0.0142174\n"
     ]
    },
    {
     "name": "stderr",
     "output_type": "stream",
     "text": [
      "\u001b[32m[I 2024-04-06 01:15:15,588]\u001b[0m Trial 24 finished with value: 0.11923684670695016 and parameters: {'num_leaves': 60, 'max_bin': 129, 'bagging_fraction': 0.7745849185763624, 'bagging_freq': 9, 'feature_fraction': 0.46773703211122514, 'min_data_in_leaf': 13, 'min_sum_hessian_in_leaf': 7}. Best is trial 5 with value: 0.11450271484921037.\u001b[0m\n"
     ]
    },
    {
     "name": "stdout",
     "output_type": "stream",
     "text": [
      "Training until validation scores don't improve for 20 rounds\n",
      "[10]\tvalid_0's l2: 0.0649272\n",
      "[20]\tvalid_0's l2: 0.0356\n",
      "[30]\tvalid_0's l2: 0.0238446\n",
      "[40]\tvalid_0's l2: 0.0187748\n",
      "[50]\tvalid_0's l2: 0.0164683\n",
      "[60]\tvalid_0's l2: 0.0153422\n",
      "[70]\tvalid_0's l2: 0.0148014\n",
      "[80]\tvalid_0's l2: 0.0145728\n",
      "[90]\tvalid_0's l2: 0.0143581\n",
      "[100]\tvalid_0's l2: 0.0142405\n",
      "[110]\tvalid_0's l2: 0.0142499\n",
      "[120]\tvalid_0's l2: 0.0142175\n",
      "[130]\tvalid_0's l2: 0.0141916\n",
      "[140]\tvalid_0's l2: 0.0140563\n",
      "[150]\tvalid_0's l2: 0.014066\n",
      "Early stopping, best iteration is:\n",
      "[137]\tvalid_0's l2: 0.0140362\n"
     ]
    },
    {
     "name": "stderr",
     "output_type": "stream",
     "text": [
      "\u001b[32m[I 2024-04-06 01:15:16,194]\u001b[0m Trial 25 finished with value: 0.11847435283489506 and parameters: {'num_leaves': 51, 'max_bin': 143, 'bagging_fraction': 0.6954363806240866, 'bagging_freq': 7, 'feature_fraction': 0.7266004099285668, 'min_data_in_leaf': 15, 'min_sum_hessian_in_leaf': 9}. Best is trial 5 with value: 0.11450271484921037.\u001b[0m\n",
      "\u001b[32m[I 2024-04-06 01:15:16,463]\u001b[0m Trial 26 finished with value: 0.11783689830874759 and parameters: {'num_leaves': 7, 'max_bin': 53, 'bagging_fraction': 0.5837809350239482, 'bagging_freq': 7, 'feature_fraction': 0.8920211206820732, 'min_data_in_leaf': 16, 'min_sum_hessian_in_leaf': 6}. Best is trial 5 with value: 0.11450271484921037.\u001b[0m\n"
     ]
    },
    {
     "name": "stdout",
     "output_type": "stream",
     "text": [
      "Training until validation scores don't improve for 20 rounds\n",
      "[10]\tvalid_0's l2: 0.073876\n",
      "[20]\tvalid_0's l2: 0.0448991\n",
      "[30]\tvalid_0's l2: 0.030633\n",
      "[40]\tvalid_0's l2: 0.0236322\n",
      "[50]\tvalid_0's l2: 0.0200889\n",
      "[60]\tvalid_0's l2: 0.0185025\n",
      "[70]\tvalid_0's l2: 0.0173161\n",
      "[80]\tvalid_0's l2: 0.0163032\n",
      "[90]\tvalid_0's l2: 0.0155353\n",
      "[100]\tvalid_0's l2: 0.0150329\n",
      "[110]\tvalid_0's l2: 0.0148594\n",
      "[120]\tvalid_0's l2: 0.0147283\n",
      "[130]\tvalid_0's l2: 0.014425\n",
      "[140]\tvalid_0's l2: 0.0141389\n",
      "[150]\tvalid_0's l2: 0.0140683\n",
      "[160]\tvalid_0's l2: 0.0139661\n",
      "[170]\tvalid_0's l2: 0.0139219\n",
      "[180]\tvalid_0's l2: 0.0139416\n",
      "[190]\tvalid_0's l2: 0.0139609\n",
      "Early stopping, best iteration is:\n",
      "[172]\tvalid_0's l2: 0.0138855\n",
      "Training until validation scores don't improve for 20 rounds\n",
      "[10]\tvalid_0's l2: 0.0665076\n",
      "[20]\tvalid_0's l2: 0.0379523\n",
      "[30]\tvalid_0's l2: 0.0248047\n",
      "[40]\tvalid_0's l2: 0.0190503\n",
      "[50]\tvalid_0's l2: 0.0164872\n",
      "[60]\tvalid_0's l2: 0.0153284\n",
      "[70]\tvalid_0's l2: 0.0143746\n",
      "[80]\tvalid_0's l2: 0.0142492\n",
      "[90]\tvalid_0's l2: 0.014004\n",
      "[100]\tvalid_0's l2: 0.0137696\n"
     ]
    },
    {
     "name": "stderr",
     "output_type": "stream",
     "text": [
      "\u001b[32m[I 2024-04-06 01:15:16,966]\u001b[0m Trial 27 finished with value: 0.1158158456309509 and parameters: {'num_leaves': 27, 'max_bin': 93, 'bagging_fraction': 0.4501134436561506, 'bagging_freq': 9, 'feature_fraction': 0.5761558306002665, 'min_data_in_leaf': 8, 'min_sum_hessian_in_leaf': 6}. Best is trial 5 with value: 0.11450271484921037.\u001b[0m\n"
     ]
    },
    {
     "name": "stdout",
     "output_type": "stream",
     "text": [
      "[110]\tvalid_0's l2: 0.0136914\n",
      "[120]\tvalid_0's l2: 0.013533\n",
      "[130]\tvalid_0's l2: 0.013524\n",
      "[140]\tvalid_0's l2: 0.0135593\n",
      "[150]\tvalid_0's l2: 0.0134781\n",
      "[160]\tvalid_0's l2: 0.013487\n",
      "[170]\tvalid_0's l2: 0.0135122\n",
      "Early stopping, best iteration is:\n",
      "[156]\tvalid_0's l2: 0.0134133\n",
      "Training until validation scores don't improve for 20 rounds\n",
      "[10]\tvalid_0's l2: 0.0690979\n",
      "[20]\tvalid_0's l2: 0.038839\n",
      "[30]\tvalid_0's l2: 0.0258266\n",
      "[40]\tvalid_0's l2: 0.0199675\n",
      "[50]\tvalid_0's l2: 0.0174164\n",
      "[60]\tvalid_0's l2: 0.0158509\n",
      "[70]\tvalid_0's l2: 0.0150225\n",
      "[80]\tvalid_0's l2: 0.014613\n",
      "[90]\tvalid_0's l2: 0.0143711\n",
      "[100]\tvalid_0's l2: 0.0143384\n"
     ]
    },
    {
     "name": "stderr",
     "output_type": "stream",
     "text": [
      "\u001b[32m[I 2024-04-06 01:15:17,436]\u001b[0m Trial 28 finished with value: 0.11840320333100765 and parameters: {'num_leaves': 32, 'max_bin': 161, 'bagging_fraction': 0.41877969191407016, 'bagging_freq': 4, 'feature_fraction': 0.48342375652424985, 'min_data_in_leaf': 7, 'min_sum_hessian_in_leaf': 4}. Best is trial 5 with value: 0.11450271484921037.\u001b[0m\n"
     ]
    },
    {
     "name": "stdout",
     "output_type": "stream",
     "text": [
      "[110]\tvalid_0's l2: 0.0142161\n",
      "[120]\tvalid_0's l2: 0.0141996\n",
      "[130]\tvalid_0's l2: 0.0141772\n",
      "[140]\tvalid_0's l2: 0.0141414\n",
      "[150]\tvalid_0's l2: 0.0140544\n",
      "[160]\tvalid_0's l2: 0.0140984\n",
      "[170]\tvalid_0's l2: 0.0140547\n",
      "Early stopping, best iteration is:\n",
      "[151]\tvalid_0's l2: 0.0140193\n",
      "Training until validation scores don't improve for 20 rounds\n",
      "[10]\tvalid_0's l2: 0.0668116\n",
      "[20]\tvalid_0's l2: 0.0372639\n",
      "[30]\tvalid_0's l2: 0.0244123\n",
      "[40]\tvalid_0's l2: 0.0192614\n",
      "[50]\tvalid_0's l2: 0.0169847\n",
      "[60]\tvalid_0's l2: 0.0159214\n",
      "[70]\tvalid_0's l2: 0.015362\n",
      "[80]\tvalid_0's l2: 0.0150671\n",
      "[90]\tvalid_0's l2: 0.0146028\n",
      "[100]\tvalid_0's l2: 0.0145697\n",
      "[110]\tvalid_0's l2: 0.0144033\n",
      "[120]\tvalid_0's l2: 0.0143986\n",
      "[130]\tvalid_0's l2: 0.0144306\n",
      "Early stopping, best iteration is:\n",
      "[116]\tvalid_0's l2: 0.0143851\n"
     ]
    },
    {
     "name": "stderr",
     "output_type": "stream",
     "text": [
      "\u001b[32m[I 2024-04-06 01:15:18,044]\u001b[0m Trial 29 finished with value: 0.11993810321877155 and parameters: {'num_leaves': 50, 'max_bin': 198, 'bagging_fraction': 0.6056983618777273, 'bagging_freq': 4, 'feature_fraction': 0.6035916486129999, 'min_data_in_leaf': 11, 'min_sum_hessian_in_leaf': 10}. Best is trial 5 with value: 0.11450271484921037.\u001b[0m\n"
     ]
    },
    {
     "name": "stdout",
     "output_type": "stream",
     "text": [
      "Training until validation scores don't improve for 20 rounds\n",
      "[10]\tvalid_0's l2: 0.0647619\n",
      "[20]\tvalid_0's l2: 0.0365354\n",
      "[30]\tvalid_0's l2: 0.0250243\n",
      "[40]\tvalid_0's l2: 0.020141\n",
      "[50]\tvalid_0's l2: 0.0174671\n",
      "[60]\tvalid_0's l2: 0.0166647\n",
      "[70]\tvalid_0's l2: 0.0161798\n",
      "[80]\tvalid_0's l2: 0.0161148\n",
      "[90]\tvalid_0's l2: 0.0159169\n",
      "[100]\tvalid_0's l2: 0.0158505\n",
      "[110]\tvalid_0's l2: 0.015861\n",
      "[120]\tvalid_0's l2: 0.0159139\n",
      "Early stopping, best iteration is:\n",
      "[106]\tvalid_0's l2: 0.0157658\n"
     ]
    },
    {
     "name": "stderr",
     "output_type": "stream",
     "text": [
      "\u001b[32m[I 2024-04-06 01:15:18,602]\u001b[0m Trial 30 finished with value: 0.12556196159241456 and parameters: {'num_leaves': 45, 'max_bin': 181, 'bagging_fraction': 0.6100376848953053, 'bagging_freq': 3, 'feature_fraction': 0.8331911629643146, 'min_data_in_leaf': 11, 'min_sum_hessian_in_leaf': 8}. Best is trial 5 with value: 0.11450271484921037.\u001b[0m\n"
     ]
    },
    {
     "name": "stdout",
     "output_type": "stream",
     "text": [
      "Training until validation scores don't improve for 20 rounds\n",
      "[10]\tvalid_0's l2: 0.0643937\n",
      "[20]\tvalid_0's l2: 0.0346471\n",
      "[30]\tvalid_0's l2: 0.0233911\n",
      "[40]\tvalid_0's l2: 0.0188451\n",
      "[50]\tvalid_0's l2: 0.0165735\n",
      "[60]\tvalid_0's l2: 0.0156418\n",
      "[70]\tvalid_0's l2: 0.0151736\n",
      "[80]\tvalid_0's l2: 0.0149711\n",
      "[90]\tvalid_0's l2: 0.0148957\n",
      "[100]\tvalid_0's l2: 0.0148009\n",
      "[110]\tvalid_0's l2: 0.0148332\n",
      "[120]\tvalid_0's l2: 0.0148401\n",
      "Early stopping, best iteration is:\n",
      "[103]\tvalid_0's l2: 0.0147777\n"
     ]
    },
    {
     "name": "stderr",
     "output_type": "stream",
     "text": [
      "\u001b[32m[I 2024-04-06 01:15:19,147]\u001b[0m Trial 31 finished with value: 0.12156346639079493 and parameters: {'num_leaves': 43, 'max_bin': 111, 'bagging_fraction': 0.7649952812120291, 'bagging_freq': 3, 'feature_fraction': 0.6605183031020647, 'min_data_in_leaf': 3, 'min_sum_hessian_in_leaf': 6}. Best is trial 5 with value: 0.11450271484921037.\u001b[0m\n"
     ]
    },
    {
     "name": "stdout",
     "output_type": "stream",
     "text": [
      "Training until validation scores don't improve for 20 rounds\n",
      "[10]\tvalid_0's l2: 0.0660911\n",
      "[20]\tvalid_0's l2: 0.0375159\n",
      "[30]\tvalid_0's l2: 0.0248725\n",
      "[40]\tvalid_0's l2: 0.0198308\n",
      "[50]\tvalid_0's l2: 0.0171655\n",
      "[60]\tvalid_0's l2: 0.0158184\n",
      "[70]\tvalid_0's l2: 0.0149952\n",
      "[80]\tvalid_0's l2: 0.0147676\n"
     ]
    },
    {
     "name": "stderr",
     "output_type": "stream",
     "text": [
      "\u001b[32m[I 2024-04-06 01:15:19,643]\u001b[0m Trial 32 finished with value: 0.11942512851760272 and parameters: {'num_leaves': 44, 'max_bin': 86, 'bagging_fraction': 0.48549329934156576, 'bagging_freq': 3, 'feature_fraction': 0.5119623440301901, 'min_data_in_leaf': 7, 'min_sum_hessian_in_leaf': 1}. Best is trial 5 with value: 0.11450271484921037.\u001b[0m\n"
     ]
    },
    {
     "name": "stdout",
     "output_type": "stream",
     "text": [
      "[90]\tvalid_0's l2: 0.0146447\n",
      "[100]\tvalid_0's l2: 0.0144409\n",
      "[110]\tvalid_0's l2: 0.0142863\n",
      "[120]\tvalid_0's l2: 0.0143479\n",
      "Early stopping, best iteration is:\n",
      "[109]\tvalid_0's l2: 0.0142624\n",
      "Training until validation scores don't improve for 20 rounds\n",
      "[10]\tvalid_0's l2: 0.0703525\n",
      "[20]\tvalid_0's l2: 0.0413555\n",
      "[30]\tvalid_0's l2: 0.0278927\n",
      "[40]\tvalid_0's l2: 0.021847\n",
      "[50]\tvalid_0's l2: 0.0186521\n",
      "[60]\tvalid_0's l2: 0.0173875\n",
      "[70]\tvalid_0's l2: 0.0165869\n",
      "[80]\tvalid_0's l2: 0.015944\n",
      "[90]\tvalid_0's l2: 0.015518\n",
      "[100]\tvalid_0's l2: 0.0153518\n",
      "[110]\tvalid_0's l2: 0.0152583\n",
      "[120]\tvalid_0's l2: 0.015185\n",
      "[130]\tvalid_0's l2: 0.0149472\n",
      "[140]\tvalid_0's l2: 0.0147831\n",
      "[150]\tvalid_0's l2: 0.0145958\n",
      "[160]\tvalid_0's l2: 0.0145884\n",
      "[170]\tvalid_0's l2: 0.0145193\n",
      "[180]\tvalid_0's l2: 0.0145227\n",
      "[190]\tvalid_0's l2: 0.0145194\n",
      "[200]\tvalid_0's l2: 0.0144307\n",
      "[210]\tvalid_0's l2: 0.014446\n",
      "[220]\tvalid_0's l2: 0.0144813\n",
      "Early stopping, best iteration is:\n",
      "[201]\tvalid_0's l2: 0.0144219\n"
     ]
    },
    {
     "name": "stderr",
     "output_type": "stream",
     "text": [
      "\u001b[32m[I 2024-04-06 01:15:20,143]\u001b[0m Trial 33 finished with value: 0.12009133694296564 and parameters: {'num_leaves': 12, 'max_bin': 179, 'bagging_fraction': 0.7918221226509443, 'bagging_freq': 4, 'feature_fraction': 0.7107392007498818, 'min_data_in_leaf': 10, 'min_sum_hessian_in_leaf': 5}. Best is trial 5 with value: 0.11450271484921037.\u001b[0m\n"
     ]
    },
    {
     "name": "stdout",
     "output_type": "stream",
     "text": [
      "Training until validation scores don't improve for 20 rounds\n",
      "[10]\tvalid_0's l2: 0.0669706\n",
      "[20]\tvalid_0's l2: 0.0377969\n",
      "[30]\tvalid_0's l2: 0.0247987\n",
      "[40]\tvalid_0's l2: 0.0198019\n",
      "[50]\tvalid_0's l2: 0.0170157\n",
      "[60]\tvalid_0's l2: 0.0155117\n",
      "[70]\tvalid_0's l2: 0.015021\n",
      "[80]\tvalid_0's l2: 0.0146229\n",
      "[90]\tvalid_0's l2: 0.0144297\n",
      "[100]\tvalid_0's l2: 0.0143414\n",
      "[110]\tvalid_0's l2: 0.0142152\n",
      "[120]\tvalid_0's l2: 0.0141087\n",
      "[130]\tvalid_0's l2: 0.0139873\n"
     ]
    },
    {
     "name": "stderr",
     "output_type": "stream",
     "text": [
      "\u001b[32m[I 2024-04-06 01:15:20,573]\u001b[0m Trial 34 finished with value: 0.11805812871494815 and parameters: {'num_leaves': 40, 'max_bin': 75, 'bagging_fraction': 0.5336312689407392, 'bagging_freq': 4, 'feature_fraction': 0.8321407213431223, 'min_data_in_leaf': 15, 'min_sum_hessian_in_leaf': 2}. Best is trial 5 with value: 0.11450271484921037.\u001b[0m\n"
     ]
    },
    {
     "name": "stdout",
     "output_type": "stream",
     "text": [
      "[140]\tvalid_0's l2: 0.0140035\n",
      "[150]\tvalid_0's l2: 0.0139997\n",
      "[160]\tvalid_0's l2: 0.0140058\n",
      "Early stopping, best iteration is:\n",
      "[148]\tvalid_0's l2: 0.0139377\n",
      "Training until validation scores don't improve for 20 rounds\n",
      "[10]\tvalid_0's l2: 0.0659368\n",
      "[20]\tvalid_0's l2: 0.035869\n",
      "[30]\tvalid_0's l2: 0.0239454\n",
      "[40]\tvalid_0's l2: 0.0191608\n",
      "[50]\tvalid_0's l2: 0.0170515\n",
      "[60]\tvalid_0's l2: 0.0158901\n",
      "[70]\tvalid_0's l2: 0.015358\n",
      "[80]\tvalid_0's l2: 0.0151675\n",
      "[90]\tvalid_0's l2: 0.015039\n",
      "[100]\tvalid_0's l2: 0.0148814\n",
      "[110]\tvalid_0's l2: 0.0148671\n",
      "[120]\tvalid_0's l2: 0.0148165\n",
      "[130]\tvalid_0's l2: 0.0148197\n",
      "[140]\tvalid_0's l2: 0.0147649\n",
      "[150]\tvalid_0's l2: 0.0147079\n",
      "[160]\tvalid_0's l2: 0.0147187\n",
      "Early stopping, best iteration is:\n",
      "[142]\tvalid_0's l2: 0.0147053\n"
     ]
    },
    {
     "name": "stderr",
     "output_type": "stream",
     "text": [
      "\u001b[32m[I 2024-04-06 01:15:21,176]\u001b[0m Trial 35 finished with value: 0.12126553894034876 and parameters: {'num_leaves': 37, 'max_bin': 196, 'bagging_fraction': 0.6771212175422201, 'bagging_freq': 5, 'feature_fraction': 0.5049218744875611, 'min_data_in_leaf': 7, 'min_sum_hessian_in_leaf': 6}. Best is trial 5 with value: 0.11450271484921037.\u001b[0m\n"
     ]
    },
    {
     "name": "stdout",
     "output_type": "stream",
     "text": [
      "Training until validation scores don't improve for 20 rounds\n",
      "[10]\tvalid_0's l2: 0.0680714\n",
      "[20]\tvalid_0's l2: 0.0389141\n",
      "[30]\tvalid_0's l2: 0.0259181\n",
      "[40]\tvalid_0's l2: 0.0200306\n",
      "[50]\tvalid_0's l2: 0.0174262\n",
      "[60]\tvalid_0's l2: 0.0162708\n",
      "[70]\tvalid_0's l2: 0.015605\n",
      "[80]\tvalid_0's l2: 0.0153327\n",
      "[90]\tvalid_0's l2: 0.0149977\n",
      "[100]\tvalid_0's l2: 0.0147547\n",
      "[110]\tvalid_0's l2: 0.014865\n",
      "Early stopping, best iteration is:\n",
      "[99]\tvalid_0's l2: 0.0147165\n"
     ]
    },
    {
     "name": "stderr",
     "output_type": "stream",
     "text": [
      "\u001b[32m[I 2024-04-06 01:15:21,497]\u001b[0m Trial 36 finished with value: 0.12131172002887249 and parameters: {'num_leaves': 16, 'max_bin': 94, 'bagging_fraction': 0.7697753975246437, 'bagging_freq': 3, 'feature_fraction': 0.8851183415480504, 'min_data_in_leaf': 7, 'min_sum_hessian_in_leaf': 8}. Best is trial 5 with value: 0.11450271484921037.\u001b[0m\n"
     ]
    },
    {
     "name": "stdout",
     "output_type": "stream",
     "text": [
      "Training until validation scores don't improve for 20 rounds\n",
      "[10]\tvalid_0's l2: 0.0655951\n",
      "[20]\tvalid_0's l2: 0.0365813\n",
      "[30]\tvalid_0's l2: 0.0247826\n",
      "[40]\tvalid_0's l2: 0.0194835\n",
      "[50]\tvalid_0's l2: 0.0176044\n",
      "[60]\tvalid_0's l2: 0.0167209\n",
      "[70]\tvalid_0's l2: 0.0161357\n",
      "[80]\tvalid_0's l2: 0.015962\n",
      "[90]\tvalid_0's l2: 0.0156685\n",
      "[100]\tvalid_0's l2: 0.0156008\n",
      "[110]\tvalid_0's l2: 0.0157011\n",
      "Early stopping, best iteration is:\n",
      "[96]\tvalid_0's l2: 0.0155604\n"
     ]
    },
    {
     "name": "stderr",
     "output_type": "stream",
     "text": [
      "\u001b[32m[I 2024-04-06 01:15:22,021]\u001b[0m Trial 37 finished with value: 0.12474146404990975 and parameters: {'num_leaves': 43, 'max_bin': 200, 'bagging_fraction': 0.6172083127790604, 'bagging_freq': 7, 'feature_fraction': 0.8405022811008375, 'min_data_in_leaf': 14, 'min_sum_hessian_in_leaf': 4}. Best is trial 5 with value: 0.11450271484921037.\u001b[0m\n"
     ]
    },
    {
     "name": "stdout",
     "output_type": "stream",
     "text": [
      "Training until validation scores don't improve for 20 rounds\n",
      "[10]\tvalid_0's l2: 0.0661586\n",
      "[20]\tvalid_0's l2: 0.0367744\n",
      "[30]\tvalid_0's l2: 0.0256147\n",
      "[40]\tvalid_0's l2: 0.0200453\n",
      "[50]\tvalid_0's l2: 0.0178137\n",
      "[60]\tvalid_0's l2: 0.0164368\n",
      "[70]\tvalid_0's l2: 0.0161113\n",
      "[80]\tvalid_0's l2: 0.0157676\n",
      "[90]\tvalid_0's l2: 0.0154944\n",
      "[100]\tvalid_0's l2: 0.0152303\n",
      "[110]\tvalid_0's l2: 0.0148793\n",
      "[120]\tvalid_0's l2: 0.0149495\n"
     ]
    },
    {
     "name": "stderr",
     "output_type": "stream",
     "text": [
      "\u001b[32m[I 2024-04-06 01:15:22,620]\u001b[0m Trial 38 finished with value: 0.12166866882437233 and parameters: {'num_leaves': 53, 'max_bin': 91, 'bagging_fraction': 0.41233936419566564, 'bagging_freq': 6, 'feature_fraction': 0.771917272654894, 'min_data_in_leaf': 4, 'min_sum_hessian_in_leaf': 1}. Best is trial 5 with value: 0.11450271484921037.\u001b[0m\n"
     ]
    },
    {
     "name": "stdout",
     "output_type": "stream",
     "text": [
      "[130]\tvalid_0's l2: 0.0148728\n",
      "Early stopping, best iteration is:\n",
      "[112]\tvalid_0's l2: 0.0148033\n",
      "Training until validation scores don't improve for 20 rounds\n",
      "[10]\tvalid_0's l2: 0.0651117\n",
      "[20]\tvalid_0's l2: 0.0362888\n",
      "[30]\tvalid_0's l2: 0.0237895\n",
      "[40]\tvalid_0's l2: 0.0186954\n",
      "[50]\tvalid_0's l2: 0.0165565\n",
      "[60]\tvalid_0's l2: 0.0153909\n",
      "[70]\tvalid_0's l2: 0.0149545\n",
      "[80]\tvalid_0's l2: 0.0145485\n"
     ]
    },
    {
     "name": "stderr",
     "output_type": "stream",
     "text": [
      "\u001b[32m[I 2024-04-06 01:15:23,199]\u001b[0m Trial 39 finished with value: 0.11977500419655561 and parameters: {'num_leaves': 31, 'max_bin': 123, 'bagging_fraction': 0.7035225305582258, 'bagging_freq': 2, 'feature_fraction': 0.8951694736983522, 'min_data_in_leaf': 2, 'min_sum_hessian_in_leaf': 7}. Best is trial 5 with value: 0.11450271484921037.\u001b[0m\n"
     ]
    },
    {
     "name": "stdout",
     "output_type": "stream",
     "text": [
      "[90]\tvalid_0's l2: 0.0144503\n",
      "[100]\tvalid_0's l2: 0.0144415\n",
      "[110]\tvalid_0's l2: 0.0143848\n",
      "[120]\tvalid_0's l2: 0.0143846\n",
      "[130]\tvalid_0's l2: 0.0143731\n",
      "Early stopping, best iteration is:\n",
      "[115]\tvalid_0's l2: 0.014346\n",
      "Training until validation scores don't improve for 20 rounds\n",
      "[10]\tvalid_0's l2: 0.0683925\n",
      "[20]\tvalid_0's l2: 0.0386465\n",
      "[30]\tvalid_0's l2: 0.0255106\n",
      "[40]\tvalid_0's l2: 0.0194625\n",
      "[50]\tvalid_0's l2: 0.0170571\n",
      "[60]\tvalid_0's l2: 0.0158882\n",
      "[70]\tvalid_0's l2: 0.0151922\n",
      "[80]\tvalid_0's l2: 0.0147576\n",
      "[90]\tvalid_0's l2: 0.0145488\n",
      "[100]\tvalid_0's l2: 0.0145242\n",
      "[110]\tvalid_0's l2: 0.0142672\n"
     ]
    },
    {
     "name": "stderr",
     "output_type": "stream",
     "text": [
      "\u001b[32m[I 2024-04-06 01:15:23,623]\u001b[0m Trial 40 finished with value: 0.11859893387110852 and parameters: {'num_leaves': 20, 'max_bin': 156, 'bagging_fraction': 0.4686102100485973, 'bagging_freq': 9, 'feature_fraction': 0.7791893269180707, 'min_data_in_leaf': 5, 'min_sum_hessian_in_leaf': 4}. Best is trial 5 with value: 0.11450271484921037.\u001b[0m\n"
     ]
    },
    {
     "name": "stdout",
     "output_type": "stream",
     "text": [
      "[120]\tvalid_0's l2: 0.0142599\n",
      "[130]\tvalid_0's l2: 0.0140705\n",
      "[140]\tvalid_0's l2: 0.0141176\n",
      "[150]\tvalid_0's l2: 0.0141743\n",
      "Early stopping, best iteration is:\n",
      "[131]\tvalid_0's l2: 0.0140657\n",
      "Training until validation scores don't improve for 20 rounds\n"
     ]
    },
    {
     "name": "stderr",
     "output_type": "stream",
     "text": [
      "\u001b[32m[I 2024-04-06 01:15:23,919]\u001b[0m Trial 41 finished with value: 0.11423629164370225 and parameters: {'num_leaves': 12, 'max_bin': 141, 'bagging_fraction': 0.5623414860332328, 'bagging_freq': 8, 'feature_fraction': 0.4000276784325043, 'min_data_in_leaf': 10, 'min_sum_hessian_in_leaf': 8}. Best is trial 41 with value: 0.11423629164370225.\u001b[0m\n"
     ]
    },
    {
     "name": "stdout",
     "output_type": "stream",
     "text": [
      "[10]\tvalid_0's l2: 0.072513\n",
      "[20]\tvalid_0's l2: 0.0417502\n",
      "[30]\tvalid_0's l2: 0.0281526\n",
      "[40]\tvalid_0's l2: 0.0216112\n",
      "[50]\tvalid_0's l2: 0.018335\n",
      "[60]\tvalid_0's l2: 0.0162278\n",
      "[70]\tvalid_0's l2: 0.0151157\n",
      "[80]\tvalid_0's l2: 0.0145485\n",
      "[90]\tvalid_0's l2: 0.0139394\n",
      "[100]\tvalid_0's l2: 0.0137131\n",
      "[110]\tvalid_0's l2: 0.013572\n",
      "[120]\tvalid_0's l2: 0.0132818\n",
      "[130]\tvalid_0's l2: 0.013122\n",
      "[140]\tvalid_0's l2: 0.0130843\n",
      "[150]\tvalid_0's l2: 0.0131006\n",
      "Early stopping, best iteration is:\n",
      "[138]\tvalid_0's l2: 0.0130499\n",
      "Training until validation scores don't improve for 20 rounds\n",
      "[10]\tvalid_0's l2: 0.0653015\n",
      "[20]\tvalid_0's l2: 0.0358458\n",
      "[30]\tvalid_0's l2: 0.0249895\n",
      "[40]\tvalid_0's l2: 0.0204474\n",
      "[50]\tvalid_0's l2: 0.0187128\n",
      "[60]\tvalid_0's l2: 0.0180108\n",
      "[70]\tvalid_0's l2: 0.0176666\n",
      "[80]\tvalid_0's l2: 0.0174431\n",
      "[90]\tvalid_0's l2: 0.0172012\n",
      "[100]\tvalid_0's l2: 0.0171856\n",
      "[110]\tvalid_0's l2: 0.0170051\n",
      "[120]\tvalid_0's l2: 0.0169864\n",
      "[130]\tvalid_0's l2: 0.0169511\n",
      "[140]\tvalid_0's l2: 0.0169351\n",
      "[150]\tvalid_0's l2: 0.0169537\n",
      "Early stopping, best iteration is:\n",
      "[139]\tvalid_0's l2: 0.0169325\n"
     ]
    },
    {
     "name": "stderr",
     "output_type": "stream",
     "text": [
      "\u001b[32m[I 2024-04-06 01:15:24,443]\u001b[0m Trial 42 finished with value: 0.13012487561125183 and parameters: {'num_leaves': 27, 'max_bin': 63, 'bagging_fraction': 0.8426688298047929, 'bagging_freq': 9, 'feature_fraction': 0.8763958284859723, 'min_data_in_leaf': 2, 'min_sum_hessian_in_leaf': 5}. Best is trial 41 with value: 0.11423629164370225.\u001b[0m\n"
     ]
    },
    {
     "name": "stdout",
     "output_type": "stream",
     "text": [
      "Training until validation scores don't improve for 20 rounds\n",
      "[10]\tvalid_0's l2: 0.0660589\n",
      "[20]\tvalid_0's l2: 0.036143\n",
      "[30]\tvalid_0's l2: 0.0241242\n",
      "[40]\tvalid_0's l2: 0.0192911\n",
      "[50]\tvalid_0's l2: 0.0171165\n",
      "[60]\tvalid_0's l2: 0.015937\n",
      "[70]\tvalid_0's l2: 0.0157351\n",
      "[80]\tvalid_0's l2: 0.0156081\n",
      "[90]\tvalid_0's l2: 0.0153869\n",
      "[100]\tvalid_0's l2: 0.0151558\n",
      "[110]\tvalid_0's l2: 0.0152067\n",
      "[120]\tvalid_0's l2: 0.0151155\n",
      "[130]\tvalid_0's l2: 0.0150625\n",
      "[140]\tvalid_0's l2: 0.0150132\n",
      "[150]\tvalid_0's l2: 0.0149945\n",
      "[160]\tvalid_0's l2: 0.0149916\n",
      "[170]\tvalid_0's l2: 0.0150387\n",
      "Early stopping, best iteration is:\n",
      "[159]\tvalid_0's l2: 0.0149704\n"
     ]
    },
    {
     "name": "stderr",
     "output_type": "stream",
     "text": [
      "\u001b[32m[I 2024-04-06 01:15:24,963]\u001b[0m Trial 43 finished with value: 0.12235351671188417 and parameters: {'num_leaves': 29, 'max_bin': 82, 'bagging_fraction': 0.7654279033850789, 'bagging_freq': 7, 'feature_fraction': 0.5568461962540149, 'min_data_in_leaf': 4, 'min_sum_hessian_in_leaf': 5}. Best is trial 41 with value: 0.11423629164370225.\u001b[0m\n"
     ]
    },
    {
     "name": "stdout",
     "output_type": "stream",
     "text": [
      "Training until validation scores don't improve for 20 rounds\n",
      "[10]\tvalid_0's l2: 0.0669381\n",
      "[20]\tvalid_0's l2: 0.0378453\n",
      "[30]\tvalid_0's l2: 0.0255369\n",
      "[40]\tvalid_0's l2: 0.0199284\n",
      "[50]\tvalid_0's l2: 0.0175859\n",
      "[60]\tvalid_0's l2: 0.0167136\n",
      "[70]\tvalid_0's l2: 0.0160521\n",
      "[80]\tvalid_0's l2: 0.0158441\n",
      "[90]\tvalid_0's l2: 0.0157034\n"
     ]
    },
    {
     "name": "stderr",
     "output_type": "stream",
     "text": [
      "\u001b[32m[I 2024-04-06 01:15:25,407]\u001b[0m Trial 44 finished with value: 0.12311068854335425 and parameters: {'num_leaves': 26, 'max_bin': 172, 'bagging_fraction': 0.5037350377205547, 'bagging_freq': 9, 'feature_fraction': 0.7652210882833972, 'min_data_in_leaf': 7, 'min_sum_hessian_in_leaf': 1}. Best is trial 41 with value: 0.11423629164370225.\u001b[0m\n"
     ]
    },
    {
     "name": "stdout",
     "output_type": "stream",
     "text": [
      "[100]\tvalid_0's l2: 0.0153309\n",
      "[110]\tvalid_0's l2: 0.0151562\n",
      "[120]\tvalid_0's l2: 0.0152855\n",
      "[130]\tvalid_0's l2: 0.0153164\n",
      "Early stopping, best iteration is:\n",
      "[110]\tvalid_0's l2: 0.0151562\n",
      "Training until validation scores don't improve for 20 rounds\n",
      "[10]\tvalid_0's l2: 0.0704023\n",
      "[20]\tvalid_0's l2: 0.0395719\n",
      "[30]\tvalid_0's l2: 0.0265984\n",
      "[40]\tvalid_0's l2: 0.0208868\n",
      "[50]\tvalid_0's l2: 0.0181072\n",
      "[60]\tvalid_0's l2: 0.0165052\n",
      "[70]\tvalid_0's l2: 0.0155322\n",
      "[80]\tvalid_0's l2: 0.0148632\n",
      "[90]\tvalid_0's l2: 0.0143871\n",
      "[100]\tvalid_0's l2: 0.0139431\n",
      "[110]\tvalid_0's l2: 0.0137593\n",
      "[120]\tvalid_0's l2: 0.0135173\n",
      "[130]\tvalid_0's l2: 0.0133736\n",
      "[140]\tvalid_0's l2: 0.0133244\n",
      "[150]\tvalid_0's l2: 0.0132986\n",
      "[160]\tvalid_0's l2: 0.0131959\n",
      "[170]\tvalid_0's l2: 0.0131655\n"
     ]
    },
    {
     "name": "stderr",
     "output_type": "stream",
     "text": [
      "\u001b[32m[I 2024-04-06 01:15:25,842]\u001b[0m Trial 45 finished with value: 0.11435008485674453 and parameters: {'num_leaves': 12, 'max_bin': 189, 'bagging_fraction': 0.8319278029616157, 'bagging_freq': 5, 'feature_fraction': 0.4874544371547538, 'min_data_in_leaf': 13, 'min_sum_hessian_in_leaf': 4}. Best is trial 41 with value: 0.11423629164370225.\u001b[0m\n"
     ]
    },
    {
     "name": "stdout",
     "output_type": "stream",
     "text": [
      "[180]\tvalid_0's l2: 0.0131803\n",
      "[190]\tvalid_0's l2: 0.0131699\n",
      "[200]\tvalid_0's l2: 0.0131157\n",
      "[210]\tvalid_0's l2: 0.0130759\n",
      "[220]\tvalid_0's l2: 0.0131261\n",
      "[230]\tvalid_0's l2: 0.0131953\n",
      "Early stopping, best iteration is:\n",
      "[210]\tvalid_0's l2: 0.0130759\n",
      "Training until validation scores don't improve for 20 rounds\n",
      "[10]\tvalid_0's l2: 0.066595\n",
      "[20]\tvalid_0's l2: 0.0364179\n",
      "[30]\tvalid_0's l2: 0.0242144\n",
      "[40]\tvalid_0's l2: 0.0191423\n",
      "[50]\tvalid_0's l2: 0.0166011\n",
      "[60]\tvalid_0's l2: 0.0156397\n",
      "[70]\tvalid_0's l2: 0.015099\n",
      "[80]\tvalid_0's l2: 0.0148778\n",
      "[90]\tvalid_0's l2: 0.0146256\n",
      "[100]\tvalid_0's l2: 0.0145441\n",
      "[110]\tvalid_0's l2: 0.0143662\n",
      "[120]\tvalid_0's l2: 0.0143196\n",
      "[130]\tvalid_0's l2: 0.01429\n",
      "[140]\tvalid_0's l2: 0.0141861\n",
      "[150]\tvalid_0's l2: 0.0140823\n",
      "[160]\tvalid_0's l2: 0.0140358\n",
      "[170]\tvalid_0's l2: 0.0140553\n",
      "[180]\tvalid_0's l2: 0.0140246\n",
      "[190]\tvalid_0's l2: 0.0140517\n",
      "Early stopping, best iteration is:\n",
      "[178]\tvalid_0's l2: 0.0139933\n"
     ]
    },
    {
     "name": "stderr",
     "output_type": "stream",
     "text": [
      "\u001b[32m[I 2024-04-06 01:15:26,601]\u001b[0m Trial 46 finished with value: 0.1182932013002419 and parameters: {'num_leaves': 39, 'max_bin': 155, 'bagging_fraction': 0.8202142662677163, 'bagging_freq': 3, 'feature_fraction': 0.47242387967168864, 'min_data_in_leaf': 7, 'min_sum_hessian_in_leaf': 8}. Best is trial 41 with value: 0.11423629164370225.\u001b[0m\n"
     ]
    },
    {
     "name": "stdout",
     "output_type": "stream",
     "text": [
      "Training until validation scores don't improve for 20 rounds\n",
      "[10]\tvalid_0's l2: 0.0647429\n",
      "[20]\tvalid_0's l2: 0.0349063\n",
      "[30]\tvalid_0's l2: 0.0228991\n",
      "[40]\tvalid_0's l2: 0.0186096\n",
      "[50]\tvalid_0's l2: 0.0165518\n",
      "[60]\tvalid_0's l2: 0.015892\n",
      "[70]\tvalid_0's l2: 0.0156999\n",
      "[80]\tvalid_0's l2: 0.0154628\n",
      "[90]\tvalid_0's l2: 0.0153693\n",
      "[100]\tvalid_0's l2: 0.0152127\n",
      "[110]\tvalid_0's l2: 0.0152622\n"
     ]
    },
    {
     "name": "stderr",
     "output_type": "stream",
     "text": [
      "\u001b[32m[I 2024-04-06 01:15:27,233]\u001b[0m Trial 47 finished with value: 0.12323267584180272 and parameters: {'num_leaves': 64, 'max_bin': 68, 'bagging_fraction': 0.7734971200997518, 'bagging_freq': 2, 'feature_fraction': 0.8518598698729667, 'min_data_in_leaf': 7, 'min_sum_hessian_in_leaf': 1}. Best is trial 41 with value: 0.11423629164370225.\u001b[0m\n"
     ]
    },
    {
     "name": "stdout",
     "output_type": "stream",
     "text": [
      "[120]\tvalid_0's l2: 0.0153531\n",
      "Early stopping, best iteration is:\n",
      "[102]\tvalid_0's l2: 0.0151863\n",
      "Training until validation scores don't improve for 20 rounds\n",
      "[10]\tvalid_0's l2: 0.0672944\n",
      "[20]\tvalid_0's l2: 0.0373072\n",
      "[30]\tvalid_0's l2: 0.0244507\n",
      "[40]\tvalid_0's l2: 0.0191328\n",
      "[50]\tvalid_0's l2: 0.0168647\n",
      "[60]\tvalid_0's l2: 0.0160712\n",
      "[70]\tvalid_0's l2: 0.0155362\n",
      "[80]\tvalid_0's l2: 0.015151\n",
      "[90]\tvalid_0's l2: 0.0149194\n",
      "[100]\tvalid_0's l2: 0.014836\n",
      "[110]\tvalid_0's l2: 0.0146705\n",
      "[120]\tvalid_0's l2: 0.0146908\n"
     ]
    },
    {
     "name": "stderr",
     "output_type": "stream",
     "text": [
      "\u001b[32m[I 2024-04-06 01:15:27,703]\u001b[0m Trial 48 finished with value: 0.12066238120922147 and parameters: {'num_leaves': 34, 'max_bin': 109, 'bagging_fraction': 0.6922380344778845, 'bagging_freq': 4, 'feature_fraction': 0.5460737633962744, 'min_data_in_leaf': 12, 'min_sum_hessian_in_leaf': 10}. Best is trial 41 with value: 0.11423629164370225.\u001b[0m\n"
     ]
    },
    {
     "name": "stdout",
     "output_type": "stream",
     "text": [
      "[130]\tvalid_0's l2: 0.0145831\n",
      "[140]\tvalid_0's l2: 0.0146368\n",
      "[150]\tvalid_0's l2: 0.0146379\n",
      "Early stopping, best iteration is:\n",
      "[131]\tvalid_0's l2: 0.0145594\n",
      "Training until validation scores don't improve for 20 rounds\n",
      "[10]\tvalid_0's l2: 0.068385\n",
      "[20]\tvalid_0's l2: 0.0395157\n",
      "[30]\tvalid_0's l2: 0.0260248\n",
      "[40]\tvalid_0's l2: 0.0204057\n",
      "[50]\tvalid_0's l2: 0.0177996\n",
      "[60]\tvalid_0's l2: 0.0163024\n",
      "[70]\tvalid_0's l2: 0.0153316\n",
      "[80]\tvalid_0's l2: 0.0151056\n",
      "[90]\tvalid_0's l2: 0.0145465\n",
      "[100]\tvalid_0's l2: 0.0141304\n",
      "[110]\tvalid_0's l2: 0.0140768\n",
      "[120]\tvalid_0's l2: 0.0139502\n",
      "[130]\tvalid_0's l2: 0.0139644\n",
      "[140]\tvalid_0's l2: 0.013913\n"
     ]
    },
    {
     "name": "stderr",
     "output_type": "stream",
     "text": [
      "\u001b[32m[I 2024-04-06 01:15:28,093]\u001b[0m Trial 49 finished with value: 0.11771160009355101 and parameters: {'num_leaves': 48, 'max_bin': 63, 'bagging_fraction': 0.4082148147957371, 'bagging_freq': 7, 'feature_fraction': 0.4046200367432704, 'min_data_in_leaf': 15, 'min_sum_hessian_in_leaf': 9}. Best is trial 41 with value: 0.11423629164370225.\u001b[0m\n"
     ]
    },
    {
     "name": "stdout",
     "output_type": "stream",
     "text": [
      "[150]\tvalid_0's l2: 0.0140083\n",
      "Early stopping, best iteration is:\n",
      "[139]\tvalid_0's l2: 0.013856\n"
     ]
    },
    {
     "data": {
      "text/plain": [
       "{'num_leaves': 12,\n",
       " 'max_bin': 141,\n",
       " 'bagging_fraction': 0.5623414860332328,\n",
       " 'bagging_freq': 8,\n",
       " 'feature_fraction': 0.4000276784325043,\n",
       " 'min_data_in_leaf': 10,\n",
       " 'min_sum_hessian_in_leaf': 8}"
      ]
     },
     "execution_count": 56,
     "metadata": {},
     "output_type": "execute_result"
    }
   ],
   "source": [
    "study = optuna.create_study(sampler = optuna.samplers.RandomSampler(seed=0))\n",
    "study.optimize(objective, n_trials = 50) #50회의 시행 중 가장 정확한 파라미터\n",
    "study.best_params"
   ]
  },
  {
   "cell_type": "code",
   "execution_count": 59,
   "id": "1ea71c10",
   "metadata": {},
   "outputs": [],
   "source": [
    "#교차검증\n",
    "lgbm_params = {\n",
    "    \"objective\":\"regression\",\n",
    "    \"random_seed\":1234,\n",
    "    \"learning_rate\":0.05,\n",
    "    \"n_estimators\":1000,\n",
    "    \"num_leaves\":12,\n",
    "    \"bagging_fraction\":0.5623414860332328,\n",
    "    \"bagging_freq\":8,\n",
    "    \"freature_fraction\":0.4000276784325043,\n",
    "    \"max_bin\":141,\n",
    "    \"min_data_in_leaf\":10,\n",
    "    \"min_sum_hessian_in_leaf\":4\n",
    "}"
   ]
  },
  {
   "cell_type": "code",
   "execution_count": 60,
   "id": "cdca4cf2",
   "metadata": {},
   "outputs": [
    {
     "name": "stdout",
     "output_type": "stream",
     "text": [
      "Training until validation scores don't improve for 20 rounds\n",
      "[10]\tvalid_0's l2: 0.0763005\n",
      "[20]\tvalid_0's l2: 0.0430002\n",
      "[30]\tvalid_0's l2: 0.0283258\n",
      "[40]\tvalid_0's l2: 0.0221414\n",
      "[50]\tvalid_0's l2: 0.0183753\n",
      "[60]\tvalid_0's l2: 0.0162708\n",
      "[70]\tvalid_0's l2: 0.0154117\n",
      "[80]\tvalid_0's l2: 0.0148168\n",
      "[90]\tvalid_0's l2: 0.0146084\n",
      "[100]\tvalid_0's l2: 0.0144186\n",
      "[110]\tvalid_0's l2: 0.0140888\n",
      "[120]\tvalid_0's l2: 0.0142378\n",
      "[130]\tvalid_0's l2: 0.0140463\n",
      "[140]\tvalid_0's l2: 0.0139469\n",
      "[150]\tvalid_0's l2: 0.013914\n",
      "[160]\tvalid_0's l2: 0.0137708\n",
      "[170]\tvalid_0's l2: 0.0136287\n",
      "[180]\tvalid_0's l2: 0.0136466\n",
      "[190]\tvalid_0's l2: 0.0136159\n",
      "Early stopping, best iteration is:\n",
      "[173]\tvalid_0's l2: 0.0135922\n",
      "0.11657396769708946\n",
      "Training until validation scores don't improve for 20 rounds\n",
      "[10]\tvalid_0's l2: 0.0823152\n",
      "[20]\tvalid_0's l2: 0.0476244\n",
      "[30]\tvalid_0's l2: 0.0338481\n",
      "[40]\tvalid_0's l2: 0.0275388\n",
      "[50]\tvalid_0's l2: 0.0237179\n",
      "[60]\tvalid_0's l2: 0.0216745\n",
      "[70]\tvalid_0's l2: 0.0205202\n",
      "[80]\tvalid_0's l2: 0.01961\n",
      "[90]\tvalid_0's l2: 0.0190463\n",
      "[100]\tvalid_0's l2: 0.0187816\n",
      "[110]\tvalid_0's l2: 0.0185395\n",
      "[120]\tvalid_0's l2: 0.0186604\n",
      "[130]\tvalid_0's l2: 0.018592\n",
      "Early stopping, best iteration is:\n",
      "[112]\tvalid_0's l2: 0.0184771\n",
      "0.13593034313337082\n",
      "Training until validation scores don't improve for 20 rounds\n",
      "[10]\tvalid_0's l2: 0.0678364\n",
      "[20]\tvalid_0's l2: 0.0388642\n",
      "[30]\tvalid_0's l2: 0.0262977\n",
      "[40]\tvalid_0's l2: 0.0202777\n",
      "[50]\tvalid_0's l2: 0.0174934\n",
      "[60]\tvalid_0's l2: 0.0155369\n",
      "[70]\tvalid_0's l2: 0.014646\n",
      "[80]\tvalid_0's l2: 0.0141964\n",
      "[90]\tvalid_0's l2: 0.0137415\n",
      "[100]\tvalid_0's l2: 0.0137018\n",
      "[110]\tvalid_0's l2: 0.0137115\n",
      "Early stopping, best iteration is:\n",
      "[97]\tvalid_0's l2: 0.013638\n",
      "0.11678180354695564\n"
     ]
    }
   ],
   "source": [
    "\n",
    "models = []\n",
    "rmses = []\n",
    "oof = np.zeros(len(train_X))\n",
    "\n",
    "for train_index, val_index in kf.split(train_X):\n",
    "    X_train = train_X.iloc[train_index]\n",
    "    X_valid = train_X.iloc[val_index]\n",
    "    y_train = train_Y.iloc[train_index]\n",
    "    y_valid = train_Y.iloc[val_index]\n",
    "        \n",
    "    lgb_train = lgb.Dataset(X_train, y_train)\n",
    "    lgb_eval = lgb.Dataset(X_valid, y_valid, reference=lgb_train)    \n",
    "    \n",
    "    model_lgb = lgb.train(lgbm_params, \n",
    "                          lgb_train, \n",
    "                          valid_sets=lgb_eval, \n",
    "                          num_boost_round=100,\n",
    "                          early_stopping_rounds=20,\n",
    "                          verbose_eval=10,\n",
    "                         )    \n",
    "    \n",
    "    y_pred = model_lgb.predict(X_valid, num_iteration=model_lgb.best_iteration)\n",
    "    tmp_rmse = np.sqrt(mean_squared_error(y_valid, y_pred))\n",
    "    print(tmp_rmse)    \n",
    "              \n",
    "    models.append(model_lgb)    \n",
    "    rmses.append(tmp_rmse)\n",
    "    oof[val_index] = y_pred"
   ]
  },
  {
   "cell_type": "code",
   "execution_count": 61,
   "id": "10311982",
   "metadata": {},
   "outputs": [
    {
     "data": {
      "text/plain": [
       "0.12309537145913862"
      ]
     },
     "execution_count": 61,
     "metadata": {},
     "output_type": "execute_result"
    }
   ],
   "source": [
    "sum(rmses)/len(rmses)"
   ]
  },
  {
   "cell_type": "code",
   "execution_count": 63,
   "id": "9b44e052",
   "metadata": {},
   "outputs": [],
   "source": [
    "#캐글에 결과 제출\n",
    "test_X = test_df_le.drop(['SalePrice', 'Id'], axis = 1)"
   ]
  },
  {
   "cell_type": "code",
   "execution_count": 64,
   "id": "f8f85e16",
   "metadata": {},
   "outputs": [],
   "source": [
    "preds = []\n",
    "\n",
    "for model in models:\n",
    "    pred = model.predict(test_X)\n",
    "    preds.append(pred)"
   ]
  },
  {
   "cell_type": "code",
   "execution_count": 65,
   "id": "a2ed03b7",
   "metadata": {},
   "outputs": [],
   "source": [
    "preds_array = np.array(preds)\n",
    "preds_mean = np.mean(preds_array, axis = 0)"
   ]
  },
  {
   "cell_type": "code",
   "execution_count": 66,
   "id": "6fb0c4dc",
   "metadata": {
    "scrolled": true
   },
   "outputs": [
    {
     "data": {
      "text/plain": [
       "1459"
      ]
     },
     "execution_count": 66,
     "metadata": {},
     "output_type": "execute_result"
    }
   ],
   "source": [
    "#로그 변환을 했으므로 다시 원래 스케일로 돌리기\n",
    "\n",
    "preds_exp = np.exp(preds_mean)\n",
    "len(preds_exp)\n"
   ]
  },
  {
   "cell_type": "markdown",
   "id": "6da0fa88",
   "metadata": {},
   "source": [
    "### 랜덤 포레스트 학습"
   ]
  },
  {
   "cell_type": "code",
   "execution_count": 69,
   "id": "0591137b",
   "metadata": {},
   "outputs": [],
   "source": [
    "from sklearn.ensemble import RandomForestRegressor as rf"
   ]
  },
  {
   "cell_type": "code",
   "execution_count": 70,
   "id": "10a32357",
   "metadata": {},
   "outputs": [
    {
     "name": "stdout",
     "output_type": "stream",
     "text": [
      "LotFrontage 479\n",
      "MasVnrArea 22\n",
      "BsmtFinSF1 1\n",
      "BsmtFinSF2 1\n",
      "BsmtUnfSF 1\n",
      "TotalBsmtSF 1\n",
      "BsmtFullBath 2\n",
      "BsmtHalfBath 2\n",
      "GarageYrBlt 159\n",
      "GarageCars 1\n",
      "GarageArea 1\n",
      "TotalSF 1\n",
      "Total_Bathrooms 2\n"
     ]
    }
   ],
   "source": [
    "#랜덤 포레스트는 결측치를 그대로 취급할 수 없어 중앙값으로 처리\n",
    "\n",
    "#먼저 결측치를 포함한 변수 확인\n",
    "hasnan_cat = []\n",
    "for col in all_df.columns:\n",
    "    tmp_null_count = all_df[col].isnull().sum()\n",
    "    if (tmp_null_count>0)&(col != 'SalePrice'):\n",
    "        print(col, tmp_null_count)\n",
    "        hasnan_cat.append(col)"
   ]
  },
  {
   "cell_type": "code",
   "execution_count": 71,
   "id": "90b5d7be",
   "metadata": {},
   "outputs": [
    {
     "data": {
      "text/html": [
       "<div>\n",
       "<style scoped>\n",
       "    .dataframe tbody tr th:only-of-type {\n",
       "        vertical-align: middle;\n",
       "    }\n",
       "\n",
       "    .dataframe tbody tr th {\n",
       "        vertical-align: top;\n",
       "    }\n",
       "\n",
       "    .dataframe thead th {\n",
       "        text-align: right;\n",
       "    }\n",
       "</style>\n",
       "<table border=\"1\" class=\"dataframe\">\n",
       "  <thead>\n",
       "    <tr style=\"text-align: right;\">\n",
       "      <th></th>\n",
       "      <th>LotFrontage</th>\n",
       "      <th>MasVnrArea</th>\n",
       "      <th>BsmtFinSF1</th>\n",
       "      <th>BsmtFinSF2</th>\n",
       "      <th>BsmtUnfSF</th>\n",
       "      <th>TotalBsmtSF</th>\n",
       "      <th>BsmtFullBath</th>\n",
       "      <th>BsmtHalfBath</th>\n",
       "      <th>GarageYrBlt</th>\n",
       "      <th>GarageCars</th>\n",
       "      <th>GarageArea</th>\n",
       "      <th>TotalSF</th>\n",
       "      <th>Total_Bathrooms</th>\n",
       "    </tr>\n",
       "  </thead>\n",
       "  <tbody>\n",
       "    <tr>\n",
       "      <th>count</th>\n",
       "      <td>2425.000000</td>\n",
       "      <td>2882.000000</td>\n",
       "      <td>2903.000000</td>\n",
       "      <td>2903.000000</td>\n",
       "      <td>2903.000000</td>\n",
       "      <td>2903.000000</td>\n",
       "      <td>2902.000000</td>\n",
       "      <td>2902.000000</td>\n",
       "      <td>2745.000000</td>\n",
       "      <td>2903.000000</td>\n",
       "      <td>2903.000000</td>\n",
       "      <td>2903.000000</td>\n",
       "      <td>2902.000000</td>\n",
       "    </tr>\n",
       "    <tr>\n",
       "      <th>mean</th>\n",
       "      <td>69.071340</td>\n",
       "      <td>101.191187</td>\n",
       "      <td>434.926628</td>\n",
       "      <td>49.016879</td>\n",
       "      <td>559.850499</td>\n",
       "      <td>1043.794006</td>\n",
       "      <td>0.426258</td>\n",
       "      <td>0.061337</td>\n",
       "      <td>1978.061202</td>\n",
       "      <td>1.763348</td>\n",
       "      <td>471.632794</td>\n",
       "      <td>2533.060971</td>\n",
       "      <td>2.431771</td>\n",
       "    </tr>\n",
       "    <tr>\n",
       "      <th>std</th>\n",
       "      <td>22.662001</td>\n",
       "      <td>177.804595</td>\n",
       "      <td>440.128728</td>\n",
       "      <td>168.444473</td>\n",
       "      <td>438.438879</td>\n",
       "      <td>420.008348</td>\n",
       "      <td>0.522410</td>\n",
       "      <td>0.245667</td>\n",
       "      <td>25.600996</td>\n",
       "      <td>0.761410</td>\n",
       "      <td>214.551791</td>\n",
       "      <td>764.699033</td>\n",
       "      <td>0.937184</td>\n",
       "    </tr>\n",
       "    <tr>\n",
       "      <th>min</th>\n",
       "      <td>21.000000</td>\n",
       "      <td>0.000000</td>\n",
       "      <td>0.000000</td>\n",
       "      <td>0.000000</td>\n",
       "      <td>0.000000</td>\n",
       "      <td>0.000000</td>\n",
       "      <td>0.000000</td>\n",
       "      <td>0.000000</td>\n",
       "      <td>1895.000000</td>\n",
       "      <td>0.000000</td>\n",
       "      <td>0.000000</td>\n",
       "      <td>334.000000</td>\n",
       "      <td>1.000000</td>\n",
       "    </tr>\n",
       "    <tr>\n",
       "      <th>25%</th>\n",
       "      <td>59.000000</td>\n",
       "      <td>0.000000</td>\n",
       "      <td>0.000000</td>\n",
       "      <td>0.000000</td>\n",
       "      <td>220.000000</td>\n",
       "      <td>791.500000</td>\n",
       "      <td>0.000000</td>\n",
       "      <td>0.000000</td>\n",
       "      <td>1960.000000</td>\n",
       "      <td>1.000000</td>\n",
       "      <td>319.500000</td>\n",
       "      <td>1998.500000</td>\n",
       "      <td>2.000000</td>\n",
       "    </tr>\n",
       "    <tr>\n",
       "      <th>50%</th>\n",
       "      <td>68.000000</td>\n",
       "      <td>0.000000</td>\n",
       "      <td>365.000000</td>\n",
       "      <td>0.000000</td>\n",
       "      <td>467.000000</td>\n",
       "      <td>988.000000</td>\n",
       "      <td>0.000000</td>\n",
       "      <td>0.000000</td>\n",
       "      <td>1979.000000</td>\n",
       "      <td>2.000000</td>\n",
       "      <td>478.000000</td>\n",
       "      <td>2444.000000</td>\n",
       "      <td>2.000000</td>\n",
       "    </tr>\n",
       "    <tr>\n",
       "      <th>75%</th>\n",
       "      <td>80.000000</td>\n",
       "      <td>164.000000</td>\n",
       "      <td>728.500000</td>\n",
       "      <td>0.000000</td>\n",
       "      <td>802.500000</td>\n",
       "      <td>1296.000000</td>\n",
       "      <td>1.000000</td>\n",
       "      <td>0.000000</td>\n",
       "      <td>2002.000000</td>\n",
       "      <td>2.000000</td>\n",
       "      <td>576.000000</td>\n",
       "      <td>2985.000000</td>\n",
       "      <td>3.000000</td>\n",
       "    </tr>\n",
       "    <tr>\n",
       "      <th>max</th>\n",
       "      <td>313.000000</td>\n",
       "      <td>1600.000000</td>\n",
       "      <td>4010.000000</td>\n",
       "      <td>1526.000000</td>\n",
       "      <td>2336.000000</td>\n",
       "      <td>5095.000000</td>\n",
       "      <td>3.000000</td>\n",
       "      <td>2.000000</td>\n",
       "      <td>2207.000000</td>\n",
       "      <td>5.000000</td>\n",
       "      <td>1488.000000</td>\n",
       "      <td>10190.000000</td>\n",
       "      <td>8.000000</td>\n",
       "    </tr>\n",
       "  </tbody>\n",
       "</table>\n",
       "</div>"
      ],
      "text/plain": [
       "       LotFrontage   MasVnrArea   BsmtFinSF1   BsmtFinSF2    BsmtUnfSF  \\\n",
       "count  2425.000000  2882.000000  2903.000000  2903.000000  2903.000000   \n",
       "mean     69.071340   101.191187   434.926628    49.016879   559.850499   \n",
       "std      22.662001   177.804595   440.128728   168.444473   438.438879   \n",
       "min      21.000000     0.000000     0.000000     0.000000     0.000000   \n",
       "25%      59.000000     0.000000     0.000000     0.000000   220.000000   \n",
       "50%      68.000000     0.000000   365.000000     0.000000   467.000000   \n",
       "75%      80.000000   164.000000   728.500000     0.000000   802.500000   \n",
       "max     313.000000  1600.000000  4010.000000  1526.000000  2336.000000   \n",
       "\n",
       "       TotalBsmtSF  BsmtFullBath  BsmtHalfBath  GarageYrBlt   GarageCars  \\\n",
       "count  2903.000000   2902.000000   2902.000000  2745.000000  2903.000000   \n",
       "mean   1043.794006      0.426258      0.061337  1978.061202     1.763348   \n",
       "std     420.008348      0.522410      0.245667    25.600996     0.761410   \n",
       "min       0.000000      0.000000      0.000000  1895.000000     0.000000   \n",
       "25%     791.500000      0.000000      0.000000  1960.000000     1.000000   \n",
       "50%     988.000000      0.000000      0.000000  1979.000000     2.000000   \n",
       "75%    1296.000000      1.000000      0.000000  2002.000000     2.000000   \n",
       "max    5095.000000      3.000000      2.000000  2207.000000     5.000000   \n",
       "\n",
       "        GarageArea       TotalSF  Total_Bathrooms  \n",
       "count  2903.000000   2903.000000      2902.000000  \n",
       "mean    471.632794   2533.060971         2.431771  \n",
       "std     214.551791    764.699033         0.937184  \n",
       "min       0.000000    334.000000         1.000000  \n",
       "25%     319.500000   1998.500000         2.000000  \n",
       "50%     478.000000   2444.000000         2.000000  \n",
       "75%     576.000000   2985.000000         3.000000  \n",
       "max    1488.000000  10190.000000         8.000000  "
      ]
     },
     "execution_count": 71,
     "metadata": {},
     "output_type": "execute_result"
    }
   ],
   "source": [
    "#결측치를 포함한 변수의 통계량 확인\n",
    "\n",
    "all_df[hasnan_cat].describe()"
   ]
  },
  {
   "cell_type": "code",
   "execution_count": 72,
   "id": "04348454",
   "metadata": {},
   "outputs": [
    {
     "name": "stdout",
     "output_type": "stream",
     "text": [
      "LotFrontage 479\n",
      "MasVnrArea 22\n",
      "BsmtFinSF1 1\n",
      "BsmtFinSF2 1\n",
      "BsmtUnfSF 1\n",
      "TotalBsmtSF 1\n",
      "BsmtFullBath 2\n",
      "BsmtHalfBath 2\n",
      "GarageYrBlt 159\n",
      "GarageCars 1\n",
      "GarageArea 1\n",
      "TotalSF 1\n",
      "Total_Bathrooms 2\n"
     ]
    }
   ],
   "source": [
    "#결측치를 각 변수의 중앙값으로 보완\n",
    "\n",
    "for col in all_df.columns:\n",
    "    tmp_null_count = all_df[col].isnull().sum()\n",
    "    if (tmp_null_count>0)&(col != 'SalePrice'):\n",
    "        print(col, tmp_null_count)\n",
    "        all_df[col] = all_df[col].fillna(all_df[col].median())"
   ]
  },
  {
   "cell_type": "code",
   "execution_count": 93,
   "id": "df80fc69",
   "metadata": {},
   "outputs": [],
   "source": [
    "train_df_le = all_df[~all_df['SalePrice'].isnull()]\n",
    "test_df_le = all_df[all_df['SalePrice'].isnull()]\n",
    "train_df_le['SalePrice_log'] = np.log(train_df_le['SalePrice'])"
   ]
  },
  {
   "cell_type": "code",
   "execution_count": 94,
   "id": "a5800f07",
   "metadata": {},
   "outputs": [],
   "source": [
    "train_X = train_df_le.drop(['SalePrice', 'SalePrice_log','Id'], axis = 1)\n",
    "train_Y = train_df_le['SalePrice_log']"
   ]
  },
  {
   "cell_type": "code",
   "execution_count": 95,
   "id": "0ff95917",
   "metadata": {},
   "outputs": [],
   "source": [
    "folds = 3\n",
    "kf = KFold(n_splits = folds)"
   ]
  },
  {
   "cell_type": "code",
   "execution_count": 96,
   "id": "ebac6aaf",
   "metadata": {},
   "outputs": [
    {
     "name": "stdout",
     "output_type": "stream",
     "text": [
      "0.13939197713830098\n",
      "0.14198636310245238\n",
      "0.12935625060296438\n"
     ]
    }
   ],
   "source": [
    "models_rf = []\n",
    "rmses_rf = []\n",
    "oof_rf = np.zeros(len(train_X))\n",
    "for train_index, val_index in kf.split(train_X):\n",
    "    X_train = train_X.iloc[train_index]\n",
    "    X_valid = train_X.iloc[val_index]\n",
    "    y_train = train_Y.iloc[train_index]\n",
    "    y_valid = train_Y.iloc[val_index]\n",
    "    model_rf = rf(\n",
    "    n_estimators = 50,\n",
    "    random_state = 1234)\n",
    "    model_rf.fit(X_train, y_train)\n",
    "    y_pred = model_rf.predict(X_valid)\n",
    "    tmp_rmse = np.sqrt(mean_squared_error(y_valid, y_pred))\n",
    "    print(tmp_rmse)\n",
    "    models_rf.append(model_rf)\n",
    "    rmses_rf.append(tmp_rmse)\n",
    "    oof_rf[val_index] = y_pred"
   ]
  },
  {
   "cell_type": "code",
   "execution_count": 97,
   "id": "72f78703",
   "metadata": {},
   "outputs": [
    {
     "data": {
      "text/plain": [
       "0.13691153028123926"
      ]
     },
     "execution_count": 97,
     "metadata": {},
     "output_type": "execute_result"
    }
   ],
   "source": [
    "sum(rmses_rf)/len(rmses_rf)"
   ]
  },
  {
   "cell_type": "code",
   "execution_count": 98,
   "id": "2800eb62",
   "metadata": {},
   "outputs": [],
   "source": [
    "test_X = test_df_le.drop(['SalePrice', 'Id'], axis = 1)"
   ]
  },
  {
   "cell_type": "code",
   "execution_count": 99,
   "id": "a0976b64",
   "metadata": {},
   "outputs": [],
   "source": [
    "preds_rf = []\n",
    "for model in models_rf:\n",
    "    pred = model.predict(test_X)\n",
    "    preds_rf.append(pred)\n",
    "    preds_array_rf = np.array(preds_rf)\n",
    "    preds_mean_rf = np.mean(preds_array_rf, axis = 0)\n",
    "    preds_exp_rf = np.exp(preds_mean_rf)\n",
    "    submission['SalePrice'] = preds_exp_rf"
   ]
  },
  {
   "cell_type": "code",
   "execution_count": 100,
   "id": "b335bdc9",
   "metadata": {},
   "outputs": [],
   "source": [
    "submission.to_csv('submission2.csv', index = False)"
   ]
  },
  {
   "cell_type": "code",
   "execution_count": 101,
   "id": "9b4ffe9c",
   "metadata": {},
   "outputs": [],
   "source": [
    "submission2 = pd.read_csv('submission2.csv')"
   ]
  },
  {
   "cell_type": "code",
   "execution_count": 88,
   "id": "b0551422",
   "metadata": {},
   "outputs": [
    {
     "data": {
      "text/html": [
       "<div>\n",
       "<style scoped>\n",
       "    .dataframe tbody tr th:only-of-type {\n",
       "        vertical-align: middle;\n",
       "    }\n",
       "\n",
       "    .dataframe tbody tr th {\n",
       "        vertical-align: top;\n",
       "    }\n",
       "\n",
       "    .dataframe thead th {\n",
       "        text-align: right;\n",
       "    }\n",
       "</style>\n",
       "<table border=\"1\" class=\"dataframe\">\n",
       "  <thead>\n",
       "    <tr style=\"text-align: right;\">\n",
       "      <th></th>\n",
       "      <th>Id</th>\n",
       "      <th>SalePrice</th>\n",
       "    </tr>\n",
       "  </thead>\n",
       "  <tbody>\n",
       "    <tr>\n",
       "      <th>0</th>\n",
       "      <td>1461</td>\n",
       "      <td>126169.544116</td>\n",
       "    </tr>\n",
       "    <tr>\n",
       "      <th>1</th>\n",
       "      <td>1462</td>\n",
       "      <td>155450.117637</td>\n",
       "    </tr>\n",
       "    <tr>\n",
       "      <th>2</th>\n",
       "      <td>1463</td>\n",
       "      <td>176250.018340</td>\n",
       "    </tr>\n",
       "    <tr>\n",
       "      <th>3</th>\n",
       "      <td>1464</td>\n",
       "      <td>180538.680413</td>\n",
       "    </tr>\n",
       "    <tr>\n",
       "      <th>4</th>\n",
       "      <td>1465</td>\n",
       "      <td>193511.556287</td>\n",
       "    </tr>\n",
       "    <tr>\n",
       "      <th>...</th>\n",
       "      <td>...</td>\n",
       "      <td>...</td>\n",
       "    </tr>\n",
       "    <tr>\n",
       "      <th>1454</th>\n",
       "      <td>2915</td>\n",
       "      <td>87748.266721</td>\n",
       "    </tr>\n",
       "    <tr>\n",
       "      <th>1455</th>\n",
       "      <td>2916</td>\n",
       "      <td>89344.151888</td>\n",
       "    </tr>\n",
       "    <tr>\n",
       "      <th>1456</th>\n",
       "      <td>2917</td>\n",
       "      <td>151440.249247</td>\n",
       "    </tr>\n",
       "    <tr>\n",
       "      <th>1457</th>\n",
       "      <td>2918</td>\n",
       "      <td>115571.818500</td>\n",
       "    </tr>\n",
       "    <tr>\n",
       "      <th>1458</th>\n",
       "      <td>2919</td>\n",
       "      <td>228293.853533</td>\n",
       "    </tr>\n",
       "  </tbody>\n",
       "</table>\n",
       "<p>1459 rows × 2 columns</p>\n",
       "</div>"
      ],
      "text/plain": [
       "        Id      SalePrice\n",
       "0     1461  126169.544116\n",
       "1     1462  155450.117637\n",
       "2     1463  176250.018340\n",
       "3     1464  180538.680413\n",
       "4     1465  193511.556287\n",
       "...    ...            ...\n",
       "1454  2915   87748.266721\n",
       "1455  2916   89344.151888\n",
       "1456  2917  151440.249247\n",
       "1457  2918  115571.818500\n",
       "1458  2919  228293.853533\n",
       "\n",
       "[1459 rows x 2 columns]"
      ]
     },
     "execution_count": 88,
     "metadata": {},
     "output_type": "execute_result"
    }
   ],
   "source": [
    "submission2"
   ]
  },
  {
   "cell_type": "code",
   "execution_count": null,
   "id": "758279e5",
   "metadata": {},
   "outputs": [],
   "source": []
  }
 ],
 "metadata": {
  "kernelspec": {
   "display_name": "Python 3 (ipykernel)",
   "language": "python",
   "name": "python3"
  },
  "language_info": {
   "codemirror_mode": {
    "name": "ipython",
    "version": 3
   },
   "file_extension": ".py",
   "mimetype": "text/x-python",
   "name": "python",
   "nbconvert_exporter": "python",
   "pygments_lexer": "ipython3",
   "version": "3.9.13"
  }
 },
 "nbformat": 4,
 "nbformat_minor": 5
}
