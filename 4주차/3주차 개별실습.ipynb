{
 "cells": [
  {
   "cell_type": "code",
   "execution_count": 1,
   "id": "7e158991",
   "metadata": {},
   "outputs": [],
   "source": [
    "%matplotlib inline\n",
    "import matplotlib.pyplot as plt\n",
    "import seaborn as sns\n",
    "\n",
    "plt.style.use(\"ggplot\")\n",
    "\n",
    "import pandas as pd\n",
    "import numpy as np\n",
    "\n",
    "\n",
    "import random\n",
    "np.random.seed(1235)\n",
    "random.seed(1235)\n",
    "\n",
    "house = pd.read_csv('housing.csv')"
   ]
  },
  {
   "cell_type": "markdown",
   "id": "29d555bd",
   "metadata": {},
   "source": [
    "- 'longitude': 위도\n",
    "- 'latitude': 경도\n",
    "- 'housing_median_age': 건축물 중위연령\n",
    "- 'total_rooms': 방의 총 개수\n",
    "- 'total_bedrooms': 침실 총 개수\n",
    "- 'population': 인구\n",
    "- 'households': 가구수\n",
    "- 'median_income': 중위소득\n",
    "- 'median_house_value': 주택 중위가격\n",
    "- 'ocean_proximity': 해안 접근도"
   ]
  },
  {
   "cell_type": "code",
   "execution_count": 2,
   "id": "74bd8d74",
   "metadata": {},
   "outputs": [
    {
     "data": {
      "text/html": [
       "<div>\n",
       "<style scoped>\n",
       "    .dataframe tbody tr th:only-of-type {\n",
       "        vertical-align: middle;\n",
       "    }\n",
       "\n",
       "    .dataframe tbody tr th {\n",
       "        vertical-align: top;\n",
       "    }\n",
       "\n",
       "    .dataframe thead th {\n",
       "        text-align: right;\n",
       "    }\n",
       "</style>\n",
       "<table border=\"1\" class=\"dataframe\">\n",
       "  <thead>\n",
       "    <tr style=\"text-align: right;\">\n",
       "      <th></th>\n",
       "      <th>longitude</th>\n",
       "      <th>latitude</th>\n",
       "      <th>housing_median_age</th>\n",
       "      <th>total_rooms</th>\n",
       "      <th>total_bedrooms</th>\n",
       "      <th>population</th>\n",
       "      <th>households</th>\n",
       "      <th>median_income</th>\n",
       "      <th>median_house_value</th>\n",
       "      <th>ocean_proximity</th>\n",
       "    </tr>\n",
       "  </thead>\n",
       "  <tbody>\n",
       "    <tr>\n",
       "      <th>0</th>\n",
       "      <td>-122.23</td>\n",
       "      <td>37.88</td>\n",
       "      <td>41.0</td>\n",
       "      <td>880.0</td>\n",
       "      <td>129.0</td>\n",
       "      <td>322.0</td>\n",
       "      <td>126.0</td>\n",
       "      <td>8.3252</td>\n",
       "      <td>452600.0</td>\n",
       "      <td>NEAR BAY</td>\n",
       "    </tr>\n",
       "    <tr>\n",
       "      <th>1</th>\n",
       "      <td>-122.22</td>\n",
       "      <td>37.86</td>\n",
       "      <td>21.0</td>\n",
       "      <td>7099.0</td>\n",
       "      <td>1106.0</td>\n",
       "      <td>2401.0</td>\n",
       "      <td>1138.0</td>\n",
       "      <td>8.3014</td>\n",
       "      <td>358500.0</td>\n",
       "      <td>NEAR BAY</td>\n",
       "    </tr>\n",
       "    <tr>\n",
       "      <th>2</th>\n",
       "      <td>-122.24</td>\n",
       "      <td>37.85</td>\n",
       "      <td>52.0</td>\n",
       "      <td>1467.0</td>\n",
       "      <td>190.0</td>\n",
       "      <td>496.0</td>\n",
       "      <td>177.0</td>\n",
       "      <td>7.2574</td>\n",
       "      <td>352100.0</td>\n",
       "      <td>NEAR BAY</td>\n",
       "    </tr>\n",
       "    <tr>\n",
       "      <th>3</th>\n",
       "      <td>-122.25</td>\n",
       "      <td>37.85</td>\n",
       "      <td>52.0</td>\n",
       "      <td>1274.0</td>\n",
       "      <td>235.0</td>\n",
       "      <td>558.0</td>\n",
       "      <td>219.0</td>\n",
       "      <td>5.6431</td>\n",
       "      <td>341300.0</td>\n",
       "      <td>NEAR BAY</td>\n",
       "    </tr>\n",
       "    <tr>\n",
       "      <th>4</th>\n",
       "      <td>-122.25</td>\n",
       "      <td>37.85</td>\n",
       "      <td>52.0</td>\n",
       "      <td>1627.0</td>\n",
       "      <td>280.0</td>\n",
       "      <td>565.0</td>\n",
       "      <td>259.0</td>\n",
       "      <td>3.8462</td>\n",
       "      <td>342200.0</td>\n",
       "      <td>NEAR BAY</td>\n",
       "    </tr>\n",
       "  </tbody>\n",
       "</table>\n",
       "</div>"
      ],
      "text/plain": [
       "   longitude  latitude  housing_median_age  total_rooms  total_bedrooms  \\\n",
       "0    -122.23     37.88                41.0        880.0           129.0   \n",
       "1    -122.22     37.86                21.0       7099.0          1106.0   \n",
       "2    -122.24     37.85                52.0       1467.0           190.0   \n",
       "3    -122.25     37.85                52.0       1274.0           235.0   \n",
       "4    -122.25     37.85                52.0       1627.0           280.0   \n",
       "\n",
       "   population  households  median_income  median_house_value ocean_proximity  \n",
       "0       322.0       126.0         8.3252            452600.0        NEAR BAY  \n",
       "1      2401.0      1138.0         8.3014            358500.0        NEAR BAY  \n",
       "2       496.0       177.0         7.2574            352100.0        NEAR BAY  \n",
       "3       558.0       219.0         5.6431            341300.0        NEAR BAY  \n",
       "4       565.0       259.0         3.8462            342200.0        NEAR BAY  "
      ]
     },
     "execution_count": 2,
     "metadata": {},
     "output_type": "execute_result"
    }
   ],
   "source": [
    "house.head()"
   ]
  },
  {
   "cell_type": "code",
   "execution_count": 3,
   "id": "09ef2321",
   "metadata": {},
   "outputs": [
    {
     "data": {
      "text/plain": [
       "(20640, 10)"
      ]
     },
     "execution_count": 3,
     "metadata": {},
     "output_type": "execute_result"
    }
   ],
   "source": [
    "house.shape"
   ]
  },
  {
   "cell_type": "code",
   "execution_count": 4,
   "id": "1ac3ccec",
   "metadata": {},
   "outputs": [
    {
     "name": "stdout",
     "output_type": "stream",
     "text": [
      "<class 'pandas.core.frame.DataFrame'>\n",
      "RangeIndex: 20640 entries, 0 to 20639\n",
      "Data columns (total 10 columns):\n",
      " #   Column              Non-Null Count  Dtype  \n",
      "---  ------              --------------  -----  \n",
      " 0   longitude           20640 non-null  float64\n",
      " 1   latitude            20640 non-null  float64\n",
      " 2   housing_median_age  20640 non-null  float64\n",
      " 3   total_rooms         20640 non-null  float64\n",
      " 4   total_bedrooms      20433 non-null  float64\n",
      " 5   population          20640 non-null  float64\n",
      " 6   households          20640 non-null  float64\n",
      " 7   median_income       20640 non-null  float64\n",
      " 8   median_house_value  20640 non-null  float64\n",
      " 9   ocean_proximity     20640 non-null  object \n",
      "dtypes: float64(9), object(1)\n",
      "memory usage: 1.6+ MB\n"
     ]
    }
   ],
   "source": [
    "house.info()"
   ]
  },
  {
   "cell_type": "code",
   "execution_count": 5,
   "id": "4ca4a542",
   "metadata": {},
   "outputs": [
    {
     "data": {
      "text/plain": [
       "longitude               0\n",
       "latitude                0\n",
       "housing_median_age      0\n",
       "total_rooms             0\n",
       "total_bedrooms        207\n",
       "population              0\n",
       "households              0\n",
       "median_income           0\n",
       "median_house_value      0\n",
       "ocean_proximity         0\n",
       "dtype: int64"
      ]
     },
     "execution_count": 5,
     "metadata": {},
     "output_type": "execute_result"
    }
   ],
   "source": [
    "house.isnull().sum()"
   ]
  },
  {
   "cell_type": "code",
   "execution_count": 112,
   "id": "46cd09dc",
   "metadata": {
    "scrolled": true
   },
   "outputs": [
    {
     "data": {
      "text/html": [
       "<div>\n",
       "<style scoped>\n",
       "    .dataframe tbody tr th:only-of-type {\n",
       "        vertical-align: middle;\n",
       "    }\n",
       "\n",
       "    .dataframe tbody tr th {\n",
       "        vertical-align: top;\n",
       "    }\n",
       "\n",
       "    .dataframe thead th {\n",
       "        text-align: right;\n",
       "    }\n",
       "</style>\n",
       "<table border=\"1\" class=\"dataframe\">\n",
       "  <thead>\n",
       "    <tr style=\"text-align: right;\">\n",
       "      <th></th>\n",
       "      <th>longitude</th>\n",
       "      <th>latitude</th>\n",
       "      <th>housing_median_age</th>\n",
       "      <th>total_rooms</th>\n",
       "      <th>total_bedrooms</th>\n",
       "      <th>population</th>\n",
       "      <th>households</th>\n",
       "      <th>median_income</th>\n",
       "      <th>median_house_value</th>\n",
       "    </tr>\n",
       "  </thead>\n",
       "  <tbody>\n",
       "    <tr>\n",
       "      <th>count</th>\n",
       "      <td>20640.000000</td>\n",
       "      <td>20640.000000</td>\n",
       "      <td>20640.000000</td>\n",
       "      <td>20640.000000</td>\n",
       "      <td>20433.000000</td>\n",
       "      <td>20640.000000</td>\n",
       "      <td>20640.000000</td>\n",
       "      <td>20640.000000</td>\n",
       "      <td>20640.000000</td>\n",
       "    </tr>\n",
       "    <tr>\n",
       "      <th>mean</th>\n",
       "      <td>-119.569704</td>\n",
       "      <td>35.631861</td>\n",
       "      <td>28.639486</td>\n",
       "      <td>2635.763081</td>\n",
       "      <td>537.870553</td>\n",
       "      <td>1425.476744</td>\n",
       "      <td>499.539680</td>\n",
       "      <td>3.870671</td>\n",
       "      <td>206855.816909</td>\n",
       "    </tr>\n",
       "    <tr>\n",
       "      <th>std</th>\n",
       "      <td>2.003532</td>\n",
       "      <td>2.135952</td>\n",
       "      <td>12.585558</td>\n",
       "      <td>2181.615252</td>\n",
       "      <td>421.385070</td>\n",
       "      <td>1132.462122</td>\n",
       "      <td>382.329753</td>\n",
       "      <td>1.899822</td>\n",
       "      <td>115395.615874</td>\n",
       "    </tr>\n",
       "    <tr>\n",
       "      <th>min</th>\n",
       "      <td>-124.350000</td>\n",
       "      <td>32.540000</td>\n",
       "      <td>1.000000</td>\n",
       "      <td>2.000000</td>\n",
       "      <td>1.000000</td>\n",
       "      <td>3.000000</td>\n",
       "      <td>1.000000</td>\n",
       "      <td>0.499900</td>\n",
       "      <td>14999.000000</td>\n",
       "    </tr>\n",
       "    <tr>\n",
       "      <th>25%</th>\n",
       "      <td>-121.800000</td>\n",
       "      <td>33.930000</td>\n",
       "      <td>18.000000</td>\n",
       "      <td>1447.750000</td>\n",
       "      <td>296.000000</td>\n",
       "      <td>787.000000</td>\n",
       "      <td>280.000000</td>\n",
       "      <td>2.563400</td>\n",
       "      <td>119600.000000</td>\n",
       "    </tr>\n",
       "    <tr>\n",
       "      <th>50%</th>\n",
       "      <td>-118.490000</td>\n",
       "      <td>34.260000</td>\n",
       "      <td>29.000000</td>\n",
       "      <td>2127.000000</td>\n",
       "      <td>435.000000</td>\n",
       "      <td>1166.000000</td>\n",
       "      <td>409.000000</td>\n",
       "      <td>3.534800</td>\n",
       "      <td>179700.000000</td>\n",
       "    </tr>\n",
       "    <tr>\n",
       "      <th>75%</th>\n",
       "      <td>-118.010000</td>\n",
       "      <td>37.710000</td>\n",
       "      <td>37.000000</td>\n",
       "      <td>3148.000000</td>\n",
       "      <td>647.000000</td>\n",
       "      <td>1725.000000</td>\n",
       "      <td>605.000000</td>\n",
       "      <td>4.743250</td>\n",
       "      <td>264725.000000</td>\n",
       "    </tr>\n",
       "    <tr>\n",
       "      <th>max</th>\n",
       "      <td>-114.310000</td>\n",
       "      <td>41.950000</td>\n",
       "      <td>52.000000</td>\n",
       "      <td>39320.000000</td>\n",
       "      <td>6445.000000</td>\n",
       "      <td>35682.000000</td>\n",
       "      <td>6082.000000</td>\n",
       "      <td>15.000100</td>\n",
       "      <td>500001.000000</td>\n",
       "    </tr>\n",
       "  </tbody>\n",
       "</table>\n",
       "</div>"
      ],
      "text/plain": [
       "          longitude      latitude  housing_median_age   total_rooms  \\\n",
       "count  20640.000000  20640.000000        20640.000000  20640.000000   \n",
       "mean    -119.569704     35.631861           28.639486   2635.763081   \n",
       "std        2.003532      2.135952           12.585558   2181.615252   \n",
       "min     -124.350000     32.540000            1.000000      2.000000   \n",
       "25%     -121.800000     33.930000           18.000000   1447.750000   \n",
       "50%     -118.490000     34.260000           29.000000   2127.000000   \n",
       "75%     -118.010000     37.710000           37.000000   3148.000000   \n",
       "max     -114.310000     41.950000           52.000000  39320.000000   \n",
       "\n",
       "       total_bedrooms    population    households  median_income  \\\n",
       "count    20433.000000  20640.000000  20640.000000   20640.000000   \n",
       "mean       537.870553   1425.476744    499.539680       3.870671   \n",
       "std        421.385070   1132.462122    382.329753       1.899822   \n",
       "min          1.000000      3.000000      1.000000       0.499900   \n",
       "25%        296.000000    787.000000    280.000000       2.563400   \n",
       "50%        435.000000   1166.000000    409.000000       3.534800   \n",
       "75%        647.000000   1725.000000    605.000000       4.743250   \n",
       "max       6445.000000  35682.000000   6082.000000      15.000100   \n",
       "\n",
       "       median_house_value  \n",
       "count        20640.000000  \n",
       "mean        206855.816909  \n",
       "std         115395.615874  \n",
       "min          14999.000000  \n",
       "25%         119600.000000  \n",
       "50%         179700.000000  \n",
       "75%         264725.000000  \n",
       "max         500001.000000  "
      ]
     },
     "execution_count": 112,
     "metadata": {},
     "output_type": "execute_result"
    }
   ],
   "source": [
    "house.describe()"
   ]
  },
  {
   "cell_type": "markdown",
   "id": "783daa0f",
   "metadata": {},
   "source": [
    "## 카테고리 변수 라벨링"
   ]
  },
  {
   "cell_type": "code",
   "execution_count": 113,
   "id": "71ca2ee3",
   "metadata": {},
   "outputs": [
    {
     "data": {
      "text/plain": [
       "ocean_proximity\n",
       "<1H OCEAN     9136\n",
       "INLAND        6551\n",
       "NEAR OCEAN    2658\n",
       "NEAR BAY      2290\n",
       "ISLAND           5\n",
       "Name: count, dtype: int64"
      ]
     },
     "execution_count": 113,
     "metadata": {},
     "output_type": "execute_result"
    }
   ],
   "source": [
    "house[\"ocean_proximity\"].value_counts()"
   ]
  },
  {
   "cell_type": "code",
   "execution_count": 114,
   "id": "f4483a11",
   "metadata": {},
   "outputs": [],
   "source": [
    "from sklearn.preprocessing import LabelEncoder"
   ]
  },
  {
   "cell_type": "code",
   "execution_count": 115,
   "id": "fa3b0bc6",
   "metadata": {},
   "outputs": [],
   "source": [
    "le = LabelEncoder()\n",
    "le = le.fit(house['ocean_proximity'])\n",
    "house['ocean_proximity'] = le.transform(house['ocean_proximity'])\n",
    "house['ocean_proximity'] = house['ocean_proximity'].astype(\"category\")"
   ]
  },
  {
   "cell_type": "code",
   "execution_count": 116,
   "id": "249b01a4",
   "metadata": {},
   "outputs": [
    {
     "data": {
      "text/html": [
       "<div>\n",
       "<style scoped>\n",
       "    .dataframe tbody tr th:only-of-type {\n",
       "        vertical-align: middle;\n",
       "    }\n",
       "\n",
       "    .dataframe tbody tr th {\n",
       "        vertical-align: top;\n",
       "    }\n",
       "\n",
       "    .dataframe thead th {\n",
       "        text-align: right;\n",
       "    }\n",
       "</style>\n",
       "<table border=\"1\" class=\"dataframe\">\n",
       "  <thead>\n",
       "    <tr style=\"text-align: right;\">\n",
       "      <th></th>\n",
       "      <th>longitude</th>\n",
       "      <th>latitude</th>\n",
       "      <th>housing_median_age</th>\n",
       "      <th>total_rooms</th>\n",
       "      <th>total_bedrooms</th>\n",
       "      <th>population</th>\n",
       "      <th>households</th>\n",
       "      <th>median_income</th>\n",
       "      <th>median_house_value</th>\n",
       "      <th>ocean_proximity</th>\n",
       "    </tr>\n",
       "  </thead>\n",
       "  <tbody>\n",
       "    <tr>\n",
       "      <th>0</th>\n",
       "      <td>-122.23</td>\n",
       "      <td>37.88</td>\n",
       "      <td>41.0</td>\n",
       "      <td>880.0</td>\n",
       "      <td>129.0</td>\n",
       "      <td>322.0</td>\n",
       "      <td>126.0</td>\n",
       "      <td>8.3252</td>\n",
       "      <td>452600.0</td>\n",
       "      <td>3</td>\n",
       "    </tr>\n",
       "    <tr>\n",
       "      <th>1</th>\n",
       "      <td>-122.22</td>\n",
       "      <td>37.86</td>\n",
       "      <td>21.0</td>\n",
       "      <td>7099.0</td>\n",
       "      <td>1106.0</td>\n",
       "      <td>2401.0</td>\n",
       "      <td>1138.0</td>\n",
       "      <td>8.3014</td>\n",
       "      <td>358500.0</td>\n",
       "      <td>3</td>\n",
       "    </tr>\n",
       "    <tr>\n",
       "      <th>2</th>\n",
       "      <td>-122.24</td>\n",
       "      <td>37.85</td>\n",
       "      <td>52.0</td>\n",
       "      <td>1467.0</td>\n",
       "      <td>190.0</td>\n",
       "      <td>496.0</td>\n",
       "      <td>177.0</td>\n",
       "      <td>7.2574</td>\n",
       "      <td>352100.0</td>\n",
       "      <td>3</td>\n",
       "    </tr>\n",
       "    <tr>\n",
       "      <th>3</th>\n",
       "      <td>-122.25</td>\n",
       "      <td>37.85</td>\n",
       "      <td>52.0</td>\n",
       "      <td>1274.0</td>\n",
       "      <td>235.0</td>\n",
       "      <td>558.0</td>\n",
       "      <td>219.0</td>\n",
       "      <td>5.6431</td>\n",
       "      <td>341300.0</td>\n",
       "      <td>3</td>\n",
       "    </tr>\n",
       "    <tr>\n",
       "      <th>4</th>\n",
       "      <td>-122.25</td>\n",
       "      <td>37.85</td>\n",
       "      <td>52.0</td>\n",
       "      <td>1627.0</td>\n",
       "      <td>280.0</td>\n",
       "      <td>565.0</td>\n",
       "      <td>259.0</td>\n",
       "      <td>3.8462</td>\n",
       "      <td>342200.0</td>\n",
       "      <td>3</td>\n",
       "    </tr>\n",
       "    <tr>\n",
       "      <th>...</th>\n",
       "      <td>...</td>\n",
       "      <td>...</td>\n",
       "      <td>...</td>\n",
       "      <td>...</td>\n",
       "      <td>...</td>\n",
       "      <td>...</td>\n",
       "      <td>...</td>\n",
       "      <td>...</td>\n",
       "      <td>...</td>\n",
       "      <td>...</td>\n",
       "    </tr>\n",
       "    <tr>\n",
       "      <th>20635</th>\n",
       "      <td>-121.09</td>\n",
       "      <td>39.48</td>\n",
       "      <td>25.0</td>\n",
       "      <td>1665.0</td>\n",
       "      <td>374.0</td>\n",
       "      <td>845.0</td>\n",
       "      <td>330.0</td>\n",
       "      <td>1.5603</td>\n",
       "      <td>78100.0</td>\n",
       "      <td>1</td>\n",
       "    </tr>\n",
       "    <tr>\n",
       "      <th>20636</th>\n",
       "      <td>-121.21</td>\n",
       "      <td>39.49</td>\n",
       "      <td>18.0</td>\n",
       "      <td>697.0</td>\n",
       "      <td>150.0</td>\n",
       "      <td>356.0</td>\n",
       "      <td>114.0</td>\n",
       "      <td>2.5568</td>\n",
       "      <td>77100.0</td>\n",
       "      <td>1</td>\n",
       "    </tr>\n",
       "    <tr>\n",
       "      <th>20637</th>\n",
       "      <td>-121.22</td>\n",
       "      <td>39.43</td>\n",
       "      <td>17.0</td>\n",
       "      <td>2254.0</td>\n",
       "      <td>485.0</td>\n",
       "      <td>1007.0</td>\n",
       "      <td>433.0</td>\n",
       "      <td>1.7000</td>\n",
       "      <td>92300.0</td>\n",
       "      <td>1</td>\n",
       "    </tr>\n",
       "    <tr>\n",
       "      <th>20638</th>\n",
       "      <td>-121.32</td>\n",
       "      <td>39.43</td>\n",
       "      <td>18.0</td>\n",
       "      <td>1860.0</td>\n",
       "      <td>409.0</td>\n",
       "      <td>741.0</td>\n",
       "      <td>349.0</td>\n",
       "      <td>1.8672</td>\n",
       "      <td>84700.0</td>\n",
       "      <td>1</td>\n",
       "    </tr>\n",
       "    <tr>\n",
       "      <th>20639</th>\n",
       "      <td>-121.24</td>\n",
       "      <td>39.37</td>\n",
       "      <td>16.0</td>\n",
       "      <td>2785.0</td>\n",
       "      <td>616.0</td>\n",
       "      <td>1387.0</td>\n",
       "      <td>530.0</td>\n",
       "      <td>2.3886</td>\n",
       "      <td>89400.0</td>\n",
       "      <td>1</td>\n",
       "    </tr>\n",
       "  </tbody>\n",
       "</table>\n",
       "<p>20640 rows × 10 columns</p>\n",
       "</div>"
      ],
      "text/plain": [
       "       longitude  latitude  housing_median_age  total_rooms  total_bedrooms  \\\n",
       "0        -122.23     37.88                41.0        880.0           129.0   \n",
       "1        -122.22     37.86                21.0       7099.0          1106.0   \n",
       "2        -122.24     37.85                52.0       1467.0           190.0   \n",
       "3        -122.25     37.85                52.0       1274.0           235.0   \n",
       "4        -122.25     37.85                52.0       1627.0           280.0   \n",
       "...          ...       ...                 ...          ...             ...   \n",
       "20635    -121.09     39.48                25.0       1665.0           374.0   \n",
       "20636    -121.21     39.49                18.0        697.0           150.0   \n",
       "20637    -121.22     39.43                17.0       2254.0           485.0   \n",
       "20638    -121.32     39.43                18.0       1860.0           409.0   \n",
       "20639    -121.24     39.37                16.0       2785.0           616.0   \n",
       "\n",
       "       population  households  median_income  median_house_value  \\\n",
       "0           322.0       126.0         8.3252            452600.0   \n",
       "1          2401.0      1138.0         8.3014            358500.0   \n",
       "2           496.0       177.0         7.2574            352100.0   \n",
       "3           558.0       219.0         5.6431            341300.0   \n",
       "4           565.0       259.0         3.8462            342200.0   \n",
       "...           ...         ...            ...                 ...   \n",
       "20635       845.0       330.0         1.5603             78100.0   \n",
       "20636       356.0       114.0         2.5568             77100.0   \n",
       "20637      1007.0       433.0         1.7000             92300.0   \n",
       "20638       741.0       349.0         1.8672             84700.0   \n",
       "20639      1387.0       530.0         2.3886             89400.0   \n",
       "\n",
       "      ocean_proximity  \n",
       "0                   3  \n",
       "1                   3  \n",
       "2                   3  \n",
       "3                   3  \n",
       "4                   3  \n",
       "...               ...  \n",
       "20635               1  \n",
       "20636               1  \n",
       "20637               1  \n",
       "20638               1  \n",
       "20639               1  \n",
       "\n",
       "[20640 rows x 10 columns]"
      ]
     },
     "execution_count": 116,
     "metadata": {},
     "output_type": "execute_result"
    }
   ],
   "source": [
    "house"
   ]
  },
  {
   "cell_type": "code",
   "execution_count": 117,
   "id": "c948a183",
   "metadata": {
    "scrolled": true
   },
   "outputs": [
    {
     "data": {
      "image/png": "[encoded data removed]",
      "text/plain": [
       "<Figure size 640x480 with 1 Axes>"
      ]
     },
     "metadata": {},
     "output_type": "display_data"
    }
   ],
   "source": [
    "house['median_house_value'].plot.hist(bins = 20)\n",
    "plt.show() #로그화 필요"
   ]
  },
  {
   "cell_type": "markdown",
   "id": "8a8a415b",
   "metadata": {},
   "source": [
    "## test와 train 분할"
   ]
  },
  {
   "cell_type": "code",
   "execution_count": 118,
   "id": "aa0beb36",
   "metadata": {},
   "outputs": [],
   "source": [
    "random.seed(1)\n",
    "from sklearn.model_selection import train_test_split"
   ]
  },
  {
   "cell_type": "code",
   "execution_count": 119,
   "id": "bf9c2548",
   "metadata": {},
   "outputs": [
    {
     "name": "stdout",
     "output_type": "stream",
     "text": [
      "Train set size: 16512\n",
      "Test set size: 4128\n"
     ]
    }
   ],
   "source": [
    "# features와 target을 나누기\n",
    "X = house.drop(columns=['median_house_value'])  # 특성(features) 열\n",
    "y = house['median_house_value']  # 타겟(target) 열\n",
    "\n",
    "# train과 test 셋으로 분할\n",
    "X_train, X_test, y_train, y_test = train_test_split(X, y, test_size=0.2, random_state=42)\n",
    "\n",
    "# 분할된 train과 test 셋의 크기 확인\n",
    "print(\"Train set size:\", X_train.shape[0])\n",
    "print(\"Test set size:\", X_test.shape[0])"
   ]
  },
  {
   "cell_type": "code",
   "execution_count": 120,
   "id": "ded41565",
   "metadata": {},
   "outputs": [],
   "source": [
    "train_df_le = house[~house[\"median_house_value\"].isnull()]\n",
    "test_df_le = house[house[\"median_house_value\"].isnull()]"
   ]
  },
  {
   "cell_type": "markdown",
   "id": "09e8f2ba",
   "metadata": {},
   "source": [
    "## LightGBM으로 데이터 읽기"
   ]
  },
  {
   "cell_type": "code",
   "execution_count": 121,
   "id": "f528ed7c",
   "metadata": {},
   "outputs": [],
   "source": [
    "import lightgbm as lgb"
   ]
  },
  {
   "cell_type": "code",
   "execution_count": 122,
   "id": "42499481",
   "metadata": {},
   "outputs": [],
   "source": [
    "from sklearn.model_selection import KFold\n",
    "folds = 3\n",
    "kf = KFold(n_splits=folds)"
   ]
  },
  {
   "cell_type": "code",
   "execution_count": 123,
   "id": "8f594856",
   "metadata": {},
   "outputs": [],
   "source": [
    "lgbm_params = {\n",
    "    \"objective\":\"regression\",\n",
    "    \"random_seed\":1234\n",
    "}"
   ]
  },
  {
   "cell_type": "code",
   "execution_count": 124,
   "id": "1275b0db",
   "metadata": {},
   "outputs": [],
   "source": [
    "train_X = train_df_le.drop([\"median_house_value\"], axis=1)\n",
    "train_Y = train_df_le[\"median_house_value\"]"
   ]
  },
  {
   "cell_type": "code",
   "execution_count": 125,
   "id": "052c6173",
   "metadata": {},
   "outputs": [],
   "source": [
    "from sklearn.metrics import mean_squared_error"
   ]
  },
  {
   "cell_type": "code",
   "execution_count": 126,
   "id": "dcdad567",
   "metadata": {
    "scrolled": false
   },
   "outputs": [
    {
     "name": "stdout",
     "output_type": "stream",
     "text": [
      "       longitude  latitude  housing_median_age  total_rooms  total_bedrooms  \\\n",
      "6880     -118.09     34.07                45.0        726.0           146.0   \n",
      "6881     -118.09     34.07                31.0       1054.0           252.0   \n",
      "6882     -118.09     34.06                30.0       1980.0           552.0   \n",
      "6883     -118.09     34.06                38.0       3230.0           840.0   \n",
      "6884     -118.08     34.04                20.0       5841.0          1146.0   \n",
      "...          ...       ...                 ...          ...             ...   \n",
      "20635    -121.09     39.48                25.0       1665.0           374.0   \n",
      "20636    -121.21     39.49                18.0        697.0           150.0   \n",
      "20637    -121.22     39.43                17.0       2254.0           485.0   \n",
      "20638    -121.32     39.43                18.0       1860.0           409.0   \n",
      "20639    -121.24     39.37                16.0       2785.0           616.0   \n",
      "\n",
      "       population  households  median_income ocean_proximity  \n",
      "6880        568.0       160.0         3.0347               0  \n",
      "6881       1032.0       258.0         2.3424               0  \n",
      "6882       2264.0       511.0         2.6094               0  \n",
      "6883       3485.0       827.0         2.6290               0  \n",
      "6884       3273.0      1131.0         4.7222               0  \n",
      "...           ...         ...            ...             ...  \n",
      "20635       845.0       330.0         1.5603               1  \n",
      "20636       356.0       114.0         2.5568               1  \n",
      "20637      1007.0       433.0         1.7000               1  \n",
      "20638       741.0       349.0         1.8672               1  \n",
      "20639      1387.0       530.0         2.3886               1  \n",
      "\n",
      "[13760 rows x 9 columns]\n",
      "Training until validation scores don't improve for 20 rounds\n",
      "[10]\tvalid_0's l2: 7.24452e+09\n",
      "[20]\tvalid_0's l2: 6.54347e+09\n",
      "[30]\tvalid_0's l2: 6.17993e+09\n",
      "[40]\tvalid_0's l2: 6.00866e+09\n",
      "[50]\tvalid_0's l2: 5.70866e+09\n",
      "[60]\tvalid_0's l2: 5.65936e+09\n",
      "[70]\tvalid_0's l2: 5.5008e+09\n",
      "[80]\tvalid_0's l2: 5.43271e+09\n",
      "[90]\tvalid_0's l2: 5.44468e+09\n",
      "[100]\tvalid_0's l2: 5.41483e+09\n",
      "Did not meet early stopping. Best iteration is:\n",
      "[85]\tvalid_0's l2: 5.41345e+09\n",
      "0.3645620980730113\n",
      "       longitude  latitude  housing_median_age  total_rooms  total_bedrooms  \\\n",
      "0        -122.23     37.88                41.0        880.0           129.0   \n",
      "1        -122.22     37.86                21.0       7099.0          1106.0   \n",
      "2        -122.24     37.85                52.0       1467.0           190.0   \n",
      "3        -122.25     37.85                52.0       1274.0           235.0   \n",
      "4        -122.25     37.85                52.0       1627.0           280.0   \n",
      "...          ...       ...                 ...          ...             ...   \n",
      "20635    -121.09     39.48                25.0       1665.0           374.0   \n",
      "20636    -121.21     39.49                18.0        697.0           150.0   \n",
      "20637    -121.22     39.43                17.0       2254.0           485.0   \n",
      "20638    -121.32     39.43                18.0       1860.0           409.0   \n",
      "20639    -121.24     39.37                16.0       2785.0           616.0   \n",
      "\n",
      "       population  households  median_income ocean_proximity  \n",
      "0           322.0       126.0         8.3252               3  \n",
      "1          2401.0      1138.0         8.3014               3  \n",
      "2           496.0       177.0         7.2574               3  \n",
      "3           558.0       219.0         5.6431               3  \n",
      "4           565.0       259.0         3.8462               3  \n",
      "...           ...         ...            ...             ...  \n",
      "20635       845.0       330.0         1.5603               1  \n",
      "20636       356.0       114.0         2.5568               1  \n",
      "20637      1007.0       433.0         1.7000               1  \n",
      "20638       741.0       349.0         1.8672               1  \n",
      "20639      1387.0       530.0         2.3886               1  \n",
      "\n",
      "[13760 rows x 9 columns]\n",
      "Training until validation scores don't improve for 20 rounds\n",
      "[10]\tvalid_0's l2: 4.79351e+09\n",
      "[20]\tvalid_0's l2: 3.67015e+09\n",
      "[30]\tvalid_0's l2: 3.40853e+09\n",
      "[40]\tvalid_0's l2: 3.23624e+09\n",
      "[50]\tvalid_0's l2: 3.15884e+09\n",
      "[60]\tvalid_0's l2: 3.12046e+09\n",
      "[70]\tvalid_0's l2: 3.09399e+09\n",
      "[80]\tvalid_0's l2: 3.06793e+09\n",
      "[90]\tvalid_0's l2: 3.04013e+09\n",
      "[100]\tvalid_0's l2: 3.03535e+09\n",
      "Did not meet early stopping. Best iteration is:\n",
      "[100]\tvalid_0's l2: 3.03535e+09\n",
      "0.271932728720221\n",
      "       longitude  latitude  housing_median_age  total_rooms  total_bedrooms  \\\n",
      "0        -122.23     37.88                41.0        880.0           129.0   \n",
      "1        -122.22     37.86                21.0       7099.0          1106.0   \n",
      "2        -122.24     37.85                52.0       1467.0           190.0   \n",
      "3        -122.25     37.85                52.0       1274.0           235.0   \n",
      "4        -122.25     37.85                52.0       1627.0           280.0   \n",
      "...          ...       ...                 ...          ...             ...   \n",
      "13755    -117.16     34.06                33.0       2101.0           468.0   \n",
      "13756    -117.16     34.06                17.0       2285.0           554.0   \n",
      "13757    -117.14     34.01                26.0       7561.0          1051.0   \n",
      "13758    -117.15     34.03                32.0       2832.0           393.0   \n",
      "13759    -117.15     34.03                26.0       5305.0           701.0   \n",
      "\n",
      "       population  households  median_income ocean_proximity  \n",
      "0           322.0       126.0         8.3252               3  \n",
      "1          2401.0      1138.0         8.3014               3  \n",
      "2           496.0       177.0         7.2574               3  \n",
      "3           558.0       219.0         5.6431               3  \n",
      "4           565.0       259.0         3.8462               3  \n",
      "...           ...         ...            ...             ...  \n",
      "13755      1997.0       412.0         2.8125               1  \n",
      "13756      1412.0       541.0         1.8152               1  \n",
      "13757      2909.0      1012.0         7.2972               1  \n",
      "13758      1033.0       385.0         6.5648               1  \n",
      "13759      1818.0       676.0         6.1461               1  \n",
      "\n",
      "[13760 rows x 9 columns]\n",
      "Training until validation scores don't improve for 20 rounds\n",
      "[10]\tvalid_0's l2: 7.67339e+09\n",
      "[20]\tvalid_0's l2: 6.31909e+09\n",
      "[30]\tvalid_0's l2: 5.89351e+09\n",
      "[40]\tvalid_0's l2: 5.58667e+09\n",
      "[50]\tvalid_0's l2: 5.27242e+09\n",
      "[60]\tvalid_0's l2: 5.20555e+09\n",
      "[70]\tvalid_0's l2: 5.13872e+09\n",
      "[80]\tvalid_0's l2: 5.09245e+09\n",
      "[90]\tvalid_0's l2: 5.04913e+09\n",
      "[100]\tvalid_0's l2: 5.00398e+09\n",
      "Did not meet early stopping. Best iteration is:\n",
      "[99]\tvalid_0's l2: 4.99441e+09\n",
      "0.3175362814073617\n"
     ]
    }
   ],
   "source": [
    "models = []\n",
    "rmses = []\n",
    "oof = np.zeros(len(train_X))\n",
    "\n",
    "for train_index, val_index in kf.split(train_X):\n",
    "    X_train = train_X.iloc[train_index]\n",
    "    X_valid = train_X.iloc[val_index]\n",
    "    y_train = train_Y.iloc[train_index]\n",
    "    y_valid = train_Y.iloc[val_index]\n",
    "    print(X_train)\n",
    "    lgb_train = lgb.Dataset(X_train, y_train)\n",
    "    lgb_eval = lgb.Dataset(X_valid, y_valid, reference=lgb_train)    \n",
    "    \n",
    "    model_lgb = lgb.train(lgbm_params, \n",
    "                          lgb_train, \n",
    "                          valid_sets=lgb_eval, \n",
    "                          num_boost_round=100,\n",
    "                          early_stopping_rounds=20,\n",
    "                          verbose_eval=10,\n",
    "                         )    \n",
    "    \n",
    "    y_pred = model_lgb.predict(X_valid, num_iteration=model_lgb.best_iteration)\n",
    "    tmp_rmse = np.sqrt(mean_squared_error(np.log(y_valid), np.log(y_pred)))\n",
    "    print(tmp_rmse)    \n",
    "              \n",
    "    models.append(model_lgb)    \n",
    "    rmses.append(tmp_rmse)\n",
    "    oof[val_index] = y_pred "
   ]
  },
  {
   "cell_type": "code",
   "execution_count": 127,
   "id": "86a2c9f1",
   "metadata": {
    "scrolled": true
   },
   "outputs": [
    {
     "data": {
      "text/plain": [
       "0.318010369400198"
      ]
     },
     "execution_count": 127,
     "metadata": {},
     "output_type": "execute_result"
    }
   ],
   "source": [
    "sum(rmses)/len(rmses)"
   ]
  },
  {
   "cell_type": "markdown",
   "id": "d228e30b",
   "metadata": {},
   "source": [
    "## 목적 변수 전처리 - 로그화"
   ]
  },
  {
   "cell_type": "code",
   "execution_count": 128,
   "id": "44895648",
   "metadata": {},
   "outputs": [
    {
     "data": {
      "text/plain": [
       "0        13.022764\n",
       "1        12.789684\n",
       "2        12.771671\n",
       "3        12.740517\n",
       "4        12.743151\n",
       "           ...    \n",
       "20635    11.265745\n",
       "20636    11.252859\n",
       "20637    11.432799\n",
       "20638    11.346871\n",
       "20639    11.400876\n",
       "Name: median_house_value, Length: 20640, dtype: float64"
      ]
     },
     "execution_count": 128,
     "metadata": {},
     "output_type": "execute_result"
    }
   ],
   "source": [
    "np.log(house['median_house_value'])"
   ]
  },
  {
   "cell_type": "code",
   "execution_count": 129,
   "id": "397ec71b",
   "metadata": {
    "scrolled": true
   },
   "outputs": [
    {
     "data": {
      "text/plain": [
       "<Axes: ylabel='Frequency'>"
      ]
     },
     "execution_count": 129,
     "metadata": {},
     "output_type": "execute_result"
    },
    {
     "data": {
      "image/png": "[encoded data removed]",
      "text/plain": [
       "<Figure size 640x480 with 1 Axes>"
      ]
     },
     "metadata": {},
     "output_type": "display_data"
    }
   ],
   "source": [
    "np.log(house['median_house_value']).plot.hist(bins=20)"
   ]
  },
  {
   "cell_type": "code",
   "execution_count": 130,
   "id": "ccf91902",
   "metadata": {},
   "outputs": [],
   "source": [
    "pd.options.mode.chained_assignment = None\n",
    "train_df_le[\"median_house_value_log\"] = np.log(train_df_le[\"median_house_value\"])"
   ]
  },
  {
   "cell_type": "code",
   "execution_count": 131,
   "id": "d15ed7c8",
   "metadata": {},
   "outputs": [],
   "source": [
    "train_X = train_df_le.drop([\"median_house_value\",\"median_house_value_log\"], axis=1)\n",
    "train_Y = train_df_le[\"median_house_value_log\"]"
   ]
  },
  {
   "cell_type": "code",
   "execution_count": 132,
   "id": "7922ea61",
   "metadata": {
    "scrolled": true
   },
   "outputs": [
    {
     "name": "stdout",
     "output_type": "stream",
     "text": [
      "Training until validation scores don't improve for 20 rounds\n",
      "[10]\tvalid_0's l2: 0.177105\n",
      "[20]\tvalid_0's l2: 0.148305\n",
      "[30]\tvalid_0's l2: 0.13703\n",
      "[40]\tvalid_0's l2: 0.133683\n",
      "[50]\tvalid_0's l2: 0.130805\n",
      "[60]\tvalid_0's l2: 0.129102\n",
      "[70]\tvalid_0's l2: 0.128682\n",
      "[80]\tvalid_0's l2: 0.126369\n",
      "[90]\tvalid_0's l2: 0.12531\n",
      "[100]\tvalid_0's l2: 0.124654\n",
      "Did not meet early stopping. Best iteration is:\n",
      "[94]\tvalid_0's l2: 0.124482\n",
      "0.35281976425815553\n",
      "Training until validation scores don't improve for 20 rounds\n",
      "[10]\tvalid_0's l2: 0.107613\n",
      "[20]\tvalid_0's l2: 0.0851687\n",
      "[30]\tvalid_0's l2: 0.0810526\n",
      "[40]\tvalid_0's l2: 0.0781385\n",
      "[50]\tvalid_0's l2: 0.0762139\n",
      "[60]\tvalid_0's l2: 0.0761592\n",
      "[70]\tvalid_0's l2: 0.0764343\n",
      "Early stopping, best iteration is:\n",
      "[55]\tvalid_0's l2: 0.0759788\n",
      "0.27564511558178456\n",
      "Training until validation scores don't improve for 20 rounds\n",
      "[10]\tvalid_0's l2: 0.154067\n",
      "[20]\tvalid_0's l2: 0.12318\n",
      "[30]\tvalid_0's l2: 0.118136\n",
      "[40]\tvalid_0's l2: 0.113012\n",
      "[50]\tvalid_0's l2: 0.108943\n",
      "[60]\tvalid_0's l2: 0.107362\n",
      "[70]\tvalid_0's l2: 0.106077\n",
      "[80]\tvalid_0's l2: 0.104271\n",
      "[90]\tvalid_0's l2: 0.102818\n",
      "[100]\tvalid_0's l2: 0.102421\n",
      "Did not meet early stopping. Best iteration is:\n",
      "[96]\tvalid_0's l2: 0.102288\n",
      "0.3198251105588104\n"
     ]
    }
   ],
   "source": [
    "import warnings\n",
    "warnings.filterwarnings(\"ignore\")\n",
    "\n",
    "models = []\n",
    "rmses = []\n",
    "oof = np.zeros(len(train_X))\n",
    "\n",
    "for train_index, val_index in kf.split(train_X):\n",
    "    X_train = train_X.iloc[train_index]\n",
    "    X_valid = train_X.iloc[val_index]\n",
    "    y_train = train_Y.iloc[train_index]\n",
    "    y_valid = train_Y.iloc[val_index]\n",
    "        \n",
    "    lgb_train = lgb.Dataset(X_train, y_train)\n",
    "    lgb_eval = lgb.Dataset(X_valid, y_valid, reference=lgb_train)    \n",
    "    \n",
    "    model_lgb = lgb.train(lgbm_params, \n",
    "                          lgb_train, \n",
    "                          valid_sets=lgb_eval, \n",
    "                          num_boost_round=100,\n",
    "                          early_stopping_rounds=20,\n",
    "                          verbose_eval=10,\n",
    "                         )    \n",
    "    \n",
    "    y_pred = model_lgb.predict(X_valid, num_iteration=model_lgb.best_iteration)\n",
    "    tmp_rmse = np.sqrt(mean_squared_error(y_valid, y_pred))\n",
    "    print(tmp_rmse)    \n",
    "              \n",
    "    models.append(model_lgb)    \n",
    "    rmses.append(tmp_rmse)\n",
    "    oof[val_index] = y_pred "
   ]
  },
  {
   "cell_type": "code",
   "execution_count": 133,
   "id": "24438c76",
   "metadata": {
    "scrolled": true
   },
   "outputs": [
    {
     "data": {
      "text/plain": [
       "0.31609666346625015"
      ]
     },
     "execution_count": 133,
     "metadata": {},
     "output_type": "execute_result"
    }
   ],
   "source": [
    "sum(rmses)/len(rmses)"
   ]
  },
  {
   "cell_type": "markdown",
   "id": "384663f6",
   "metadata": {},
   "source": [
    "## 설명변수 이상치 제외"
   ]
  },
  {
   "cell_type": "code",
   "execution_count": 8,
   "id": "f249ffbd",
   "metadata": {},
   "outputs": [
    {
     "data": {
      "text/plain": [
       "<Axes: xlabel='total_rooms', ylabel='median_house_value'>"
      ]
     },
     "execution_count": 8,
     "metadata": {},
     "output_type": "execute_result"
    },
    {
     "data": {
      "image/png": "[encoded data removed]",
      "text/plain": [
       "<Figure size 640x480 with 1 Axes>"
      ]
     },
     "metadata": {},
     "output_type": "display_data"
    }
   ],
   "source": [
    "house.plot.scatter(x='total_rooms', y='median_house_value') #20000이상은 이상치"
   ]
  },
  {
   "cell_type": "code",
   "execution_count": 6,
   "id": "b75b204a",
   "metadata": {},
   "outputs": [
    {
     "data": {
      "text/plain": [
       "<Axes: xlabel='total_bedrooms', ylabel='median_house_value'>"
      ]
     },
     "execution_count": 6,
     "metadata": {},
     "output_type": "execute_result"
    },
    {
     "data": {
      "image/png": "[encoded data removed]",
      "text/plain": [
       "<Figure size 640x480 with 1 Axes>"
      ]
     },
     "metadata": {},
     "output_type": "display_data"
    }
   ],
   "source": [
    "house.plot.scatter(x= 'total_bedrooms', y= 'median_house_value') #4000"
   ]
  },
  {
   "cell_type": "code",
   "execution_count": 104,
   "id": "c8afb30f",
   "metadata": {
    "scrolled": true
   },
   "outputs": [
    {
     "data": {
      "text/plain": [
       "<Axes: xlabel='population', ylabel='median_house_value'>"
      ]
     },
     "execution_count": 104,
     "metadata": {},
     "output_type": "execute_result"
    },
    {
     "data": {
      "image/png": "[encoded data removed]",
      "text/plain": [
       "<Figure size 640x480 with 1 Axes>"
      ]
     },
     "metadata": {},
     "output_type": "display_data"
    }
   ],
   "source": [
    "house.plot.scatter(x= 'population', y= 'median_house_value') #15000이상"
   ]
  },
  {
   "cell_type": "code",
   "execution_count": 105,
   "id": "853d1ad1",
   "metadata": {},
   "outputs": [
    {
     "data": {
      "text/plain": [
       "<Axes: xlabel='households', ylabel='median_house_value'>"
      ]
     },
     "execution_count": 105,
     "metadata": {},
     "output_type": "execute_result"
    },
    {
     "data": {
      "image/png": "[encoded data removed]",
      "text/plain": [
       "<Figure size 640x480 with 1 Axes>"
      ]
     },
     "metadata": {},
     "output_type": "display_data"
    }
   ],
   "source": [
    "house.plot.scatter(x= 'households', y= 'median_house_value') #4000이상"
   ]
  },
  {
   "cell_type": "code",
   "execution_count": 106,
   "id": "5ec11f07",
   "metadata": {},
   "outputs": [
    {
     "data": {
      "text/plain": [
       "<Axes: xlabel='median_income', ylabel='median_house_value'>"
      ]
     },
     "execution_count": 106,
     "metadata": {},
     "output_type": "execute_result"
    },
    {
     "data": {
      "image/png": "[encoded data removed]",
      "text/plain": [
       "<Figure size 640x480 with 1 Axes>"
      ]
     },
     "metadata": {},
     "output_type": "display_data"
    }
   ],
   "source": [
    "house.plot.scatter(x= 'median_income', y= 'median_house_value') #income이 12이상, value가 500000이하...?"
   ]
  },
  {
   "cell_type": "code",
   "execution_count": 136,
   "id": "f8ef072e",
   "metadata": {},
   "outputs": [],
   "source": [
    "hosue = house[(house['total_rooms'] < 20000) | (house['median_house_value'].isnull())]\n",
    "hosue = house[(house['total_bedrooms'] < 4000) | (house['median_house_value'].isnull())]\n",
    "hosue = house[(house['population'] < 15000) | (house['median_house_value'].isnull())]\n",
    "hosue = house[(house['households'] < 4000) | (house['median_house_value'].isnull())]\n",
    "hosue = house[(house['median_income'] < 12) | (house['median_house_value'] < 500000)]"
   ]
  },
  {
   "cell_type": "code",
   "execution_count": 139,
   "id": "d1258076",
   "metadata": {},
   "outputs": [
    {
     "data": {
      "text/html": [
       "<div>\n",
       "<style scoped>\n",
       "    .dataframe tbody tr th:only-of-type {\n",
       "        vertical-align: middle;\n",
       "    }\n",
       "\n",
       "    .dataframe tbody tr th {\n",
       "        vertical-align: top;\n",
       "    }\n",
       "\n",
       "    .dataframe thead th {\n",
       "        text-align: right;\n",
       "    }\n",
       "</style>\n",
       "<table border=\"1\" class=\"dataframe\">\n",
       "  <thead>\n",
       "    <tr style=\"text-align: right;\">\n",
       "      <th></th>\n",
       "      <th>longitude</th>\n",
       "      <th>latitude</th>\n",
       "      <th>housing_median_age</th>\n",
       "      <th>total_rooms</th>\n",
       "      <th>total_bedrooms</th>\n",
       "      <th>population</th>\n",
       "      <th>households</th>\n",
       "      <th>median_income</th>\n",
       "      <th>median_house_value</th>\n",
       "      <th>ocean_proximity</th>\n",
       "    </tr>\n",
       "  </thead>\n",
       "  <tbody>\n",
       "    <tr>\n",
       "      <th>0</th>\n",
       "      <td>-122.23</td>\n",
       "      <td>37.88</td>\n",
       "      <td>41.0</td>\n",
       "      <td>880.0</td>\n",
       "      <td>129.0</td>\n",
       "      <td>322.0</td>\n",
       "      <td>126.0</td>\n",
       "      <td>8.3252</td>\n",
       "      <td>452600.0</td>\n",
       "      <td>3</td>\n",
       "    </tr>\n",
       "    <tr>\n",
       "      <th>1</th>\n",
       "      <td>-122.22</td>\n",
       "      <td>37.86</td>\n",
       "      <td>21.0</td>\n",
       "      <td>7099.0</td>\n",
       "      <td>1106.0</td>\n",
       "      <td>2401.0</td>\n",
       "      <td>1138.0</td>\n",
       "      <td>8.3014</td>\n",
       "      <td>358500.0</td>\n",
       "      <td>3</td>\n",
       "    </tr>\n",
       "    <tr>\n",
       "      <th>2</th>\n",
       "      <td>-122.24</td>\n",
       "      <td>37.85</td>\n",
       "      <td>52.0</td>\n",
       "      <td>1467.0</td>\n",
       "      <td>190.0</td>\n",
       "      <td>496.0</td>\n",
       "      <td>177.0</td>\n",
       "      <td>7.2574</td>\n",
       "      <td>352100.0</td>\n",
       "      <td>3</td>\n",
       "    </tr>\n",
       "    <tr>\n",
       "      <th>3</th>\n",
       "      <td>-122.25</td>\n",
       "      <td>37.85</td>\n",
       "      <td>52.0</td>\n",
       "      <td>1274.0</td>\n",
       "      <td>235.0</td>\n",
       "      <td>558.0</td>\n",
       "      <td>219.0</td>\n",
       "      <td>5.6431</td>\n",
       "      <td>341300.0</td>\n",
       "      <td>3</td>\n",
       "    </tr>\n",
       "    <tr>\n",
       "      <th>4</th>\n",
       "      <td>-122.25</td>\n",
       "      <td>37.85</td>\n",
       "      <td>52.0</td>\n",
       "      <td>1627.0</td>\n",
       "      <td>280.0</td>\n",
       "      <td>565.0</td>\n",
       "      <td>259.0</td>\n",
       "      <td>3.8462</td>\n",
       "      <td>342200.0</td>\n",
       "      <td>3</td>\n",
       "    </tr>\n",
       "    <tr>\n",
       "      <th>...</th>\n",
       "      <td>...</td>\n",
       "      <td>...</td>\n",
       "      <td>...</td>\n",
       "      <td>...</td>\n",
       "      <td>...</td>\n",
       "      <td>...</td>\n",
       "      <td>...</td>\n",
       "      <td>...</td>\n",
       "      <td>...</td>\n",
       "      <td>...</td>\n",
       "    </tr>\n",
       "    <tr>\n",
       "      <th>20635</th>\n",
       "      <td>-121.09</td>\n",
       "      <td>39.48</td>\n",
       "      <td>25.0</td>\n",
       "      <td>1665.0</td>\n",
       "      <td>374.0</td>\n",
       "      <td>845.0</td>\n",
       "      <td>330.0</td>\n",
       "      <td>1.5603</td>\n",
       "      <td>78100.0</td>\n",
       "      <td>1</td>\n",
       "    </tr>\n",
       "    <tr>\n",
       "      <th>20636</th>\n",
       "      <td>-121.21</td>\n",
       "      <td>39.49</td>\n",
       "      <td>18.0</td>\n",
       "      <td>697.0</td>\n",
       "      <td>150.0</td>\n",
       "      <td>356.0</td>\n",
       "      <td>114.0</td>\n",
       "      <td>2.5568</td>\n",
       "      <td>77100.0</td>\n",
       "      <td>1</td>\n",
       "    </tr>\n",
       "    <tr>\n",
       "      <th>20637</th>\n",
       "      <td>-121.22</td>\n",
       "      <td>39.43</td>\n",
       "      <td>17.0</td>\n",
       "      <td>2254.0</td>\n",
       "      <td>485.0</td>\n",
       "      <td>1007.0</td>\n",
       "      <td>433.0</td>\n",
       "      <td>1.7000</td>\n",
       "      <td>92300.0</td>\n",
       "      <td>1</td>\n",
       "    </tr>\n",
       "    <tr>\n",
       "      <th>20638</th>\n",
       "      <td>-121.32</td>\n",
       "      <td>39.43</td>\n",
       "      <td>18.0</td>\n",
       "      <td>1860.0</td>\n",
       "      <td>409.0</td>\n",
       "      <td>741.0</td>\n",
       "      <td>349.0</td>\n",
       "      <td>1.8672</td>\n",
       "      <td>84700.0</td>\n",
       "      <td>1</td>\n",
       "    </tr>\n",
       "    <tr>\n",
       "      <th>20639</th>\n",
       "      <td>-121.24</td>\n",
       "      <td>39.37</td>\n",
       "      <td>16.0</td>\n",
       "      <td>2785.0</td>\n",
       "      <td>616.0</td>\n",
       "      <td>1387.0</td>\n",
       "      <td>530.0</td>\n",
       "      <td>2.3886</td>\n",
       "      <td>89400.0</td>\n",
       "      <td>1</td>\n",
       "    </tr>\n",
       "  </tbody>\n",
       "</table>\n",
       "<p>20640 rows × 10 columns</p>\n",
       "</div>"
      ],
      "text/plain": [
       "       longitude  latitude  housing_median_age  total_rooms  total_bedrooms  \\\n",
       "0        -122.23     37.88                41.0        880.0           129.0   \n",
       "1        -122.22     37.86                21.0       7099.0          1106.0   \n",
       "2        -122.24     37.85                52.0       1467.0           190.0   \n",
       "3        -122.25     37.85                52.0       1274.0           235.0   \n",
       "4        -122.25     37.85                52.0       1627.0           280.0   \n",
       "...          ...       ...                 ...          ...             ...   \n",
       "20635    -121.09     39.48                25.0       1665.0           374.0   \n",
       "20636    -121.21     39.49                18.0        697.0           150.0   \n",
       "20637    -121.22     39.43                17.0       2254.0           485.0   \n",
       "20638    -121.32     39.43                18.0       1860.0           409.0   \n",
       "20639    -121.24     39.37                16.0       2785.0           616.0   \n",
       "\n",
       "       population  households  median_income  median_house_value  \\\n",
       "0           322.0       126.0         8.3252            452600.0   \n",
       "1          2401.0      1138.0         8.3014            358500.0   \n",
       "2           496.0       177.0         7.2574            352100.0   \n",
       "3           558.0       219.0         5.6431            341300.0   \n",
       "4           565.0       259.0         3.8462            342200.0   \n",
       "...           ...         ...            ...                 ...   \n",
       "20635       845.0       330.0         1.5603             78100.0   \n",
       "20636       356.0       114.0         2.5568             77100.0   \n",
       "20637      1007.0       433.0         1.7000             92300.0   \n",
       "20638       741.0       349.0         1.8672             84700.0   \n",
       "20639      1387.0       530.0         2.3886             89400.0   \n",
       "\n",
       "      ocean_proximity  \n",
       "0                   3  \n",
       "1                   3  \n",
       "2                   3  \n",
       "3                   3  \n",
       "4                   3  \n",
       "...               ...  \n",
       "20635               1  \n",
       "20636               1  \n",
       "20637               1  \n",
       "20638               1  \n",
       "20639               1  \n",
       "\n",
       "[20640 rows x 10 columns]"
      ]
     },
     "execution_count": 139,
     "metadata": {},
     "output_type": "execute_result"
    }
   ],
   "source": [
    "house"
   ]
  },
  {
   "cell_type": "code",
   "execution_count": 140,
   "id": "16b2ccb6",
   "metadata": {},
   "outputs": [],
   "source": [
    "train_df_le = hosue[~house[\"median_house_value\"].isnull()] \n",
    "test_df_le = house[house[\"median_house_value\"].isnull()] \n",
    "\n",
    "train_df_le[\"median_house_value_log\"] = np.log(train_df_le[\"median_house_value\"])\n",
    "train_X = train_df_le.drop([\"median_house_value\",\"median_house_value_log\"], axis=1)\n",
    "train_Y = train_df_le[\"median_house_value_log\"]"
   ]
  },
  {
   "cell_type": "code",
   "execution_count": 141,
   "id": "66e4b13e",
   "metadata": {},
   "outputs": [
    {
     "name": "stdout",
     "output_type": "stream",
     "text": [
      "Training until validation scores don't improve for 20 rounds\n",
      "[10]\tvalid_0's l2: 0.177844\n",
      "[20]\tvalid_0's l2: 0.145696\n",
      "[30]\tvalid_0's l2: 0.13602\n",
      "[40]\tvalid_0's l2: 0.130235\n",
      "[50]\tvalid_0's l2: 0.127598\n",
      "[60]\tvalid_0's l2: 0.123452\n",
      "[70]\tvalid_0's l2: 0.123216\n",
      "[80]\tvalid_0's l2: 0.122564\n",
      "[90]\tvalid_0's l2: 0.12233\n",
      "[100]\tvalid_0's l2: 0.121849\n",
      "Did not meet early stopping. Best iteration is:\n",
      "[97]\tvalid_0's l2: 0.12176\n",
      "0.34894103673169424\n",
      "Training until validation scores don't improve for 20 rounds\n",
      "[10]\tvalid_0's l2: 0.106925\n",
      "[20]\tvalid_0's l2: 0.0858766\n",
      "[30]\tvalid_0's l2: 0.0807662\n",
      "[40]\tvalid_0's l2: 0.0774258\n",
      "[50]\tvalid_0's l2: 0.0769209\n",
      "[60]\tvalid_0's l2: 0.0760086\n",
      "[70]\tvalid_0's l2: 0.0756571\n",
      "[80]\tvalid_0's l2: 0.0759186\n",
      "[90]\tvalid_0's l2: 0.0756795\n",
      "Early stopping, best iteration is:\n",
      "[74]\tvalid_0's l2: 0.075616\n",
      "0.2749835709850599\n",
      "Training until validation scores don't improve for 20 rounds\n",
      "[10]\tvalid_0's l2: 0.153957\n",
      "[20]\tvalid_0's l2: 0.125054\n",
      "[30]\tvalid_0's l2: 0.111395\n",
      "[40]\tvalid_0's l2: 0.106534\n",
      "[50]\tvalid_0's l2: 0.105169\n",
      "[60]\tvalid_0's l2: 0.101687\n",
      "[70]\tvalid_0's l2: 0.102073\n",
      "[80]\tvalid_0's l2: 0.100066\n",
      "[90]\tvalid_0's l2: 0.0994085\n",
      "[100]\tvalid_0's l2: 0.0987089\n",
      "Did not meet early stopping. Best iteration is:\n",
      "[96]\tvalid_0's l2: 0.0985537\n",
      "0.31393269150212605\n"
     ]
    }
   ],
   "source": [
    "models = []\n",
    "rmses = []\n",
    "oof = np.zeros(len(train_X))\n",
    "\n",
    "for train_index, val_index in kf.split(train_X):\n",
    "    X_train = train_X.iloc[train_index]\n",
    "    X_valid = train_X.iloc[val_index]\n",
    "    y_train = train_Y.iloc[train_index]\n",
    "    y_valid = train_Y.iloc[val_index]\n",
    "        \n",
    "    lgb_train = lgb.Dataset(X_train, y_train)\n",
    "    lgb_eval = lgb.Dataset(X_valid, y_valid, reference=lgb_train)    \n",
    "    \n",
    "    model_lgb = lgb.train(lgbm_params, \n",
    "                          lgb_train, \n",
    "                          valid_sets=lgb_eval, \n",
    "                          num_boost_round=100,\n",
    "                          early_stopping_rounds=20,\n",
    "                          verbose_eval=10,\n",
    "                         )    \n",
    "    \n",
    "    y_pred = model_lgb.predict(X_valid, num_iteration=model_lgb.best_iteration)\n",
    "    tmp_rmse = np.sqrt(mean_squared_error(y_valid, y_pred))\n",
    "    print(tmp_rmse)    \n",
    "              \n",
    "    models.append(model_lgb)    \n",
    "    rmses.append(tmp_rmse)\n",
    "    oof[val_index] = y_pred "
   ]
  },
  {
   "cell_type": "code",
   "execution_count": 142,
   "id": "f5c96a48",
   "metadata": {},
   "outputs": [
    {
     "data": {
      "text/plain": [
       "0.31261909973962676"
      ]
     },
     "execution_count": 142,
     "metadata": {},
     "output_type": "execute_result"
    }
   ],
   "source": [
    "sum(rmses)/len(rmses)"
   ]
  },
  {
   "cell_type": "code",
   "execution_count": null,
   "id": "2a92398d",
   "metadata": {},
   "outputs": [],
   "source": []
  }
 ],
 "metadata": {
  "kernelspec": {
   "display_name": "Python 3 (ipykernel)",
   "language": "python",
   "name": "python3"
  },
  "language_info": {
   "codemirror_mode": {
    "name": "ipython",
    "version": 3
   },
   "file_extension": ".py",
   "mimetype": "text/x-python",
   "name": "python",
   "nbconvert_exporter": "python",
   "pygments_lexer": "ipython3",
   "version": "3.9.13"
  }
 },
 "nbformat": 4,
 "nbformat_minor": 5
}
