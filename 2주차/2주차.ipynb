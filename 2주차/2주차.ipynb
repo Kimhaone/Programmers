{
 "cells": [
  {
   "cell_type": "markdown",
   "id": "b75ced09",
   "metadata": {},
   "source": [
    "# 타이타닉 생존자 예측\n",
    "\n",
    "- Survived: 생존여부 (0=사망 or 1=생존)\n",
    "- Pclass: 티켓등급 (1=1등석, 2=2등석, 3=3등석)\n",
    "- Sex: 성별\n",
    "- Age: 연령\n",
    "- SibSp: 동승 중인 형제나 배우자 수\n",
    "- Parch: 동승 중인 부모나 자녀의 수\n",
    "- Ticket: 티켓 번호\n",
    "- Fare: 티켓 요금\n",
    "- Cabin: 방 번호\n",
    "- Embarked: 승선한 항구 이름 (C, Q, S)"
   ]
  },
  {
   "cell_type": "markdown",
   "id": "d431c0e9",
   "metadata": {},
   "source": [
    "# 2주차"
   ]
  },
  {
   "cell_type": "code",
   "execution_count": 65,
   "id": "ff42c162",
   "metadata": {},
   "outputs": [],
   "source": [
    "import lightgbm as lgb"
   ]
  },
  {
   "cell_type": "markdown",
   "id": "b9ec35a3",
   "metadata": {},
   "source": [
    "### 홀드 아웃"
   ]
  },
  {
   "cell_type": "code",
   "execution_count": 66,
   "id": "f7a0e21f",
   "metadata": {},
   "outputs": [],
   "source": [
    "from sklearn.model_selection import train_test_split\n",
    "from sklearn.model_selection import KFold"
   ]
  },
  {
   "cell_type": "code",
   "execution_count": 95,
   "id": "f380f577",
   "metadata": {},
   "outputs": [],
   "source": [
    "#20%를 검증 데이터로 분할\n",
    "X_train, X_valid, y_train, y_valid = train_test_split(train_X, train_Y, test_size = 0.2)"
   ]
  },
  {
   "cell_type": "code",
   "execution_count": 96,
   "id": "867b356f",
   "metadata": {
    "scrolled": false
   },
   "outputs": [
    {
     "data": {
      "text/html": [
       "<div>\n",
       "<style scoped>\n",
       "    .dataframe tbody tr th:only-of-type {\n",
       "        vertical-align: middle;\n",
       "    }\n",
       "\n",
       "    .dataframe tbody tr th {\n",
       "        vertical-align: top;\n",
       "    }\n",
       "\n",
       "    .dataframe thead th {\n",
       "        text-align: right;\n",
       "    }\n",
       "</style>\n",
       "<table border=\"1\" class=\"dataframe\">\n",
       "  <thead>\n",
       "    <tr style=\"text-align: right;\">\n",
       "      <th></th>\n",
       "      <th>Pclass</th>\n",
       "      <th>Sex</th>\n",
       "      <th>Age</th>\n",
       "      <th>SibSp</th>\n",
       "      <th>Parch</th>\n",
       "      <th>Fare</th>\n",
       "      <th>Embarked</th>\n",
       "      <th>honorific</th>\n",
       "      <th>family_num</th>\n",
       "      <th>alone</th>\n",
       "    </tr>\n",
       "  </thead>\n",
       "  <tbody>\n",
       "    <tr>\n",
       "      <th>773</th>\n",
       "      <td>3</td>\n",
       "      <td>1</td>\n",
       "      <td>32.252151</td>\n",
       "      <td>0</td>\n",
       "      <td>0</td>\n",
       "      <td>7.2250</td>\n",
       "      <td>0</td>\n",
       "      <td>2</td>\n",
       "      <td>0</td>\n",
       "      <td>1.0</td>\n",
       "    </tr>\n",
       "    <tr>\n",
       "      <th>347</th>\n",
       "      <td>3</td>\n",
       "      <td>0</td>\n",
       "      <td>36.994118</td>\n",
       "      <td>1</td>\n",
       "      <td>0</td>\n",
       "      <td>16.1000</td>\n",
       "      <td>2</td>\n",
       "      <td>3</td>\n",
       "      <td>1</td>\n",
       "      <td>0.0</td>\n",
       "    </tr>\n",
       "    <tr>\n",
       "      <th>19</th>\n",
       "      <td>3</td>\n",
       "      <td>0</td>\n",
       "      <td>36.994118</td>\n",
       "      <td>0</td>\n",
       "      <td>0</td>\n",
       "      <td>7.2250</td>\n",
       "      <td>0</td>\n",
       "      <td>3</td>\n",
       "      <td>0</td>\n",
       "      <td>1.0</td>\n",
       "    </tr>\n",
       "    <tr>\n",
       "      <th>863</th>\n",
       "      <td>3</td>\n",
       "      <td>0</td>\n",
       "      <td>21.774238</td>\n",
       "      <td>8</td>\n",
       "      <td>2</td>\n",
       "      <td>69.5500</td>\n",
       "      <td>2</td>\n",
       "      <td>1</td>\n",
       "      <td>10</td>\n",
       "      <td>0.0</td>\n",
       "    </tr>\n",
       "    <tr>\n",
       "      <th>104</th>\n",
       "      <td>3</td>\n",
       "      <td>1</td>\n",
       "      <td>37.000000</td>\n",
       "      <td>2</td>\n",
       "      <td>0</td>\n",
       "      <td>7.9250</td>\n",
       "      <td>2</td>\n",
       "      <td>2</td>\n",
       "      <td>2</td>\n",
       "      <td>0.0</td>\n",
       "    </tr>\n",
       "    <tr>\n",
       "      <th>...</th>\n",
       "      <td>...</td>\n",
       "      <td>...</td>\n",
       "      <td>...</td>\n",
       "      <td>...</td>\n",
       "      <td>...</td>\n",
       "      <td>...</td>\n",
       "      <td>...</td>\n",
       "      <td>...</td>\n",
       "      <td>...</td>\n",
       "      <td>...</td>\n",
       "    </tr>\n",
       "    <tr>\n",
       "      <th>67</th>\n",
       "      <td>3</td>\n",
       "      <td>1</td>\n",
       "      <td>19.000000</td>\n",
       "      <td>0</td>\n",
       "      <td>0</td>\n",
       "      <td>8.1583</td>\n",
       "      <td>2</td>\n",
       "      <td>2</td>\n",
       "      <td>0</td>\n",
       "      <td>1.0</td>\n",
       "    </tr>\n",
       "    <tr>\n",
       "      <th>460</th>\n",
       "      <td>1</td>\n",
       "      <td>1</td>\n",
       "      <td>48.000000</td>\n",
       "      <td>0</td>\n",
       "      <td>0</td>\n",
       "      <td>26.5500</td>\n",
       "      <td>2</td>\n",
       "      <td>2</td>\n",
       "      <td>0</td>\n",
       "      <td>1.0</td>\n",
       "    </tr>\n",
       "    <tr>\n",
       "      <th>129</th>\n",
       "      <td>3</td>\n",
       "      <td>1</td>\n",
       "      <td>45.000000</td>\n",
       "      <td>0</td>\n",
       "      <td>0</td>\n",
       "      <td>6.9750</td>\n",
       "      <td>2</td>\n",
       "      <td>2</td>\n",
       "      <td>0</td>\n",
       "      <td>1.0</td>\n",
       "    </tr>\n",
       "    <tr>\n",
       "      <th>72</th>\n",
       "      <td>2</td>\n",
       "      <td>1</td>\n",
       "      <td>21.000000</td>\n",
       "      <td>0</td>\n",
       "      <td>0</td>\n",
       "      <td>73.5000</td>\n",
       "      <td>2</td>\n",
       "      <td>2</td>\n",
       "      <td>0</td>\n",
       "      <td>1.0</td>\n",
       "    </tr>\n",
       "    <tr>\n",
       "      <th>399</th>\n",
       "      <td>2</td>\n",
       "      <td>0</td>\n",
       "      <td>28.000000</td>\n",
       "      <td>0</td>\n",
       "      <td>0</td>\n",
       "      <td>12.6500</td>\n",
       "      <td>2</td>\n",
       "      <td>3</td>\n",
       "      <td>0</td>\n",
       "      <td>1.0</td>\n",
       "    </tr>\n",
       "  </tbody>\n",
       "</table>\n",
       "<p>712 rows × 10 columns</p>\n",
       "</div>"
      ],
      "text/plain": [
       "     Pclass  Sex        Age  SibSp  Parch     Fare  Embarked  honorific  \\\n",
       "773       3    1  32.252151      0      0   7.2250         0          2   \n",
       "347       3    0  36.994118      1      0  16.1000         2          3   \n",
       "19        3    0  36.994118      0      0   7.2250         0          3   \n",
       "863       3    0  21.774238      8      2  69.5500         2          1   \n",
       "104       3    1  37.000000      2      0   7.9250         2          2   \n",
       "..      ...  ...        ...    ...    ...      ...       ...        ...   \n",
       "67        3    1  19.000000      0      0   8.1583         2          2   \n",
       "460       1    1  48.000000      0      0  26.5500         2          2   \n",
       "129       3    1  45.000000      0      0   6.9750         2          2   \n",
       "72        2    1  21.000000      0      0  73.5000         2          2   \n",
       "399       2    0  28.000000      0      0  12.6500         2          3   \n",
       "\n",
       "     family_num  alone  \n",
       "773           0    1.0  \n",
       "347           1    0.0  \n",
       "19            0    1.0  \n",
       "863          10    0.0  \n",
       "104           2    0.0  \n",
       "..          ...    ...  \n",
       "67            0    1.0  \n",
       "460           0    1.0  \n",
       "129           0    1.0  \n",
       "72            0    1.0  \n",
       "399           0    1.0  \n",
       "\n",
       "[712 rows x 10 columns]"
      ]
     },
     "execution_count": 96,
     "metadata": {},
     "output_type": "execute_result"
    }
   ],
   "source": [
    "X_train"
   ]
  },
  {
   "cell_type": "code",
   "execution_count": 97,
   "id": "56bc3166",
   "metadata": {
    "scrolled": true
   },
   "outputs": [
    {
     "data": {
      "text/plain": [
       "773    0\n",
       "347    1\n",
       "19     1\n",
       "863    0\n",
       "104    0\n",
       "      ..\n",
       "67     0\n",
       "460    1\n",
       "129    0\n",
       "72     0\n",
       "399    1\n",
       "Name: Survived, Length: 712, dtype: int64"
      ]
     },
     "execution_count": 97,
     "metadata": {},
     "output_type": "execute_result"
    }
   ],
   "source": [
    "y_train"
   ]
  },
  {
   "cell_type": "code",
   "execution_count": 151,
   "id": "012074e5",
   "metadata": {},
   "outputs": [],
   "source": [
    "#분류에 유의미한 특성을 지정\n",
    "categories = ['Embarked','Pclass','Sex','honorific','alone'] \n",
    "\n",
    "#학습용 특성 데이터와 타겟 데이터, 매개변수를 통해 범주형의 특성을 지정\n",
    "lgb_train = lgb.Dataset(X_train, y_train, categorical_feature=categories)\n",
    "\n",
    "#검증용 특성 데이터와 타겟 데이터, 범주형 특성 지정\n",
    "#reference: 학습 데이터셋을 참조. 학습 시 동일한 범주형 특성 처리 적용이 가능\n",
    " #보통 ligjtGBM은 학습 데이터셋을 먼저 만들고, 이를 참조하여 검증 데이터셋을 만듦.\n",
    " #같은 방식으로 저처리가 되기 때문.\n",
    "lgb_eval = lgb.Dataset(X_valid, y_valid,  categorical_feature=categories, reference=lgb_train)"
   ]
  },
  {
   "cell_type": "code",
   "execution_count": 152,
   "id": "f4fffed0",
   "metadata": {},
   "outputs": [],
   "source": [
    "#하이퍼파라미터 - 생존과 사망에 대해서만 분류하므로, binary로 설정\n",
    "lgbm_params = {\n",
    "    \"objective\":\"binary\",\n",
    "    \"random_seed\":1234\n",
    "}"
   ]
  },
  {
   "cell_type": "code",
   "execution_count": 153,
   "id": "8b7b1ba5",
   "metadata": {},
   "outputs": [
    {
     "name": "stdout",
     "output_type": "stream",
     "text": [
      "Training until validation scores don't improve for 20 rounds\n",
      "[10]\tvalid_0's binary_logloss: 0.462714\n",
      "[20]\tvalid_0's binary_logloss: 0.428688\n",
      "[30]\tvalid_0's binary_logloss: 0.422894\n",
      "[40]\tvalid_0's binary_logloss: 0.426613\n",
      "[50]\tvalid_0's binary_logloss: 0.437656\n",
      "Early stopping, best iteration is:\n",
      "[33]\tvalid_0's binary_logloss: 0.422436\n"
     ]
    },
    {
     "name": "stderr",
     "output_type": "stream",
     "text": [
      "C:\\Users\\onlyo\\anaconda3\\lib\\site-packages\\lightgbm\\basic.py:1291: UserWarning: Using categorical_feature in Dataset.\n",
      "  warnings.warn('Using categorical_feature in Dataset.')\n"
     ]
    }
   ],
   "source": [
    "#머신러닝 학습\n",
    "model_lgb = lgb.train(lgbm_params,\n",
    "                      lgb_train,\n",
    "                      valid_sets = lgb_eval,\n",
    "                      num_boost_round = 100, #몇 번의 트리가 추가로 학습될지 결정\n",
    "                      early_stopping_rounds=20, #성능 향상x 시, 조기 종료를 위한 설정. \n",
    "                      verbose_eval=10) #10번째 트리마다 출력"
   ]
  },
  {
   "cell_type": "markdown",
   "id": "fdc3cf2a",
   "metadata": {},
   "source": [
    "* 데이터셋에서 손실이 가장 작은 경우가 0.422xxx\n",
    "* 손실이 작을 수록 모델의 예측이 더 좋다는 것을 의미(모델의 예측값과 실제 레이블 간의 차이를 계산)"
   ]
  },
  {
   "cell_type": "code",
   "execution_count": 154,
   "id": "b4beddb2",
   "metadata": {},
   "outputs": [
    {
     "data": {
      "text/plain": [
       "array([ 51,  30, 322,  19,  10, 332,  42,  10,  28,   4])"
      ]
     },
     "execution_count": 154,
     "metadata": {},
     "output_type": "execute_result"
    }
   ],
   "source": [
    "#각 변수의 중요도\n",
    "model_lgb.feature_importance()"
   ]
  },
  {
   "cell_type": "code",
   "execution_count": 155,
   "id": "8f9f6891",
   "metadata": {},
   "outputs": [
    {
     "data": {
      "text/plain": [
       "<Axes: >"
      ]
     },
     "execution_count": 155,
     "metadata": {},
     "output_type": "execute_result"
    },
    {
     "data": {
      "image/png": "[encoded data removed]",
      "text/plain": [
       "<Figure size 640x480 with 1 Axes>"
      ]
     },
     "metadata": {},
     "output_type": "display_data"
    }
   ],
   "source": [
    "importance = pd.DataFrame(model_lgb.feature_importance(), index = X_train.columns, columns = ['importance']).sort_values(by = \"importance\", ascending = True)\n",
    "importance.plot.barh()"
   ]
  },
  {
   "cell_type": "markdown",
   "id": "cebe4cfd",
   "metadata": {},
   "source": [
    "### 예측 정확도 확인"
   ]
  },
  {
   "cell_type": "code",
   "execution_count": 156,
   "id": "ceb1e22e",
   "metadata": {},
   "outputs": [],
   "source": [
    "#검증 데이터에 적용\n",
    "#num_iteration: 사용할 트리의 개수 지정, 최적의 트리 개수를 입력\n",
    "y_pred = model_lgb.predict(X_valid, num_iteration = model_lgb.best_iteration)"
   ]
  },
  {
   "cell_type": "markdown",
   "id": "a4baaea2",
   "metadata": {},
   "source": [
    "* 정확도(accurancy): 전체 데이터 중 '예측 결과=실제 값'인 데이터 비율\n",
    ">(TN+TP)/(TN+FP+FN+TP)\n",
    "* 정밀도(precision): 예측을 P로 한 대상 중 예측 결과와 실제 값이 P인 데이터의 비율 \n",
    ">TP/(FP+TP)\n",
    "* 재현율(recall): 실제 P인 대상 중 예측 결과와 실제 값이 P인 데이터의 비율 \n",
    "> TP/(FN+TP)"
   ]
  },
  {
   "cell_type": "code",
   "execution_count": 157,
   "id": "01646175",
   "metadata": {},
   "outputs": [],
   "source": [
    "from sklearn.metrics import accuracy_score, precision_score, recall_score, confusion_matrix"
   ]
  },
  {
   "cell_type": "code",
   "execution_count": 158,
   "id": "d8716f90",
   "metadata": {},
   "outputs": [
    {
     "data": {
      "text/plain": [
       "array([[102,  15],\n",
       "       [ 15,  47]], dtype=int64)"
      ]
     },
     "execution_count": 158,
     "metadata": {},
     "output_type": "execute_result"
    }
   ],
   "source": [
    "confusion_matrix(y_valid, np.round(y_pred)) #오차행렬"
   ]
  },
  {
   "cell_type": "code",
   "execution_count": 159,
   "id": "61f13197",
   "metadata": {},
   "outputs": [
    {
     "data": {
      "text/plain": [
       "0.8324022346368715"
      ]
     },
     "execution_count": 159,
     "metadata": {},
     "output_type": "execute_result"
    }
   ],
   "source": [
    "accuracy_score(y_valid, np.round(y_pred)) #정확도"
   ]
  },
  {
   "cell_type": "code",
   "execution_count": 160,
   "id": "07859e8e",
   "metadata": {},
   "outputs": [
    {
     "data": {
      "text/plain": [
       "0.7580645161290323"
      ]
     },
     "execution_count": 160,
     "metadata": {},
     "output_type": "execute_result"
    }
   ],
   "source": [
    "precision_score(y_valid, np.round(y_pred)) #정밀도"
   ]
  },
  {
   "cell_type": "code",
   "execution_count": 161,
   "id": "e2817b5e",
   "metadata": {},
   "outputs": [
    {
     "data": {
      "text/plain": [
       "0.7580645161290323"
      ]
     },
     "execution_count": 161,
     "metadata": {},
     "output_type": "execute_result"
    }
   ],
   "source": [
    "recall_score(y_valid, np.round(y_pred)) #재현율"
   ]
  },
  {
   "cell_type": "code",
   "execution_count": 162,
   "id": "323564d1",
   "metadata": {},
   "outputs": [],
   "source": [
    "#하이퍼파라미터 변경\n",
    "lgbm_params = {\n",
    "    \"objective\":\"binary\",\n",
    "    \"max_bin\":331, #범용성 증가\n",
    "    \"num_leaves\":20, #잎 노드 증가로 모델의 복잡성 증가\n",
    "    \"min_data_in_leaf\":57, #잎 노드에 필요한 최소 데이터 증가로 트리 일반화\n",
    "    \"andom_seed\":1234\n",
    "}"
   ]
  },
  {
   "cell_type": "code",
   "execution_count": 163,
   "id": "466fab1a",
   "metadata": {},
   "outputs": [],
   "source": [
    "#재실행\n",
    "lgb_train = lgb.Dataset(X_train, label=y_train, categorical_feature=categories)\n",
    "lgb_eval = lgb.Dataset(X_valid, label=y_valid, categorical_feature=categories, reference=lgb_train)\n"
   ]
  },
  {
   "cell_type": "code",
   "execution_count": 164,
   "id": "0fdd78b1",
   "metadata": {},
   "outputs": [
    {
     "name": "stdout",
     "output_type": "stream",
     "text": [
      "Training until validation scores don't improve for 20 rounds\n",
      "[10]\tvalid_0's binary_logloss: 0.48088\n",
      "[20]\tvalid_0's binary_logloss: 0.447188\n",
      "[30]\tvalid_0's binary_logloss: 0.448972\n",
      "[40]\tvalid_0's binary_logloss: 0.453134\n",
      "Early stopping, best iteration is:\n",
      "[27]\tvalid_0's binary_logloss: 0.442573\n"
     ]
    },
    {
     "name": "stderr",
     "output_type": "stream",
     "text": [
      "C:\\Users\\onlyo\\anaconda3\\lib\\site-packages\\lightgbm\\basic.py:1291: UserWarning: Using categorical_feature in Dataset.\n",
      "  warnings.warn('Using categorical_feature in Dataset.')\n"
     ]
    }
   ],
   "source": [
    "model_lgb = lgb.train(lgbm_params, lgb_train, \n",
    "                      valid_sets=lgb_eval, \n",
    "                      num_boost_round=100,\n",
    "                      early_stopping_rounds=20,\n",
    "                      verbose_eval=10)"
   ]
  },
  {
   "cell_type": "code",
   "execution_count": 165,
   "id": "b3877140",
   "metadata": {},
   "outputs": [],
   "source": [
    "y_pred = model_lgb.predict(X_valid, num_iteration=model_lgb.best_iteration)"
   ]
  },
  {
   "cell_type": "code",
   "execution_count": 166,
   "id": "6e95828f",
   "metadata": {},
   "outputs": [
    {
     "data": {
      "text/plain": [
       "array([[103,  14],\n",
       "       [ 17,  45]], dtype=int64)"
      ]
     },
     "execution_count": 166,
     "metadata": {},
     "output_type": "execute_result"
    }
   ],
   "source": [
    "confusion_matrix(y_valid, np.round(y_pred)) "
   ]
  },
  {
   "cell_type": "code",
   "execution_count": 167,
   "id": "173f3baa",
   "metadata": {},
   "outputs": [
    {
     "data": {
      "text/plain": [
       "0.8268156424581006"
      ]
     },
     "execution_count": 167,
     "metadata": {},
     "output_type": "execute_result"
    }
   ],
   "source": [
    "accuracy_score(y_valid, np.round(y_pred))"
   ]
  },
  {
   "cell_type": "markdown",
   "id": "13f0bb2e",
   "metadata": {},
   "source": [
    "### 교차 검증"
   ]
  },
  {
   "cell_type": "code",
   "execution_count": 168,
   "id": "8b52e7d5",
   "metadata": {},
   "outputs": [],
   "source": [
    "folds = 3 #3개로 데이터 분할\n",
    "kf = KFold(n_splits = folds)"
   ]
  },
  {
   "cell_type": "code",
   "execution_count": 169,
   "id": "ed15c3ee",
   "metadata": {},
   "outputs": [
    {
     "name": "stderr",
     "output_type": "stream",
     "text": [
      "C:\\Users\\onlyo\\anaconda3\\lib\\site-packages\\lightgbm\\basic.py:1291: UserWarning: Using categorical_feature in Dataset.\n",
      "  warnings.warn('Using categorical_feature in Dataset.')\n",
      "C:\\Users\\onlyo\\anaconda3\\lib\\site-packages\\lightgbm\\basic.py:1291: UserWarning: Using categorical_feature in Dataset.\n",
      "  warnings.warn('Using categorical_feature in Dataset.')\n"
     ]
    },
    {
     "name": "stdout",
     "output_type": "stream",
     "text": [
      "Training until validation scores don't improve for 20 rounds\n",
      "[10]\tvalid_0's binary_logloss: 0.503031\n",
      "[20]\tvalid_0's binary_logloss: 0.465863\n",
      "[30]\tvalid_0's binary_logloss: 0.454056\n",
      "[40]\tvalid_0's binary_logloss: 0.451228\n",
      "[50]\tvalid_0's binary_logloss: 0.44724\n",
      "[60]\tvalid_0's binary_logloss: 0.447342\n",
      "[70]\tvalid_0's binary_logloss: 0.450126\n",
      "Early stopping, best iteration is:\n",
      "[54]\tvalid_0's binary_logloss: 0.445648\n",
      "0.8249158249158249\n",
      "Training until validation scores don't improve for 20 rounds\n",
      "[10]\tvalid_0's binary_logloss: 0.482264\n",
      "[20]\tvalid_0's binary_logloss: 0.440853\n",
      "[30]\tvalid_0's binary_logloss: 0.435016\n",
      "[40]\tvalid_0's binary_logloss: 0.433286\n",
      "[50]\tvalid_0's binary_logloss: 0.432128\n",
      "[60]\tvalid_0's binary_logloss: 0.430387\n",
      "[70]\tvalid_0's binary_logloss: 0.431241\n",
      "[80]\tvalid_0's binary_logloss: 0.438053\n",
      "Early stopping, best iteration is:\n",
      "[62]\tvalid_0's binary_logloss: 0.429561\n",
      "0.8181818181818182\n",
      "Training until validation scores don't improve for 20 rounds\n",
      "[10]\tvalid_0's binary_logloss: 0.471854\n",
      "[20]\tvalid_0's binary_logloss: 0.412579\n",
      "[30]\tvalid_0's binary_logloss: 0.393023\n",
      "[40]\tvalid_0's binary_logloss: 0.385434\n",
      "[50]\tvalid_0's binary_logloss: 0.38159\n",
      "[60]\tvalid_0's binary_logloss: 0.378753\n",
      "[70]\tvalid_0's binary_logloss: 0.376992\n",
      "[80]\tvalid_0's binary_logloss: 0.375146\n",
      "[90]\tvalid_0's binary_logloss: 0.379274\n",
      "[100]\tvalid_0's binary_logloss: 0.381002\n",
      "Early stopping, best iteration is:\n",
      "[80]\tvalid_0's binary_logloss: 0.375146\n",
      "0.8282828282828283\n"
     ]
    },
    {
     "name": "stderr",
     "output_type": "stream",
     "text": [
      "C:\\Users\\onlyo\\anaconda3\\lib\\site-packages\\lightgbm\\basic.py:1291: UserWarning: Using categorical_feature in Dataset.\n",
      "  warnings.warn('Using categorical_feature in Dataset.')\n"
     ]
    }
   ],
   "source": [
    "models = [] #3개의 모델들이 들어갈 빈 리스트\n",
    "\n",
    "for train_index, val_index in kf.split(train_X): #각각 3개의 학습,테스트 데이터 \n",
    "    X_train = train_X.iloc[train_index] #학습데이터의 설명(독립) 변수 - 학습데이터의 인덱스에 해당하는 부분 추출\n",
    "    X_valid = train_X.iloc[val_index] #검증데이터의 설명 변수\n",
    "    y_train = train_Y.iloc[train_index] #학습데이터의 목표(종속) 변수\n",
    "    y_valid = train_Y.iloc[val_index] #검증데이터의 목표 변수\n",
    "        \n",
    "    lgb_train = lgb.Dataset(X_train, y_train, categorical_feature=categories)\n",
    "    lgb_eval = lgb.Dataset(X_valid, y_valid, categorical_feature=categories, reference=lgb_train)    \n",
    "    \n",
    "    model_lgb = lgb.train(lgbm_params, \n",
    "                          lgb_train, \n",
    "                          valid_sets=lgb_eval, \n",
    "                          num_boost_round=100,\n",
    "                          early_stopping_rounds=20,\n",
    "                          verbose_eval=10,\n",
    "                         )\n",
    "    \n",
    "    \n",
    "    y_pred = model_lgb.predict(X_valid, num_iteration=model_lgb.best_iteration)\n",
    "    print(accuracy_score(y_valid, np.round(y_pred)))\n",
    "    \n",
    "    models.append(model_lgb)"
   ]
  },
  {
   "cell_type": "markdown",
   "id": "c055ff5f",
   "metadata": {},
   "source": [
    "* 총 3개의 정확도를 가진 모델 생성\n",
    "* 최종 정확도는 모델들의 정확도의 평균을 구함"
   ]
  },
  {
   "cell_type": "code",
   "execution_count": 173,
   "id": "1c933ed1",
   "metadata": {},
   "outputs": [],
   "source": [
    "#예측 결과 산출\n",
    "preds = []\n",
    "\n",
    "for model in models:\n",
    "    pred = model.predict(test_X) #테스트 데이터의 결과를 예측\n",
    "    preds.append(pred) #예측값을 preds에 저장"
   ]
  },
  {
   "cell_type": "code",
   "execution_count": 183,
   "id": "1f43a585",
   "metadata": {},
   "outputs": [],
   "source": [
    "# 결과 평균 구하기\n",
    "preds_array = np.array(preds)\n",
    "preds_mean = np.mean(preds_array, axis = 0) #예측 값을 하나씩 더해 평균을 내므로 행 기준으로"
   ]
  },
  {
   "cell_type": "code",
   "execution_count": 178,
   "id": "ff6f01de",
   "metadata": {},
   "outputs": [],
   "source": [
    "pred_int = (preds_mean>0.5).astype(int) #평균이므로 int형, 0.5를 기준으로 사망과 생존으로 예측"
   ]
  },
  {
   "cell_type": "code",
   "execution_count": 181,
   "id": "5ce8ff26",
   "metadata": {},
   "outputs": [],
   "source": [
    "submission['Survived'] = pred_int"
   ]
  },
  {
   "cell_type": "code",
   "execution_count": 182,
   "id": "3451dad0",
   "metadata": {},
   "outputs": [
    {
     "data": {
      "text/html": [
       "<div>\n",
       "<style scoped>\n",
       "    .dataframe tbody tr th:only-of-type {\n",
       "        vertical-align: middle;\n",
       "    }\n",
       "\n",
       "    .dataframe tbody tr th {\n",
       "        vertical-align: top;\n",
       "    }\n",
       "\n",
       "    .dataframe thead th {\n",
       "        text-align: right;\n",
       "    }\n",
       "</style>\n",
       "<table border=\"1\" class=\"dataframe\">\n",
       "  <thead>\n",
       "    <tr style=\"text-align: right;\">\n",
       "      <th></th>\n",
       "      <th>PassengerId</th>\n",
       "      <th>Survived</th>\n",
       "    </tr>\n",
       "  </thead>\n",
       "  <tbody>\n",
       "    <tr>\n",
       "      <th>0</th>\n",
       "      <td>892</td>\n",
       "      <td>0</td>\n",
       "    </tr>\n",
       "    <tr>\n",
       "      <th>1</th>\n",
       "      <td>893</td>\n",
       "      <td>0</td>\n",
       "    </tr>\n",
       "    <tr>\n",
       "      <th>2</th>\n",
       "      <td>894</td>\n",
       "      <td>0</td>\n",
       "    </tr>\n",
       "    <tr>\n",
       "      <th>3</th>\n",
       "      <td>895</td>\n",
       "      <td>0</td>\n",
       "    </tr>\n",
       "    <tr>\n",
       "      <th>4</th>\n",
       "      <td>896</td>\n",
       "      <td>1</td>\n",
       "    </tr>\n",
       "    <tr>\n",
       "      <th>...</th>\n",
       "      <td>...</td>\n",
       "      <td>...</td>\n",
       "    </tr>\n",
       "    <tr>\n",
       "      <th>413</th>\n",
       "      <td>1305</td>\n",
       "      <td>0</td>\n",
       "    </tr>\n",
       "    <tr>\n",
       "      <th>414</th>\n",
       "      <td>1306</td>\n",
       "      <td>1</td>\n",
       "    </tr>\n",
       "    <tr>\n",
       "      <th>415</th>\n",
       "      <td>1307</td>\n",
       "      <td>0</td>\n",
       "    </tr>\n",
       "    <tr>\n",
       "      <th>416</th>\n",
       "      <td>1308</td>\n",
       "      <td>0</td>\n",
       "    </tr>\n",
       "    <tr>\n",
       "      <th>417</th>\n",
       "      <td>1309</td>\n",
       "      <td>1</td>\n",
       "    </tr>\n",
       "  </tbody>\n",
       "</table>\n",
       "<p>418 rows × 2 columns</p>\n",
       "</div>"
      ],
      "text/plain": [
       "     PassengerId  Survived\n",
       "0            892         0\n",
       "1            893         0\n",
       "2            894         0\n",
       "3            895         0\n",
       "4            896         1\n",
       "..           ...       ...\n",
       "413         1305         0\n",
       "414         1306         1\n",
       "415         1307         0\n",
       "416         1308         0\n",
       "417         1309         1\n",
       "\n",
       "[418 rows x 2 columns]"
      ]
     },
     "execution_count": 182,
     "metadata": {},
     "output_type": "execute_result"
    }
   ],
   "source": [
    "submission"
   ]
  },
  {
   "cell_type": "code",
   "execution_count": null,
   "id": "405b4ce0",
   "metadata": {},
   "outputs": [],
   "source": []
  }
 ],
 "metadata": {
  "kernelspec": {
   "display_name": "Python 3 (ipykernel)",
   "language": "python",
   "name": "python3"
  },
  "language_info": {
   "codemirror_mode": {
    "name": "ipython",
    "version": 3
   },
   "file_extension": ".py",
   "mimetype": "text/x-python",
   "name": "python",
   "nbconvert_exporter": "python",
   "pygments_lexer": "ipython3",
   "version": "3.9.13"
  }
 },
 "nbformat": 4,
 "nbformat_minor": 5
}
