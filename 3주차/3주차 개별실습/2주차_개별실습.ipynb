{
 "cells": [
  {
   "cell_type": "code",
   "execution_count": 2,
   "id": "044b28a4",
   "metadata": {},
   "outputs": [],
   "source": [
    "import pandas as pd\n",
    "import numpy as np\n",
    "%matplotlib inline\n",
    "import matplotlib.pyplot as plt\n",
    "import seaborn as sns\n",
    "plt.style.use('ggplot')\n",
    "\n",
    "import random\n",
    "np.random.seed(123)\n",
    "random.seed(123)"
   ]
  },
  {
   "cell_type": "markdown",
   "id": "9b4f231b",
   "metadata": {},
   "source": [
    "### 데이터 구성\n",
    "- Pregnancies : 임신 횟수\n",
    "- Glucose : 2시간 동안의 경구 포도당 내성 검사에서 혈장 포도당 농도\n",
    "- BloodPressure : 이완기 혈압 (mm Hg)\n",
    "- SkinThickness : 삼두근 피부 주름 두께 (mm), 체지방을 추정하는데 사용되는 값\n",
    "- Insulin : 2시간 혈청 인슐린 (mu U / ml)\n",
    "- BMI : 체질량 지수 (체중kg / 키(m)^2)\n",
    "- DiabetesPedigreeFunction : 당뇨병 혈통 기능\n",
    "- Age : 나이\n",
    "- Outcome : 768개 중에 268개의 결과 클래스 변수(0 또는 1)는 1이고 나머지는 0입니다."
   ]
  },
  {
   "cell_type": "code",
   "execution_count": 3,
   "id": "0cfc3b7f",
   "metadata": {},
   "outputs": [
    {
     "data": {
      "text/html": [
       "<div>\n",
       "<style scoped>\n",
       "    .dataframe tbody tr th:only-of-type {\n",
       "        vertical-align: middle;\n",
       "    }\n",
       "\n",
       "    .dataframe tbody tr th {\n",
       "        vertical-align: top;\n",
       "    }\n",
       "\n",
       "    .dataframe thead th {\n",
       "        text-align: right;\n",
       "    }\n",
       "</style>\n",
       "<table border=\"1\" class=\"dataframe\">\n",
       "  <thead>\n",
       "    <tr style=\"text-align: right;\">\n",
       "      <th></th>\n",
       "      <th>Pregnancies</th>\n",
       "      <th>Glucose</th>\n",
       "      <th>BloodPressure</th>\n",
       "      <th>SkinThickness</th>\n",
       "      <th>Insulin</th>\n",
       "      <th>BMI</th>\n",
       "      <th>DiabetesPedigreeFunction</th>\n",
       "      <th>Age</th>\n",
       "      <th>Outcome</th>\n",
       "    </tr>\n",
       "  </thead>\n",
       "  <tbody>\n",
       "    <tr>\n",
       "      <th>0</th>\n",
       "      <td>6</td>\n",
       "      <td>148</td>\n",
       "      <td>72</td>\n",
       "      <td>35</td>\n",
       "      <td>0</td>\n",
       "      <td>33.6</td>\n",
       "      <td>0.627</td>\n",
       "      <td>50</td>\n",
       "      <td>1</td>\n",
       "    </tr>\n",
       "    <tr>\n",
       "      <th>1</th>\n",
       "      <td>1</td>\n",
       "      <td>85</td>\n",
       "      <td>66</td>\n",
       "      <td>29</td>\n",
       "      <td>0</td>\n",
       "      <td>26.6</td>\n",
       "      <td>0.351</td>\n",
       "      <td>31</td>\n",
       "      <td>0</td>\n",
       "    </tr>\n",
       "    <tr>\n",
       "      <th>2</th>\n",
       "      <td>8</td>\n",
       "      <td>183</td>\n",
       "      <td>64</td>\n",
       "      <td>0</td>\n",
       "      <td>0</td>\n",
       "      <td>23.3</td>\n",
       "      <td>0.672</td>\n",
       "      <td>32</td>\n",
       "      <td>1</td>\n",
       "    </tr>\n",
       "    <tr>\n",
       "      <th>3</th>\n",
       "      <td>1</td>\n",
       "      <td>89</td>\n",
       "      <td>66</td>\n",
       "      <td>23</td>\n",
       "      <td>94</td>\n",
       "      <td>28.1</td>\n",
       "      <td>0.167</td>\n",
       "      <td>21</td>\n",
       "      <td>0</td>\n",
       "    </tr>\n",
       "    <tr>\n",
       "      <th>4</th>\n",
       "      <td>0</td>\n",
       "      <td>137</td>\n",
       "      <td>40</td>\n",
       "      <td>35</td>\n",
       "      <td>168</td>\n",
       "      <td>43.1</td>\n",
       "      <td>2.288</td>\n",
       "      <td>33</td>\n",
       "      <td>1</td>\n",
       "    </tr>\n",
       "  </tbody>\n",
       "</table>\n",
       "</div>"
      ],
      "text/plain": [
       "   Pregnancies  Glucose  BloodPressure  SkinThickness  Insulin   BMI  \\\n",
       "0            6      148             72             35        0  33.6   \n",
       "1            1       85             66             29        0  26.6   \n",
       "2            8      183             64              0        0  23.3   \n",
       "3            1       89             66             23       94  28.1   \n",
       "4            0      137             40             35      168  43.1   \n",
       "\n",
       "   DiabetesPedigreeFunction  Age  Outcome  \n",
       "0                     0.627   50        1  \n",
       "1                     0.351   31        0  \n",
       "2                     0.672   32        1  \n",
       "3                     0.167   21        0  \n",
       "4                     2.288   33        1  "
      ]
     },
     "execution_count": 3,
     "metadata": {},
     "output_type": "execute_result"
    }
   ],
   "source": [
    "train_df = pd.read_csv('Training.csv')\n",
    "test_df = pd.read_csv('Testing.csv')\n",
    "\n",
    "train_df.head()"
   ]
  },
  {
   "cell_type": "code",
   "execution_count": 4,
   "id": "f4aafcb6",
   "metadata": {},
   "outputs": [
    {
     "data": {
      "text/html": [
       "<div>\n",
       "<style scoped>\n",
       "    .dataframe tbody tr th:only-of-type {\n",
       "        vertical-align: middle;\n",
       "    }\n",
       "\n",
       "    .dataframe tbody tr th {\n",
       "        vertical-align: top;\n",
       "    }\n",
       "\n",
       "    .dataframe thead th {\n",
       "        text-align: right;\n",
       "    }\n",
       "</style>\n",
       "<table border=\"1\" class=\"dataframe\">\n",
       "  <thead>\n",
       "    <tr style=\"text-align: right;\">\n",
       "      <th></th>\n",
       "      <th>Pregnancies</th>\n",
       "      <th>Glucose</th>\n",
       "      <th>BloodPressure</th>\n",
       "      <th>SkinThickness</th>\n",
       "      <th>Insulin</th>\n",
       "      <th>BMI</th>\n",
       "      <th>DiabetesPedigreeFunction</th>\n",
       "      <th>Age</th>\n",
       "      <th>Outcome</th>\n",
       "    </tr>\n",
       "  </thead>\n",
       "  <tbody>\n",
       "    <tr>\n",
       "      <th>count</th>\n",
       "      <td>2460.000000</td>\n",
       "      <td>2460.000000</td>\n",
       "      <td>2460.000000</td>\n",
       "      <td>2460.000000</td>\n",
       "      <td>2460.000000</td>\n",
       "      <td>2460.000000</td>\n",
       "      <td>2460.000000</td>\n",
       "      <td>2460.000000</td>\n",
       "      <td>2460.000000</td>\n",
       "    </tr>\n",
       "    <tr>\n",
       "      <th>mean</th>\n",
       "      <td>3.817480</td>\n",
       "      <td>121.602033</td>\n",
       "      <td>68.915041</td>\n",
       "      <td>20.531301</td>\n",
       "      <td>80.119919</td>\n",
       "      <td>31.990447</td>\n",
       "      <td>0.491440</td>\n",
       "      <td>32.821951</td>\n",
       "      <td>0.390244</td>\n",
       "    </tr>\n",
       "    <tr>\n",
       "      <th>std</th>\n",
       "      <td>3.296458</td>\n",
       "      <td>31.789270</td>\n",
       "      <td>19.082655</td>\n",
       "      <td>15.716901</td>\n",
       "      <td>116.765807</td>\n",
       "      <td>7.802569</td>\n",
       "      <td>0.363917</td>\n",
       "      <td>11.251208</td>\n",
       "      <td>0.487904</td>\n",
       "    </tr>\n",
       "    <tr>\n",
       "      <th>min</th>\n",
       "      <td>0.000000</td>\n",
       "      <td>0.000000</td>\n",
       "      <td>0.000000</td>\n",
       "      <td>0.000000</td>\n",
       "      <td>0.000000</td>\n",
       "      <td>0.000000</td>\n",
       "      <td>0.078000</td>\n",
       "      <td>21.000000</td>\n",
       "      <td>0.000000</td>\n",
       "    </tr>\n",
       "    <tr>\n",
       "      <th>25%</th>\n",
       "      <td>1.000000</td>\n",
       "      <td>100.000000</td>\n",
       "      <td>64.000000</td>\n",
       "      <td>0.000000</td>\n",
       "      <td>0.000000</td>\n",
       "      <td>27.100000</td>\n",
       "      <td>0.251750</td>\n",
       "      <td>24.000000</td>\n",
       "      <td>0.000000</td>\n",
       "    </tr>\n",
       "    <tr>\n",
       "      <th>50%</th>\n",
       "      <td>3.000000</td>\n",
       "      <td>117.000000</td>\n",
       "      <td>70.000000</td>\n",
       "      <td>23.000000</td>\n",
       "      <td>36.000000</td>\n",
       "      <td>32.100000</td>\n",
       "      <td>0.381000</td>\n",
       "      <td>29.000000</td>\n",
       "      <td>0.000000</td>\n",
       "    </tr>\n",
       "    <tr>\n",
       "      <th>75%</th>\n",
       "      <td>6.000000</td>\n",
       "      <td>142.000000</td>\n",
       "      <td>80.000000</td>\n",
       "      <td>33.000000</td>\n",
       "      <td>129.000000</td>\n",
       "      <td>36.500000</td>\n",
       "      <td>0.647000</td>\n",
       "      <td>39.000000</td>\n",
       "      <td>1.000000</td>\n",
       "    </tr>\n",
       "    <tr>\n",
       "      <th>max</th>\n",
       "      <td>17.000000</td>\n",
       "      <td>197.000000</td>\n",
       "      <td>122.000000</td>\n",
       "      <td>63.000000</td>\n",
       "      <td>846.000000</td>\n",
       "      <td>67.100000</td>\n",
       "      <td>2.420000</td>\n",
       "      <td>81.000000</td>\n",
       "      <td>1.000000</td>\n",
       "    </tr>\n",
       "  </tbody>\n",
       "</table>\n",
       "</div>"
      ],
      "text/plain": [
       "       Pregnancies      Glucose  BloodPressure  SkinThickness      Insulin  \\\n",
       "count  2460.000000  2460.000000    2460.000000    2460.000000  2460.000000   \n",
       "mean      3.817480   121.602033      68.915041      20.531301    80.119919   \n",
       "std       3.296458    31.789270      19.082655      15.716901   116.765807   \n",
       "min       0.000000     0.000000       0.000000       0.000000     0.000000   \n",
       "25%       1.000000   100.000000      64.000000       0.000000     0.000000   \n",
       "50%       3.000000   117.000000      70.000000      23.000000    36.000000   \n",
       "75%       6.000000   142.000000      80.000000      33.000000   129.000000   \n",
       "max      17.000000   197.000000     122.000000      63.000000   846.000000   \n",
       "\n",
       "               BMI  DiabetesPedigreeFunction          Age      Outcome  \n",
       "count  2460.000000               2460.000000  2460.000000  2460.000000  \n",
       "mean     31.990447                  0.491440    32.821951     0.390244  \n",
       "std       7.802569                  0.363917    11.251208     0.487904  \n",
       "min       0.000000                  0.078000    21.000000     0.000000  \n",
       "25%      27.100000                  0.251750    24.000000     0.000000  \n",
       "50%      32.100000                  0.381000    29.000000     0.000000  \n",
       "75%      36.500000                  0.647000    39.000000     1.000000  \n",
       "max      67.100000                  2.420000    81.000000     1.000000  "
      ]
     },
     "execution_count": 4,
     "metadata": {},
     "output_type": "execute_result"
    }
   ],
   "source": [
    "train_df.describe()\n",
    "#임신횟수를 제외한 다른 변수들의 최소값이 0인 경우, 이를 결측값으로 봄"
   ]
  },
  {
   "cell_type": "code",
   "execution_count": 5,
   "id": "2d7f310d",
   "metadata": {},
   "outputs": [
    {
     "name": "stdout",
     "output_type": "stream",
     "text": [
      "<class 'pandas.core.frame.DataFrame'>\n",
      "RangeIndex: 2460 entries, 0 to 2459\n",
      "Data columns (total 9 columns):\n",
      " #   Column                    Non-Null Count  Dtype  \n",
      "---  ------                    --------------  -----  \n",
      " 0   Pregnancies               2460 non-null   int64  \n",
      " 1   Glucose                   2460 non-null   int64  \n",
      " 2   BloodPressure             2460 non-null   int64  \n",
      " 3   SkinThickness             2460 non-null   int64  \n",
      " 4   Insulin                   2460 non-null   int64  \n",
      " 5   BMI                       2460 non-null   float64\n",
      " 6   DiabetesPedigreeFunction  2460 non-null   float64\n",
      " 7   Age                       2460 non-null   int64  \n",
      " 8   Outcome                   2460 non-null   int64  \n",
      "dtypes: float64(2), int64(7)\n",
      "memory usage: 173.1 KB\n"
     ]
    }
   ],
   "source": [
    "train_df.info()"
   ]
  },
  {
   "cell_type": "code",
   "execution_count": 6,
   "id": "da15ad7b",
   "metadata": {},
   "outputs": [
    {
     "data": {
      "text/plain": [
       "(array([ 17.,   0.,  12.,  84., 399., 760., 464., 375., 172., 177.]),\n",
       " array([  0. ,  19.7,  39.4,  59.1,  78.8,  98.5, 118.2, 137.9, 157.6,\n",
       "        177.3, 197. ]),\n",
       " <BarContainer object of 10 artists>)"
      ]
     },
     "execution_count": 6,
     "metadata": {},
     "output_type": "execute_result"
    },
    {
     "data": {
      "image/png": "[encoded data removed]",
      "text/plain": [
       "<Figure size 640x480 with 1 Axes>"
      ]
     },
     "metadata": {},
     "output_type": "display_data"
    }
   ],
   "source": [
    "plt.hist(train_df['Glucose'], bins=10) #0값을 결측치 처리"
   ]
  },
  {
   "cell_type": "code",
   "execution_count": 7,
   "id": "6858eb7c",
   "metadata": {},
   "outputs": [
    {
     "data": {
      "text/plain": [
       "(array([114.,   0.,   8.,  36., 289., 959., 734., 271.,  39.,  10.]),\n",
       " array([  0. ,  12.2,  24.4,  36.6,  48.8,  61. ,  73.2,  85.4,  97.6,\n",
       "        109.8, 122. ]),\n",
       " <BarContainer object of 10 artists>)"
      ]
     },
     "execution_count": 7,
     "metadata": {},
     "output_type": "execute_result"
    },
    {
     "data": {
      "image/png": "[encoded data removed]",
      "text/plain": [
       "<Figure size 640x480 with 1 Axes>"
      ]
     },
     "metadata": {},
     "output_type": "display_data"
    }
   ],
   "source": [
    "plt.hist(train_df['BloodPressure'], bins=10) #0값을 결측치 처리"
   ]
  },
  {
   "cell_type": "code",
   "execution_count": 8,
   "id": "14a8bf89",
   "metadata": {},
   "outputs": [
    {
     "data": {
      "text/plain": [
       "(array([717.,  71., 250., 329., 363., 364., 267.,  64.,  27.,   8.]),\n",
       " array([ 0. ,  6.3, 12.6, 18.9, 25.2, 31.5, 37.8, 44.1, 50.4, 56.7, 63. ]),\n",
       " <BarContainer object of 10 artists>)"
      ]
     },
     "execution_count": 8,
     "metadata": {},
     "output_type": "execute_result"
    },
    {
     "data": {
      "image/png": "[encoded data removed]",
      "text/plain": [
       "<Figure size 640x480 with 1 Axes>"
      ]
     },
     "metadata": {},
     "output_type": "display_data"
    }
   ],
   "source": [
    "plt.hist(train_df['SkinThickness'], bins=10) #0값을 결측치 처리"
   ]
  },
  {
   "cell_type": "code",
   "execution_count": 9,
   "id": "9a8f4229",
   "metadata": {
    "scrolled": true
   },
   "outputs": [
    {
     "data": {
      "text/plain": [
       "(array([1589.,  453.,  226.,  109.,   29.,   25.,   15.,    0.,   12.,\n",
       "           2.]),\n",
       " array([  0. ,  84.6, 169.2, 253.8, 338.4, 423. , 507.6, 592.2, 676.8,\n",
       "        761.4, 846. ]),\n",
       " <BarContainer object of 10 artists>)"
      ]
     },
     "execution_count": 9,
     "metadata": {},
     "output_type": "execute_result"
    },
    {
     "data": {
      "image/png": "[encoded data removed]",
      "text/plain": [
       "<Figure size 640x480 with 1 Axes>"
      ]
     },
     "metadata": {},
     "output_type": "display_data"
    }
   ],
   "source": [
    "plt.hist(train_df['Insulin'], bins=10) #당뇨병 환자의 경우, 스스로 인슐린 생성을 하지 못해 0이 나오는 경우가 있음"
   ]
  },
  {
   "cell_type": "markdown",
   "id": "c249c37d",
   "metadata": {},
   "source": [
    "### 인슐린 정도가 10 이하인 경우, 당뇨병 진단 결과\n",
    "- outcome이 0인 경우만 결측치 처리를 해야겠다"
   ]
  },
  {
   "cell_type": "code",
   "execution_count": 10,
   "id": "a10215a8",
   "metadata": {},
   "outputs": [
    {
     "name": "stdout",
     "output_type": "stream",
     "text": [
      "688 493\n"
     ]
    },
    {
     "data": {
      "image/png": "[encoded data removed]",
      "text/plain": [
       "<Figure size 800x600 with 1 Axes>"
      ]
     },
     "metadata": {},
     "output_type": "display_data"
    }
   ],
   "source": [
    "insul10 = train_df[train_df['Insulin']<= 10]\n",
    "outcome0 = insul10[insul10['Outcome']==0]\n",
    "outcome1 = insul10[insul10['Outcome']==1]\n",
    "print(len(outcome0), len(outcome1))\n",
    "\n",
    "plt.figure(figsize=(8, 6))\n",
    "plt.bar(['Outcome 0', 'Outcome 1'], [len(outcome0), len(outcome1)], color=['blue', 'red'])\n",
    "plt.show()"
   ]
  },
  {
   "cell_type": "code",
   "execution_count": 11,
   "id": "606f07f5",
   "metadata": {},
   "outputs": [
    {
     "data": {
      "text/plain": [
       "(array([ 31.,   0.,  49., 522., 827., 730., 246.,  45.,   7.,   3.]),\n",
       " array([ 0.  ,  6.71, 13.42, 20.13, 26.84, 33.55, 40.26, 46.97, 53.68,\n",
       "        60.39, 67.1 ]),\n",
       " <BarContainer object of 10 artists>)"
      ]
     },
     "execution_count": 11,
     "metadata": {},
     "output_type": "execute_result"
    },
    {
     "data": {
      "image/png": "[encoded data removed]",
      "text/plain": [
       "<Figure size 640x480 with 1 Axes>"
      ]
     },
     "metadata": {},
     "output_type": "display_data"
    }
   ],
   "source": [
    "plt.hist(train_df['BMI'], bins=10) #0값을 결측치 처리"
   ]
  },
  {
   "cell_type": "code",
   "execution_count": 12,
   "id": "9ce7dc0e",
   "metadata": {},
   "outputs": [
    {
     "data": {
      "text/plain": [
       "(array([974., 686., 442., 180.,  75.,  51.,   4.,  24.,   4.,  20.]),\n",
       " array([0.078 , 0.3122, 0.5464, 0.7806, 1.0148, 1.249 , 1.4832, 1.7174,\n",
       "        1.9516, 2.1858, 2.42  ]),\n",
       " <BarContainer object of 10 artists>)"
      ]
     },
     "execution_count": 12,
     "metadata": {},
     "output_type": "execute_result"
    },
    {
     "data": {
      "image/png": "[encoded data removed]",
      "text/plain": [
       "<Figure size 640x480 with 1 Axes>"
      ]
     },
     "metadata": {},
     "output_type": "display_data"
    }
   ],
   "source": [
    "plt.hist(train_df['DiabetesPedigreeFunction'], bins=10) #0부터 시작하는 값으로, 높을 수록 가족 중 당뇨병 발생 위험이 더 높음을 의미."
   ]
  },
  {
   "cell_type": "markdown",
   "id": "5c46e7f3",
   "metadata": {},
   "source": [
    "### 상관 행렬"
   ]
  },
  {
   "cell_type": "code",
   "execution_count": 13,
   "id": "4495a59c",
   "metadata": {},
   "outputs": [
    {
     "data": {
      "text/html": [
       "<div>\n",
       "<style scoped>\n",
       "    .dataframe tbody tr th:only-of-type {\n",
       "        vertical-align: middle;\n",
       "    }\n",
       "\n",
       "    .dataframe tbody tr th {\n",
       "        vertical-align: top;\n",
       "    }\n",
       "\n",
       "    .dataframe thead th {\n",
       "        text-align: right;\n",
       "    }\n",
       "</style>\n",
       "<table border=\"1\" class=\"dataframe\">\n",
       "  <thead>\n",
       "    <tr style=\"text-align: right;\">\n",
       "      <th></th>\n",
       "      <th>Pregnancies</th>\n",
       "      <th>Glucose</th>\n",
       "      <th>BloodPressure</th>\n",
       "      <th>SkinThickness</th>\n",
       "      <th>Insulin</th>\n",
       "      <th>BMI</th>\n",
       "      <th>DiabetesPedigreeFunction</th>\n",
       "      <th>Age</th>\n",
       "      <th>Outcome</th>\n",
       "    </tr>\n",
       "  </thead>\n",
       "  <tbody>\n",
       "    <tr>\n",
       "      <th>Pregnancies</th>\n",
       "      <td>1.000000</td>\n",
       "      <td>0.185535</td>\n",
       "      <td>0.110625</td>\n",
       "      <td>-0.029415</td>\n",
       "      <td>-0.030863</td>\n",
       "      <td>0.094674</td>\n",
       "      <td>-0.053568</td>\n",
       "      <td>0.541545</td>\n",
       "      <td>0.218263</td>\n",
       "    </tr>\n",
       "    <tr>\n",
       "      <th>Glucose</th>\n",
       "      <td>0.185535</td>\n",
       "      <td>1.000000</td>\n",
       "      <td>0.116223</td>\n",
       "      <td>0.058602</td>\n",
       "      <td>0.351118</td>\n",
       "      <td>0.252411</td>\n",
       "      <td>0.167317</td>\n",
       "      <td>0.270796</td>\n",
       "      <td>0.440045</td>\n",
       "    </tr>\n",
       "    <tr>\n",
       "      <th>BloodPressure</th>\n",
       "      <td>0.110625</td>\n",
       "      <td>0.116223</td>\n",
       "      <td>1.000000</td>\n",
       "      <td>0.205257</td>\n",
       "      <td>0.102433</td>\n",
       "      <td>0.245112</td>\n",
       "      <td>0.007001</td>\n",
       "      <td>0.202828</td>\n",
       "      <td>0.069604</td>\n",
       "    </tr>\n",
       "    <tr>\n",
       "      <th>SkinThickness</th>\n",
       "      <td>-0.029415</td>\n",
       "      <td>0.058602</td>\n",
       "      <td>0.205257</td>\n",
       "      <td>1.000000</td>\n",
       "      <td>0.478468</td>\n",
       "      <td>0.376467</td>\n",
       "      <td>0.173692</td>\n",
       "      <td>-0.130043</td>\n",
       "      <td>0.071114</td>\n",
       "    </tr>\n",
       "    <tr>\n",
       "      <th>Insulin</th>\n",
       "      <td>-0.030863</td>\n",
       "      <td>0.351118</td>\n",
       "      <td>0.102433</td>\n",
       "      <td>0.478468</td>\n",
       "      <td>1.000000</td>\n",
       "      <td>0.204730</td>\n",
       "      <td>0.228555</td>\n",
       "      <td>-0.017574</td>\n",
       "      <td>0.109022</td>\n",
       "    </tr>\n",
       "    <tr>\n",
       "      <th>BMI</th>\n",
       "      <td>0.094674</td>\n",
       "      <td>0.252411</td>\n",
       "      <td>0.245112</td>\n",
       "      <td>0.376467</td>\n",
       "      <td>0.204730</td>\n",
       "      <td>1.000000</td>\n",
       "      <td>0.123726</td>\n",
       "      <td>0.067208</td>\n",
       "      <td>0.308345</td>\n",
       "    </tr>\n",
       "    <tr>\n",
       "      <th>DiabetesPedigreeFunction</th>\n",
       "      <td>-0.053568</td>\n",
       "      <td>0.167317</td>\n",
       "      <td>0.007001</td>\n",
       "      <td>0.173692</td>\n",
       "      <td>0.228555</td>\n",
       "      <td>0.123726</td>\n",
       "      <td>1.000000</td>\n",
       "      <td>0.041072</td>\n",
       "      <td>0.160543</td>\n",
       "    </tr>\n",
       "    <tr>\n",
       "      <th>Age</th>\n",
       "      <td>0.541545</td>\n",
       "      <td>0.270796</td>\n",
       "      <td>0.202828</td>\n",
       "      <td>-0.130043</td>\n",
       "      <td>-0.017574</td>\n",
       "      <td>0.067208</td>\n",
       "      <td>0.041072</td>\n",
       "      <td>1.000000</td>\n",
       "      <td>0.217349</td>\n",
       "    </tr>\n",
       "    <tr>\n",
       "      <th>Outcome</th>\n",
       "      <td>0.218263</td>\n",
       "      <td>0.440045</td>\n",
       "      <td>0.069604</td>\n",
       "      <td>0.071114</td>\n",
       "      <td>0.109022</td>\n",
       "      <td>0.308345</td>\n",
       "      <td>0.160543</td>\n",
       "      <td>0.217349</td>\n",
       "      <td>1.000000</td>\n",
       "    </tr>\n",
       "  </tbody>\n",
       "</table>\n",
       "</div>"
      ],
      "text/plain": [
       "                          Pregnancies   Glucose  BloodPressure  SkinThickness  \\\n",
       "Pregnancies                  1.000000  0.185535       0.110625      -0.029415   \n",
       "Glucose                      0.185535  1.000000       0.116223       0.058602   \n",
       "BloodPressure                0.110625  0.116223       1.000000       0.205257   \n",
       "SkinThickness               -0.029415  0.058602       0.205257       1.000000   \n",
       "Insulin                     -0.030863  0.351118       0.102433       0.478468   \n",
       "BMI                          0.094674  0.252411       0.245112       0.376467   \n",
       "DiabetesPedigreeFunction    -0.053568  0.167317       0.007001       0.173692   \n",
       "Age                          0.541545  0.270796       0.202828      -0.130043   \n",
       "Outcome                      0.218263  0.440045       0.069604       0.071114   \n",
       "\n",
       "                           Insulin       BMI  DiabetesPedigreeFunction  \\\n",
       "Pregnancies              -0.030863  0.094674                 -0.053568   \n",
       "Glucose                   0.351118  0.252411                  0.167317   \n",
       "BloodPressure             0.102433  0.245112                  0.007001   \n",
       "SkinThickness             0.478468  0.376467                  0.173692   \n",
       "Insulin                   1.000000  0.204730                  0.228555   \n",
       "BMI                       0.204730  1.000000                  0.123726   \n",
       "DiabetesPedigreeFunction  0.228555  0.123726                  1.000000   \n",
       "Age                      -0.017574  0.067208                  0.041072   \n",
       "Outcome                   0.109022  0.308345                  0.160543   \n",
       "\n",
       "                               Age   Outcome  \n",
       "Pregnancies               0.541545  0.218263  \n",
       "Glucose                   0.270796  0.440045  \n",
       "BloodPressure             0.202828  0.069604  \n",
       "SkinThickness            -0.130043  0.071114  \n",
       "Insulin                  -0.017574  0.109022  \n",
       "BMI                       0.067208  0.308345  \n",
       "DiabetesPedigreeFunction  0.041072  0.160543  \n",
       "Age                       1.000000  0.217349  \n",
       "Outcome                   0.217349  1.000000  "
      ]
     },
     "execution_count": 13,
     "metadata": {},
     "output_type": "execute_result"
    }
   ],
   "source": [
    "train_corr = train_df.corr()\n",
    "train_corr"
   ]
  },
  {
   "cell_type": "code",
   "execution_count": 17,
   "id": "0f6e2157",
   "metadata": {},
   "outputs": [
    {
     "data": {
      "image/png": "[encoded data removed]",
      "text/plain": [
       "<Figure size 900x900 with 2 Axes>"
      ]
     },
     "metadata": {},
     "output_type": "display_data"
    }
   ],
   "source": [
    "plt.figure(figsize=(9,9))\n",
    "sns.heatmap(train_corr, vmin=-1, vmax=1, center=0, annot=True)\n",
    "plt.show()"
   ]
  },
  {
   "cell_type": "markdown",
   "id": "30498fbb",
   "metadata": {},
   "source": [
    "### 전처리"
   ]
  },
  {
   "cell_type": "code",
   "execution_count": 15,
   "id": "0fe1e79c",
   "metadata": {},
   "outputs": [
    {
     "data": {
      "text/html": [
       "<div>\n",
       "<style scoped>\n",
       "    .dataframe tbody tr th:only-of-type {\n",
       "        vertical-align: middle;\n",
       "    }\n",
       "\n",
       "    .dataframe tbody tr th {\n",
       "        vertical-align: top;\n",
       "    }\n",
       "\n",
       "    .dataframe thead th {\n",
       "        text-align: right;\n",
       "    }\n",
       "</style>\n",
       "<table border=\"1\" class=\"dataframe\">\n",
       "  <thead>\n",
       "    <tr style=\"text-align: right;\">\n",
       "      <th></th>\n",
       "      <th>Pregnancies</th>\n",
       "      <th>Glucose</th>\n",
       "      <th>BloodPressure</th>\n",
       "      <th>SkinThickness</th>\n",
       "      <th>Insulin</th>\n",
       "      <th>BMI</th>\n",
       "      <th>DiabetesPedigreeFunction</th>\n",
       "      <th>Age</th>\n",
       "      <th>Outcome</th>\n",
       "    </tr>\n",
       "  </thead>\n",
       "  <tbody>\n",
       "    <tr>\n",
       "      <th>0</th>\n",
       "      <td>6</td>\n",
       "      <td>148</td>\n",
       "      <td>72</td>\n",
       "      <td>35</td>\n",
       "      <td>0</td>\n",
       "      <td>33.6</td>\n",
       "      <td>0.627</td>\n",
       "      <td>50</td>\n",
       "      <td>1</td>\n",
       "    </tr>\n",
       "    <tr>\n",
       "      <th>1</th>\n",
       "      <td>1</td>\n",
       "      <td>85</td>\n",
       "      <td>66</td>\n",
       "      <td>29</td>\n",
       "      <td>0</td>\n",
       "      <td>26.6</td>\n",
       "      <td>0.351</td>\n",
       "      <td>31</td>\n",
       "      <td>0</td>\n",
       "    </tr>\n",
       "    <tr>\n",
       "      <th>2</th>\n",
       "      <td>8</td>\n",
       "      <td>183</td>\n",
       "      <td>64</td>\n",
       "      <td>0</td>\n",
       "      <td>0</td>\n",
       "      <td>23.3</td>\n",
       "      <td>0.672</td>\n",
       "      <td>32</td>\n",
       "      <td>1</td>\n",
       "    </tr>\n",
       "    <tr>\n",
       "      <th>3</th>\n",
       "      <td>1</td>\n",
       "      <td>89</td>\n",
       "      <td>66</td>\n",
       "      <td>23</td>\n",
       "      <td>94</td>\n",
       "      <td>28.1</td>\n",
       "      <td>0.167</td>\n",
       "      <td>21</td>\n",
       "      <td>0</td>\n",
       "    </tr>\n",
       "    <tr>\n",
       "      <th>4</th>\n",
       "      <td>0</td>\n",
       "      <td>137</td>\n",
       "      <td>40</td>\n",
       "      <td>35</td>\n",
       "      <td>168</td>\n",
       "      <td>43.1</td>\n",
       "      <td>2.288</td>\n",
       "      <td>33</td>\n",
       "      <td>1</td>\n",
       "    </tr>\n",
       "    <tr>\n",
       "      <th>...</th>\n",
       "      <td>...</td>\n",
       "      <td>...</td>\n",
       "      <td>...</td>\n",
       "      <td>...</td>\n",
       "      <td>...</td>\n",
       "      <td>...</td>\n",
       "      <td>...</td>\n",
       "      <td>...</td>\n",
       "      <td>...</td>\n",
       "    </tr>\n",
       "    <tr>\n",
       "      <th>2763</th>\n",
       "      <td>10</td>\n",
       "      <td>101</td>\n",
       "      <td>76</td>\n",
       "      <td>48</td>\n",
       "      <td>180</td>\n",
       "      <td>32.9</td>\n",
       "      <td>0.171</td>\n",
       "      <td>63</td>\n",
       "      <td>0</td>\n",
       "    </tr>\n",
       "    <tr>\n",
       "      <th>2764</th>\n",
       "      <td>2</td>\n",
       "      <td>122</td>\n",
       "      <td>70</td>\n",
       "      <td>27</td>\n",
       "      <td>0</td>\n",
       "      <td>36.8</td>\n",
       "      <td>0.340</td>\n",
       "      <td>27</td>\n",
       "      <td>0</td>\n",
       "    </tr>\n",
       "    <tr>\n",
       "      <th>2765</th>\n",
       "      <td>5</td>\n",
       "      <td>121</td>\n",
       "      <td>72</td>\n",
       "      <td>23</td>\n",
       "      <td>112</td>\n",
       "      <td>26.2</td>\n",
       "      <td>0.245</td>\n",
       "      <td>30</td>\n",
       "      <td>0</td>\n",
       "    </tr>\n",
       "    <tr>\n",
       "      <th>2766</th>\n",
       "      <td>1</td>\n",
       "      <td>126</td>\n",
       "      <td>60</td>\n",
       "      <td>0</td>\n",
       "      <td>0</td>\n",
       "      <td>30.1</td>\n",
       "      <td>0.349</td>\n",
       "      <td>47</td>\n",
       "      <td>1</td>\n",
       "    </tr>\n",
       "    <tr>\n",
       "      <th>2767</th>\n",
       "      <td>1</td>\n",
       "      <td>93</td>\n",
       "      <td>70</td>\n",
       "      <td>31</td>\n",
       "      <td>0</td>\n",
       "      <td>30.4</td>\n",
       "      <td>0.315</td>\n",
       "      <td>23</td>\n",
       "      <td>0</td>\n",
       "    </tr>\n",
       "  </tbody>\n",
       "</table>\n",
       "<p>2768 rows × 9 columns</p>\n",
       "</div>"
      ],
      "text/plain": [
       "      Pregnancies  Glucose  BloodPressure  SkinThickness  Insulin   BMI  \\\n",
       "0               6      148             72             35        0  33.6   \n",
       "1               1       85             66             29        0  26.6   \n",
       "2               8      183             64              0        0  23.3   \n",
       "3               1       89             66             23       94  28.1   \n",
       "4               0      137             40             35      168  43.1   \n",
       "...           ...      ...            ...            ...      ...   ...   \n",
       "2763           10      101             76             48      180  32.9   \n",
       "2764            2      122             70             27        0  36.8   \n",
       "2765            5      121             72             23      112  26.2   \n",
       "2766            1      126             60              0        0  30.1   \n",
       "2767            1       93             70             31        0  30.4   \n",
       "\n",
       "      DiabetesPedigreeFunction  Age  Outcome  \n",
       "0                        0.627   50        1  \n",
       "1                        0.351   31        0  \n",
       "2                        0.672   32        1  \n",
       "3                        0.167   21        0  \n",
       "4                        2.288   33        1  \n",
       "...                        ...  ...      ...  \n",
       "2763                     0.171   63        0  \n",
       "2764                     0.340   27        0  \n",
       "2765                     0.245   30        0  \n",
       "2766                     0.349   47        1  \n",
       "2767                     0.315   23        0  \n",
       "\n",
       "[2768 rows x 9 columns]"
      ]
     },
     "execution_count": 15,
     "metadata": {},
     "output_type": "execute_result"
    }
   ],
   "source": [
    "df = pd.concat([train_df, test_df], sort = False).reset_index(drop = True)\n",
    "df"
   ]
  },
  {
   "cell_type": "code",
   "execution_count": 17,
   "id": "a41dc47e",
   "metadata": {},
   "outputs": [
    {
     "data": {
      "text/plain": [
       "Pregnancies                 0\n",
       "Glucose                     0\n",
       "BloodPressure               0\n",
       "SkinThickness               0\n",
       "Insulin                     0\n",
       "BMI                         0\n",
       "DiabetesPedigreeFunction    0\n",
       "Age                         0\n",
       "Outcome                     0\n",
       "dtype: int64"
      ]
     },
     "execution_count": 17,
     "metadata": {},
     "output_type": "execute_result"
    }
   ],
   "source": [
    "df.isnull().sum() #test 셋의 데이터에도 이미 outcome이 적혀있는 상황"
   ]
  },
  {
   "cell_type": "code",
   "execution_count": 18,
   "id": "9a918231",
   "metadata": {},
   "outputs": [],
   "source": [
    "test_df.drop(columns=['Outcome'], inplace=True)"
   ]
  },
  {
   "cell_type": "code",
   "execution_count": 19,
   "id": "8d8e14c5",
   "metadata": {},
   "outputs": [],
   "source": [
    "df = pd.concat([train_df, test_df], sort = False).reset_index(drop = True)"
   ]
  },
  {
   "cell_type": "code",
   "execution_count": 20,
   "id": "b23c3ae9",
   "metadata": {},
   "outputs": [
    {
     "data": {
      "text/plain": [
       "Pregnancies                   0\n",
       "Glucose                       0\n",
       "BloodPressure                 0\n",
       "SkinThickness                 0\n",
       "Insulin                       0\n",
       "BMI                           0\n",
       "DiabetesPedigreeFunction      0\n",
       "Age                           0\n",
       "Outcome                     308\n",
       "dtype: int64"
      ]
     },
     "execution_count": 20,
     "metadata": {},
     "output_type": "execute_result"
    }
   ],
   "source": [
    "df.isnull().sum()"
   ]
  },
  {
   "cell_type": "markdown",
   "id": "ade46ad6",
   "metadata": {},
   "source": [
    "### 결측치 처리가 필요한 변수\n",
    "- Glucose: 0값을 평균으로 대체\n",
    "- BooldPressure: 0값을 평균으로 대체\n",
    "- SkinThickness: 0값을 평균으로 대체\n",
    "- Insulin: outcome이 0인 경우만 평균으로 대체\n",
    "- BMI: 0값을 결측치 처리"
   ]
  },
  {
   "cell_type": "code",
   "execution_count": 21,
   "id": "8871ca25",
   "metadata": {},
   "outputs": [],
   "source": [
    "df['Glucose']=df['Glucose'].replace(0,np.NaN)\n",
    "df['BloodPressure']=df['BloodPressure'].replace(0,np.NaN)\n",
    "df['SkinThickness']=df['SkinThickness'].replace(0,np.NaN)\n",
    "df['BMI']=df['BMI'].replace(0,np.NaN)"
   ]
  },
  {
   "cell_type": "code",
   "execution_count": 22,
   "id": "88cca625",
   "metadata": {},
   "outputs": [],
   "source": [
    "test = (df['Insulin'] >= 0) & (df['Insulin'] <= 10) & (df['Outcome'] == 0)\n",
    "df.loc[test, 'Insulin'] = pd.NA"
   ]
  },
  {
   "cell_type": "code",
   "execution_count": 23,
   "id": "3ba1be28",
   "metadata": {},
   "outputs": [
    {
     "data": {
      "text/plain": [
       "Pregnancies                   0\n",
       "Glucose                      18\n",
       "BloodPressure               128\n",
       "SkinThickness               810\n",
       "Insulin                     688\n",
       "BMI                          35\n",
       "DiabetesPedigreeFunction      0\n",
       "Age                           0\n",
       "Outcome                     308\n",
       "dtype: int64"
      ]
     },
     "execution_count": 23,
     "metadata": {},
     "output_type": "execute_result"
    }
   ],
   "source": [
    "df.isnull().sum()"
   ]
  },
  {
   "cell_type": "code",
   "execution_count": 24,
   "id": "9a04c2e9",
   "metadata": {},
   "outputs": [
    {
     "data": {
      "text/plain": [
       "Pregnancies                   0\n",
       "Glucose                       0\n",
       "BloodPressure                 0\n",
       "SkinThickness                 0\n",
       "Insulin                       0\n",
       "BMI                           0\n",
       "DiabetesPedigreeFunction      0\n",
       "Age                           0\n",
       "Outcome                     308\n",
       "dtype: int64"
      ]
     },
     "execution_count": 24,
     "metadata": {},
     "output_type": "execute_result"
    }
   ],
   "source": [
    "df['Glucose']=df['Glucose'].fillna(df['Glucose'].mean())\n",
    "df['BloodPressure']=df['BloodPressure'].fillna(df['BloodPressure'].mean())\n",
    "df['SkinThickness']=df['SkinThickness'].fillna(df['SkinThickness'].mean())\n",
    "df['Insulin']=df['Insulin'].fillna(df['Insulin'].mean())\n",
    "df['BMI']=df['BMI'].fillna(df['Insulin'].mean())\n",
    "\n",
    "df.isnull().sum()"
   ]
  },
  {
   "cell_type": "markdown",
   "id": "947b7a62",
   "metadata": {},
   "source": [
    "### 학습데이터와 테스트 데이터로 분할"
   ]
  },
  {
   "cell_type": "code",
   "execution_count": 31,
   "id": "00070ef8",
   "metadata": {},
   "outputs": [],
   "source": [
    "train_x = df[~df['Outcome'].isnull()].drop('Outcome', axis = 1).reset_index(drop = True)\n",
    "train_y = train_df['Outcome']\n",
    "\n",
    "test_x = df[df['Outcome'].isnull()].drop('Outcome', axis = 1).reset_index(drop = True)"
   ]
  },
  {
   "cell_type": "markdown",
   "id": "f70da1da",
   "metadata": {},
   "source": [
    "### LightGBM"
   ]
  },
  {
   "cell_type": "code",
   "execution_count": 32,
   "id": "966a8ac1",
   "metadata": {},
   "outputs": [],
   "source": [
    "import lightgbm as lgb"
   ]
  },
  {
   "cell_type": "code",
   "execution_count": 33,
   "id": "3de53b5c",
   "metadata": {},
   "outputs": [],
   "source": [
    "from sklearn.model_selection import train_test_split\n",
    "from sklearn.model_selection import KFold"
   ]
  },
  {
   "cell_type": "code",
   "execution_count": 34,
   "id": "7d0f0619",
   "metadata": {},
   "outputs": [],
   "source": [
    "x_train, x_valid, y_train, y_valid = train_test_split(train_x, train_y, test_size = 0.2)"
   ]
  },
  {
   "cell_type": "code",
   "execution_count": 35,
   "id": "579941dc",
   "metadata": {},
   "outputs": [],
   "source": [
    "lgb_train = lgb.Dataset(x_train, y_train)\n",
    "lgb_eval = lgb.Dataset(x_valid, y_valid, reference = lgb_train)"
   ]
  },
  {
   "cell_type": "code",
   "execution_count": 36,
   "id": "178f9f12",
   "metadata": {},
   "outputs": [],
   "source": [
    "lgb_params = {\n",
    "    \"objective\" : \"binary\",\n",
    "    \"random_seed\" : 123\n",
    "}"
   ]
  },
  {
   "cell_type": "code",
   "execution_count": 37,
   "id": "c6c80f28",
   "metadata": {},
   "outputs": [
    {
     "name": "stdout",
     "output_type": "stream",
     "text": [
      "Training until validation scores don't improve for 20 rounds\n",
      "[10]\tvalid_0's binary_logloss: 0.247892\n",
      "[20]\tvalid_0's binary_logloss: 0.12525\n",
      "[30]\tvalid_0's binary_logloss: 0.0736215\n",
      "[40]\tvalid_0's binary_logloss: 0.0481161\n",
      "[50]\tvalid_0's binary_logloss: 0.0325115\n",
      "[60]\tvalid_0's binary_logloss: 0.0265119\n",
      "[70]\tvalid_0's binary_logloss: 0.0240815\n",
      "[80]\tvalid_0's binary_logloss: 0.0241107\n",
      "[90]\tvalid_0's binary_logloss: 0.023228\n",
      "[100]\tvalid_0's binary_logloss: 0.0233413\n",
      "Did not meet early stopping. Best iteration is:\n",
      "[96]\tvalid_0's binary_logloss: 0.0227587\n"
     ]
    }
   ],
   "source": [
    "model_lgb = lgb.train(lgb_params,\n",
    "                     lgb_train,\n",
    "                     valid_sets = lgb_eval,\n",
    "                     num_boost_round = 100,\n",
    "                     early_stopping_rounds = 20,\n",
    "                     verbose_eval = 10)"
   ]
  },
  {
   "cell_type": "code",
   "execution_count": 38,
   "id": "18126c21",
   "metadata": {},
   "outputs": [
    {
     "data": {
      "text/plain": [
       "array([201, 420, 258, 235, 622, 379, 452, 313])"
      ]
     },
     "execution_count": 38,
     "metadata": {},
     "output_type": "execute_result"
    }
   ],
   "source": [
    "model_lgb.feature_importance()"
   ]
  },
  {
   "cell_type": "code",
   "execution_count": 39,
   "id": "933b1512",
   "metadata": {},
   "outputs": [
    {
     "data": {
      "text/plain": [
       "<Axes: >"
      ]
     },
     "execution_count": 39,
     "metadata": {},
     "output_type": "execute_result"
    },
    {
     "data": {
      "image/png": "[encoded data removed]",
      "text/plain": [
       "<Figure size 640x480 with 1 Axes>"
      ]
     },
     "metadata": {},
     "output_type": "display_data"
    }
   ],
   "source": [
    "importance = pd.DataFrame(model_lgb.feature_importance(), index =x_train.columns,\n",
    "                         columns = ['importance']).sort_values(by = \"importance\", ascending = True)\n",
    "importance.plot.barh()"
   ]
  },
  {
   "cell_type": "code",
   "execution_count": 40,
   "id": "aad398a9",
   "metadata": {},
   "outputs": [],
   "source": [
    "y_pred = model_lgb.predict(x_valid, num_iteration = model_lgb.best_iteration)"
   ]
  },
  {
   "cell_type": "markdown",
   "id": "a6136d07",
   "metadata": {},
   "source": [
    "### 정확도 출력"
   ]
  },
  {
   "cell_type": "code",
   "execution_count": 41,
   "id": "04fd2b48",
   "metadata": {},
   "outputs": [],
   "source": [
    "from sklearn.metrics import accuracy_score"
   ]
  },
  {
   "cell_type": "code",
   "execution_count": 42,
   "id": "79c3125d",
   "metadata": {},
   "outputs": [
    {
     "data": {
      "text/plain": [
       "0.9959349593495935"
      ]
     },
     "execution_count": 42,
     "metadata": {},
     "output_type": "execute_result"
    }
   ],
   "source": [
    "accuracy_score(y_valid, np.round(y_pred))"
   ]
  },
  {
   "cell_type": "markdown",
   "id": "da2f6852",
   "metadata": {},
   "source": [
    "### 교차검증"
   ]
  },
  {
   "cell_type": "code",
   "execution_count": 43,
   "id": "505c14a0",
   "metadata": {},
   "outputs": [],
   "source": [
    "folds = 3\n",
    "kf = KFold(n_splits = folds)"
   ]
  },
  {
   "cell_type": "code",
   "execution_count": 44,
   "id": "431b2537",
   "metadata": {},
   "outputs": [
    {
     "name": "stdout",
     "output_type": "stream",
     "text": [
      "Training until validation scores don't improve for 20 rounds\n",
      "[10]\tvalid_0's binary_logloss: 0.270396\n",
      "[20]\tvalid_0's binary_logloss: 0.149008\n",
      "[30]\tvalid_0's binary_logloss: 0.0880567\n",
      "[40]\tvalid_0's binary_logloss: 0.0537629\n",
      "[50]\tvalid_0's binary_logloss: 0.0359597\n",
      "[60]\tvalid_0's binary_logloss: 0.0263912\n",
      "[70]\tvalid_0's binary_logloss: 0.0223885\n",
      "[80]\tvalid_0's binary_logloss: 0.01949\n",
      "[90]\tvalid_0's binary_logloss: 0.0185059\n",
      "[100]\tvalid_0's binary_logloss: 0.018375\n",
      "Did not meet early stopping. Best iteration is:\n",
      "[95]\tvalid_0's binary_logloss: 0.0180758\n",
      "0.9939024390243902\n",
      "Training until validation scores don't improve for 20 rounds\n",
      "[10]\tvalid_0's binary_logloss: 0.264103\n",
      "[20]\tvalid_0's binary_logloss: 0.128665\n",
      "[30]\tvalid_0's binary_logloss: 0.0684921\n",
      "[40]\tvalid_0's binary_logloss: 0.0361431\n",
      "[50]\tvalid_0's binary_logloss: 0.0194638\n",
      "[60]\tvalid_0's binary_logloss: 0.0104288\n",
      "[70]\tvalid_0's binary_logloss: 0.0056945\n",
      "[80]\tvalid_0's binary_logloss: 0.0030321\n",
      "[90]\tvalid_0's binary_logloss: 0.00162804\n",
      "[100]\tvalid_0's binary_logloss: 0.000878749\n",
      "Did not meet early stopping. Best iteration is:\n",
      "[100]\tvalid_0's binary_logloss: 0.000878749\n",
      "1.0\n",
      "Training until validation scores don't improve for 20 rounds\n",
      "[10]\tvalid_0's binary_logloss: 0.267146\n",
      "[20]\tvalid_0's binary_logloss: 0.13785\n",
      "[30]\tvalid_0's binary_logloss: 0.0757963\n",
      "[40]\tvalid_0's binary_logloss: 0.0424833\n",
      "[50]\tvalid_0's binary_logloss: 0.0238026\n",
      "[60]\tvalid_0's binary_logloss: 0.0135611\n",
      "[70]\tvalid_0's binary_logloss: 0.00769127\n",
      "[80]\tvalid_0's binary_logloss: 0.00450085\n",
      "[90]\tvalid_0's binary_logloss: 0.00238711\n",
      "[100]\tvalid_0's binary_logloss: 0.00137448\n",
      "Did not meet early stopping. Best iteration is:\n",
      "[100]\tvalid_0's binary_logloss: 0.00137448\n",
      "1.0\n"
     ]
    }
   ],
   "source": [
    "models = []\n",
    "for train_index, val_index in kf.split(train_x):\n",
    "    x_train = train_x.iloc[train_index]\n",
    "    x_valid = train_x.iloc[val_index]\n",
    "    y_train = train_y.iloc[train_index]\n",
    "    y_valid = train_y.iloc[val_index]\n",
    "    \n",
    "    lgb_train = lgb.Dataset(x_train, y_train)\n",
    "    lgb_eval = lgb.Dataset(x_valid, y_valid, reference = lgb_train)\n",
    "    model_lgb = lgb.train(lgb_params,\n",
    "                     lgb_train,\n",
    "                     valid_sets = lgb_eval,\n",
    "                     num_boost_round = 100,\n",
    "                     early_stopping_rounds = 20,\n",
    "                     verbose_eval = 10)\n",
    "    y_pred = model_lgb.predict(x_valid, num_iteration = model_lgb.best_iteration)\n",
    "    print(accuracy_score(y_valid, np.round(y_pred)))\n",
    "    models.append(model_lgb)"
   ]
  },
  {
   "cell_type": "code",
   "execution_count": 45,
   "id": "60b84c77",
   "metadata": {},
   "outputs": [],
   "source": [
    "preds = []\n",
    "\n",
    "for model in models:\n",
    "    pred = model.predict(test_x)\n",
    "    preds.append(pred)"
   ]
  },
  {
   "cell_type": "code",
   "execution_count": 46,
   "id": "526ea1b2",
   "metadata": {},
   "outputs": [],
   "source": [
    "preds_array =  np.array(preds)\n",
    "preds_mean = np.mean(preds_array, axis = 0)"
   ]
  },
  {
   "cell_type": "code",
   "execution_count": 47,
   "id": "01d7288a",
   "metadata": {},
   "outputs": [],
   "source": [
    "preds_int = (preds_mean > 0.5).astype(int)"
   ]
  },
  {
   "cell_type": "code",
   "execution_count": 48,
   "id": "308187db",
   "metadata": {},
   "outputs": [],
   "source": [
    "test_df['Preds_Int'] = (preds_mean > 0.5).astype(int)"
   ]
  },
  {
   "cell_type": "code",
   "execution_count": 49,
   "id": "5fa6bb8a",
   "metadata": {},
   "outputs": [
    {
     "data": {
      "text/html": [
       "<div>\n",
       "<style scoped>\n",
       "    .dataframe tbody tr th:only-of-type {\n",
       "        vertical-align: middle;\n",
       "    }\n",
       "\n",
       "    .dataframe tbody tr th {\n",
       "        vertical-align: top;\n",
       "    }\n",
       "\n",
       "    .dataframe thead th {\n",
       "        text-align: right;\n",
       "    }\n",
       "</style>\n",
       "<table border=\"1\" class=\"dataframe\">\n",
       "  <thead>\n",
       "    <tr style=\"text-align: right;\">\n",
       "      <th></th>\n",
       "      <th>Pregnancies</th>\n",
       "      <th>Glucose</th>\n",
       "      <th>BloodPressure</th>\n",
       "      <th>SkinThickness</th>\n",
       "      <th>Insulin</th>\n",
       "      <th>BMI</th>\n",
       "      <th>DiabetesPedigreeFunction</th>\n",
       "      <th>Age</th>\n",
       "      <th>Preds_Int</th>\n",
       "    </tr>\n",
       "  </thead>\n",
       "  <tbody>\n",
       "    <tr>\n",
       "      <th>0</th>\n",
       "      <td>9</td>\n",
       "      <td>120</td>\n",
       "      <td>72</td>\n",
       "      <td>22</td>\n",
       "      <td>56</td>\n",
       "      <td>20.8</td>\n",
       "      <td>0.733</td>\n",
       "      <td>48</td>\n",
       "      <td>0</td>\n",
       "    </tr>\n",
       "    <tr>\n",
       "      <th>1</th>\n",
       "      <td>1</td>\n",
       "      <td>71</td>\n",
       "      <td>62</td>\n",
       "      <td>0</td>\n",
       "      <td>0</td>\n",
       "      <td>21.8</td>\n",
       "      <td>0.416</td>\n",
       "      <td>26</td>\n",
       "      <td>1</td>\n",
       "    </tr>\n",
       "    <tr>\n",
       "      <th>2</th>\n",
       "      <td>8</td>\n",
       "      <td>74</td>\n",
       "      <td>70</td>\n",
       "      <td>40</td>\n",
       "      <td>49</td>\n",
       "      <td>35.3</td>\n",
       "      <td>0.705</td>\n",
       "      <td>39</td>\n",
       "      <td>0</td>\n",
       "    </tr>\n",
       "    <tr>\n",
       "      <th>3</th>\n",
       "      <td>5</td>\n",
       "      <td>88</td>\n",
       "      <td>78</td>\n",
       "      <td>30</td>\n",
       "      <td>0</td>\n",
       "      <td>27.6</td>\n",
       "      <td>0.258</td>\n",
       "      <td>37</td>\n",
       "      <td>1</td>\n",
       "    </tr>\n",
       "    <tr>\n",
       "      <th>4</th>\n",
       "      <td>10</td>\n",
       "      <td>115</td>\n",
       "      <td>98</td>\n",
       "      <td>0</td>\n",
       "      <td>0</td>\n",
       "      <td>24.0</td>\n",
       "      <td>1.022</td>\n",
       "      <td>34</td>\n",
       "      <td>1</td>\n",
       "    </tr>\n",
       "    <tr>\n",
       "      <th>...</th>\n",
       "      <td>...</td>\n",
       "      <td>...</td>\n",
       "      <td>...</td>\n",
       "      <td>...</td>\n",
       "      <td>...</td>\n",
       "      <td>...</td>\n",
       "      <td>...</td>\n",
       "      <td>...</td>\n",
       "      <td>...</td>\n",
       "    </tr>\n",
       "    <tr>\n",
       "      <th>303</th>\n",
       "      <td>10</td>\n",
       "      <td>101</td>\n",
       "      <td>76</td>\n",
       "      <td>48</td>\n",
       "      <td>180</td>\n",
       "      <td>32.9</td>\n",
       "      <td>0.171</td>\n",
       "      <td>63</td>\n",
       "      <td>1</td>\n",
       "    </tr>\n",
       "    <tr>\n",
       "      <th>304</th>\n",
       "      <td>2</td>\n",
       "      <td>122</td>\n",
       "      <td>70</td>\n",
       "      <td>27</td>\n",
       "      <td>0</td>\n",
       "      <td>36.8</td>\n",
       "      <td>0.340</td>\n",
       "      <td>27</td>\n",
       "      <td>1</td>\n",
       "    </tr>\n",
       "    <tr>\n",
       "      <th>305</th>\n",
       "      <td>5</td>\n",
       "      <td>121</td>\n",
       "      <td>72</td>\n",
       "      <td>23</td>\n",
       "      <td>112</td>\n",
       "      <td>26.2</td>\n",
       "      <td>0.245</td>\n",
       "      <td>30</td>\n",
       "      <td>0</td>\n",
       "    </tr>\n",
       "    <tr>\n",
       "      <th>306</th>\n",
       "      <td>1</td>\n",
       "      <td>126</td>\n",
       "      <td>60</td>\n",
       "      <td>0</td>\n",
       "      <td>0</td>\n",
       "      <td>30.1</td>\n",
       "      <td>0.349</td>\n",
       "      <td>47</td>\n",
       "      <td>1</td>\n",
       "    </tr>\n",
       "    <tr>\n",
       "      <th>307</th>\n",
       "      <td>1</td>\n",
       "      <td>93</td>\n",
       "      <td>70</td>\n",
       "      <td>31</td>\n",
       "      <td>0</td>\n",
       "      <td>30.4</td>\n",
       "      <td>0.315</td>\n",
       "      <td>23</td>\n",
       "      <td>1</td>\n",
       "    </tr>\n",
       "  </tbody>\n",
       "</table>\n",
       "<p>308 rows × 9 columns</p>\n",
       "</div>"
      ],
      "text/plain": [
       "     Pregnancies  Glucose  BloodPressure  SkinThickness  Insulin   BMI  \\\n",
       "0              9      120             72             22       56  20.8   \n",
       "1              1       71             62              0        0  21.8   \n",
       "2              8       74             70             40       49  35.3   \n",
       "3              5       88             78             30        0  27.6   \n",
       "4             10      115             98              0        0  24.0   \n",
       "..           ...      ...            ...            ...      ...   ...   \n",
       "303           10      101             76             48      180  32.9   \n",
       "304            2      122             70             27        0  36.8   \n",
       "305            5      121             72             23      112  26.2   \n",
       "306            1      126             60              0        0  30.1   \n",
       "307            1       93             70             31        0  30.4   \n",
       "\n",
       "     DiabetesPedigreeFunction  Age  Preds_Int  \n",
       "0                       0.733   48          0  \n",
       "1                       0.416   26          1  \n",
       "2                       0.705   39          0  \n",
       "3                       0.258   37          1  \n",
       "4                       1.022   34          1  \n",
       "..                        ...  ...        ...  \n",
       "303                     0.171   63          1  \n",
       "304                     0.340   27          1  \n",
       "305                     0.245   30          0  \n",
       "306                     0.349   47          1  \n",
       "307                     0.315   23          1  \n",
       "\n",
       "[308 rows x 9 columns]"
      ]
     },
     "execution_count": 49,
     "metadata": {},
     "output_type": "execute_result"
    }
   ],
   "source": [
    "test_df"
   ]
  },
  {
   "cell_type": "code",
   "execution_count": null,
   "id": "1ef54c14",
   "metadata": {},
   "outputs": [],
   "source": []
  }
 ],
 "metadata": {
  "kernelspec": {
   "display_name": "Python 3 (ipykernel)",
   "language": "python",
   "name": "python3"
  },
  "language_info": {
   "codemirror_mode": {
    "name": "ipython",
    "version": 3
   },
   "file_extension": ".py",
   "mimetype": "text/x-python",
   "name": "python",
   "nbconvert_exporter": "python",
   "pygments_lexer": "ipython3",
   "version": "3.9.13"
  }
 },
 "nbformat": 4,
 "nbformat_minor": 5
}
